{
 "cells": [
  {
   "cell_type": "markdown",
   "metadata": {},
   "source": [
    "# Timeseries\n",
    "\n",
    "---\n",
    "**Overview.**  This notebook describes tools for working with data that has associated with it dates and times. Economists often call this \"time series data\". We start with functionality built into python itself, i.e. the `datetime` package. We then discuss how Pandas builds on these tools to add powerful time series capabilities to DataFrames.\n",
    "\n",
    "**Outline**\n",
    "\n",
    "- [Dates in python](#datetime): Covers the basics of working with dates and times in python\n",
    "- [Dates in pandas](#pandas_dates): Shows how to use dates with pandas objects\n",
    "\n",
    "\n",
    "**Note: requires internet access to run.**  \n",
    "\n",
    "To run the code in this notebook, you need to have the quandl package installed. You can do this from the command line using:\n",
    "\n",
    "```\n",
    "pip install quandl --upgrade\n",
    "```\n",
    "\n",
    "---"
   ]
  },
  {
   "cell_type": "code",
   "execution_count": 1,
   "metadata": {},
   "outputs": [
    {
     "name": "stdout",
     "output_type": "stream",
     "text": [
      "Today:  2017-12-11\n"
     ]
    }
   ],
   "source": [
    "import pandas as pd                    # data package\n",
    "import matplotlib.pyplot as plt        # graphics module  \n",
    "import datetime as dt                  # date and time module\n",
    "import numpy as np\n",
    "\n",
    "%matplotlib inline    \n",
    "# Plot the stuff inline, also lets use this style\n",
    "plt.style.use(\"ggplot\")\n",
    "\n",
    "# quandl package\n",
    "import quandl\n",
    "\n",
    "print('Today: ', dt.date.today())\n",
    "\n",
    "\n",
    "# helper function to print info about dataframe\n",
    "def df_info(df):\n",
    "    print(\"Shape: \", df.shape)\n",
    "    print(\"dtypes: \", df.dtypes.to_dict())\n",
    "    print(\"index dtype: \", df.index.dtype)\n",
    "    return pd.concat([df.head(3), df.tail(3)])"
   ]
  },
  {
   "cell_type": "markdown",
   "metadata": {},
   "source": [
    "## Dates in python <a id=datetime></a>"
   ]
  },
  {
   "cell_type": "markdown",
   "metadata": {},
   "source": [
    "The date and time functionality in python comes from the built in `datetime` module. Notice above that we ran\n",
    "\n",
    "```python\n",
    "import datetime as dt\n",
    "```\n",
    "\n",
    "We've been using the `dt.date.today()` function throughout this course when we print the date at the top of our notebooks, but we haven't given it very much thought. Let's take a closer look now.\n",
    "\n",
    "To start, let's see what the type of `dt.date.today()` is"
   ]
  },
  {
   "cell_type": "code",
   "execution_count": 2,
   "metadata": {},
   "outputs": [
    {
     "name": "stdout",
     "output_type": "stream",
     "text": [
      "the type of today is  2017-12-11\n"
     ]
    }
   ],
   "source": [
    "today = dt.date.today()\n",
    "print(\"the type of today is \", today)"
   ]
  },
  {
   "cell_type": "markdown",
   "metadata": {},
   "source": [
    "Given that we have an object of type `datetime.date` we can do things like ask for the day, month, and year"
   ]
  },
  {
   "cell_type": "code",
   "execution_count": 3,
   "metadata": {},
   "outputs": [
    {
     "name": "stdout",
     "output_type": "stream",
     "text": [
      "the day of the month is:  11\n",
      "we are curretly in month number 12\n",
      "The year is 2017\n"
     ]
    }
   ],
   "source": [
    "print(\"the day of the month is: \", today.day)\n",
    "print(\"we are curretly in month number\", today.month)\n",
    "print(\"The year is\", today.year)"
   ]
  },
  {
   "cell_type": "markdown",
   "metadata": {},
   "source": [
    "### timedelta\n",
    "\n",
    "Suppose that we wanted to construct a \"days until\" counter. To do this we will construct another `datetime.date` and use the `-` operator to find the differene between the other date and today."
   ]
  },
  {
   "cell_type": "code",
   "execution_count": 5,
   "metadata": {
    "collapsed": true
   },
   "outputs": [],
   "source": [
    "# construct a date by hand\n",
    "new_years_eve = dt.date(2017, 12, 31)"
   ]
  },
  {
   "cell_type": "code",
   "execution_count": 6,
   "metadata": {
    "collapsed": true
   },
   "outputs": [],
   "source": [
    "until_nye = new_years_eve - today"
   ]
  },
  {
   "cell_type": "code",
   "execution_count": 7,
   "metadata": {
    "scrolled": true
   },
   "outputs": [
    {
     "name": "stdout",
     "output_type": "stream",
     "text": [
      "20 days, 0:00:00\n"
     ]
    }
   ],
   "source": [
    "print(until_nye)"
   ]
  },
  {
   "cell_type": "markdown",
   "metadata": {},
   "source": [
    "We can get the number of days until new years eve by looking at `until_nye.days`"
   ]
  },
  {
   "cell_type": "code",
   "execution_count": 8,
   "metadata": {
    "scrolled": true
   },
   "outputs": [
    {
     "data": {
      "text/plain": [
       "20"
      ]
     },
     "execution_count": 8,
     "metadata": {},
     "output_type": "execute_result"
    }
   ],
   "source": [
    "until_nye.days"
   ]
  },
  {
   "cell_type": "markdown",
   "metadata": {},
   "source": [
    "**Exercise**: Write a python function named `days_until` that accepts one argument (a `datetime.date`) and returns the number of days between today and that date. Apply your function to \n",
    "\n",
    "- December 21, 2017 (day the UG project is due)\n",
    "- Your birthday (HINT: unless your birthday is in late December, make sure to do 2017 as the year)"
   ]
  },
  {
   "cell_type": "markdown",
   "metadata": {},
   "source": [
    "We could also construct a `datetime.timedelta` by hand and add it to an existing date. Here's an example to see how many days until I turn 40!"
   ]
  },
  {
   "cell_type": "code",
   "execution_count": 9,
   "metadata": {
    "collapsed": true
   },
   "outputs": [],
   "source": [
    "mike_bday = dt.date(1978, 3, 28)\n",
    "\n",
    "# NOTE: add 10 for the 10 leap years between 1978 and 2019\n",
    "fourty_years = dt.timedelta(days=365*40 + 10)"
   ]
  },
  {
   "cell_type": "code",
   "execution_count": 10,
   "metadata": {},
   "outputs": [
    {
     "data": {
      "text/plain": [
       "datetime.date(2018, 3, 28)"
      ]
     },
     "execution_count": 10,
     "metadata": {},
     "output_type": "execute_result"
    }
   ],
   "source": [
    "# check to make sure it is still April 25th\n",
    "mike_bday + fourty_years"
   ]
  },
  {
   "cell_type": "code",
   "execution_count": 11,
   "metadata": {},
   "outputs": [
    {
     "name": "stdout",
     "output_type": "stream",
     "text": [
      "Mike will be 40 in 107 days\n"
     ]
    }
   ],
   "source": [
    "days_to_40 = (mike_bday + fourty_years - today).days\n",
    "\n",
    "print(\"Mike will be 40 in {} days\".format(days_to_40))"
   ]
  },
  {
   "cell_type": "markdown",
   "metadata": {},
   "source": [
    "### datetime\n",
    "\n",
    "Being able to work with dates and the difference between dates is very useful, but sometimes we need to also think about times. To do that, we will look to the `dt.datetime` module.\n",
    "\n",
    "We can get the current date and time using `dt.datetime.now()`:"
   ]
  },
  {
   "cell_type": "code",
   "execution_count": 17,
   "metadata": {},
   "outputs": [
    {
     "name": "stdout",
     "output_type": "stream",
     "text": [
      "2017-12-11 12:59:27.070054\n",
      "type of now: None\n"
     ]
    }
   ],
   "source": [
    "now = dt.datetime.now()\n",
    "print(\"type of now:\", print(now))"
   ]
  },
  {
   "cell_type": "markdown",
   "metadata": {},
   "source": [
    "The numbers in the printout above are `year`, `month`, `day`, `hour`, `minute`, `second`, `millisecond`.\n",
    "\n",
    "Because we still have day, month, year information ; we can access these properties just as we did for the `today`  above:"
   ]
  },
  {
   "cell_type": "code",
   "execution_count": 13,
   "metadata": {},
   "outputs": [
    {
     "name": "stdout",
     "output_type": "stream",
     "text": [
      "the day of the month is:  11\n",
      "we are curretly in month number 12\n",
      "The year is 2017\n",
      "The millisecond is 256159\n"
     ]
    }
   ],
   "source": [
    "print(\"the day of the month is: \", now.day)\n",
    "print(\"we are curretly in month number\", now.month)\n",
    "print(\"The year is\", now.year)\n",
    "print(\"The millisecond is\", now.microsecond)"
   ]
  },
  {
   "cell_type": "markdown",
   "metadata": {},
   "source": [
    "#### Unix Time Stamps\n",
    "\n",
    "These show up from time to time. [They are esentially the number of seconds (sometimes miliseconds) since Jan 1, 1970...why? I think it some Unix thing](https://en.wikipedia.org/wiki/Unix_time). Here is how we get the date:"
   ]
  },
  {
   "cell_type": "code",
   "execution_count": 18,
   "metadata": {},
   "outputs": [
    {
     "name": "stdout",
     "output_type": "stream",
     "text": [
      "the day of the month for the random time stamp is:  10\n",
      "the month is 12\n",
      "The year is 2017\n"
     ]
    }
   ],
   "source": [
    "random_time_stamp = dt.datetime.fromtimestamp(1512954660)\n",
    "\n",
    "print(\"the day of the month for the random time stamp is: \", random_time_stamp.day)\n",
    "print(\"the month is\", random_time_stamp.month)\n",
    "print(\"The year is\", random_time_stamp.year)"
   ]
  },
  {
   "cell_type": "code",
   "execution_count": 20,
   "metadata": {},
   "outputs": [
    {
     "name": "stdout",
     "output_type": "stream",
     "text": [
      "1522281600.0\n"
     ]
    }
   ],
   "source": [
    "mike_40_unix = (dt.datetime(2018,3,28) - dt.datetime(1970,1,1)).total_seconds() + 60*60*24\n",
    "print(mike_40_unix)"
   ]
  },
  {
   "cell_type": "markdown",
   "metadata": {},
   "source": [
    "Now lets convert it back..."
   ]
  },
  {
   "cell_type": "code",
   "execution_count": 21,
   "metadata": {},
   "outputs": [
    {
     "name": "stdout",
     "output_type": "stream",
     "text": [
      "2018-03-28 20:00:00\n"
     ]
    }
   ],
   "source": [
    "mike_40 = dt.datetime.fromtimestamp(mike_40_unix)\n",
    "print(mike_40)"
   ]
  },
  {
   "cell_type": "markdown",
   "metadata": {},
   "source": [
    "### strftime\n",
    "\n",
    "Once we have date and time information, a very common thing to do is to print out a formatted version of that date. For example, suppose we wanted to print out a string in the format `YYYY-MM-DD`. To do this we use the `strftime` method. Here's an example"
   ]
  },
  {
   "cell_type": "code",
   "execution_count": 23,
   "metadata": {},
   "outputs": [
    {
     "name": "stdout",
     "output_type": "stream",
     "text": [
      "2018-03-28\n"
     ]
    }
   ],
   "source": [
    "print(mike_40.strftime(\"%Y-%m-%d\"))"
   ]
  },
  {
   "cell_type": "markdown",
   "metadata": {},
   "source": [
    "Notice that the argument to `strftime` is a python string that can contain normal text (e.g. `Today is`) and a special formatters (the stuff starting with `%`). We haven't talked much about how to do string formatting, but in Python and many other languages using `%` inside strings has special meaning."
   ]
  },
  {
   "cell_type": "markdown",
   "metadata": {},
   "source": [
    "**Exercise** Using the [documentation](https://docs.python.org/3.5/library/datetime.html#strftime-strptime-behavior) for the string formatting behavior, figure out how to write the following strings using the method `strftime` method on the `mike_bday` object:\n",
    "\n",
    "- \"Mike was born on 1989-04-25\"\n",
    "- \"Mike was born on a Tuesday\"\n",
    "- \"Mike was born on Tuesday, March 28\"\n",
    "- (**bonus**) \"Mike was born on Tuesday, April 25th at 03:00 PM\""
   ]
  },
  {
   "cell_type": "code",
   "execution_count": 24,
   "metadata": {},
   "outputs": [
    {
     "data": {
      "text/plain": [
       "'Mike was born on Tuesday, March 28th at 12:00 AM'"
      ]
     },
     "execution_count": 24,
     "metadata": {},
     "output_type": "execute_result"
    }
   ],
   "source": [
    "mike_bday.strftime(\"Mike was born on %A, %B %dth at %I:%M %p\")"
   ]
  },
  {
   "cell_type": "markdown",
   "metadata": {},
   "source": [
    "## Lets Grab Some Data from Quandl <a id=data></a>\n",
    "\n",
    "[quandl](https://www.quandl.com) is a company that collects and maintains financial and economic data from standard sources (e.g. FRED, IMF, BEA, etc.) and non-standard sources (Fx data, company level data, trader receipts). The data is viewable on their webpage (see [here](https://www.quandl.com/data/BLSN-BLS-International) or [there](https://www.quandl.com/data/USTREASURY-US-Treasury) for examples), but made available to programming languages via their API. We will access their [API](https://www.quandl.com/docs/api#introduction) using their [python library](https://www.quandl.com/tools/python).\n",
    "\n",
    "Suppose, for example, that we wanted to get data on taxes in the US. Here's how we might find some:\n",
    "\n",
    "- Open up the quandl [search page](https://www.quandl.com/search)\n",
    "- Type in [\"US tax revenue\"](https://www.quandl.com/search)\n",
    "- Click on [one of the results](https://www.quandl.com/data/OECD/REV_NES_TOTALTAX_TAXUSD_USA-United-States-Total-Total-Tax-Revenue-Total-Tax-Revenue-In-Usd) that seems interesting to us\n",
    "- Checkout things like the frequency (Annual for this data set), the quandl code (top right, here it is `OECD/REV_NES_TOTALTAX_TAXUSD_USA`) and description."
   ]
  },
  {
   "cell_type": "markdown",
   "metadata": {},
   "source": [
    "Lets get the tax data real quick. We do this by using the `quandl.get` function and passing it one of the Quandl codes we collected in the previous exercise"
   ]
  },
  {
   "cell_type": "code",
   "execution_count": 66,
   "metadata": {},
   "outputs": [
    {
     "name": "stdout",
     "output_type": "stream",
     "text": [
      "Shape:  (52, 1)\n",
      "dtypes:  {'Value': dtype('float64')}\n",
      "index dtype:  datetime64[ns]\n"
     ]
    },
    {
     "data": {
      "text/html": [
       "<div>\n",
       "<style scoped>\n",
       "    .dataframe tbody tr th:only-of-type {\n",
       "        vertical-align: middle;\n",
       "    }\n",
       "\n",
       "    .dataframe tbody tr th {\n",
       "        vertical-align: top;\n",
       "    }\n",
       "\n",
       "    .dataframe thead th {\n",
       "        text-align: right;\n",
       "    }\n",
       "</style>\n",
       "<table border=\"1\" class=\"dataframe\">\n",
       "  <thead>\n",
       "    <tr style=\"text-align: right;\">\n",
       "      <th></th>\n",
       "      <th>Value</th>\n",
       "    </tr>\n",
       "    <tr>\n",
       "      <th>Date</th>\n",
       "      <th></th>\n",
       "    </tr>\n",
       "  </thead>\n",
       "  <tbody>\n",
       "    <tr>\n",
       "      <th>1965-12-31</th>\n",
       "      <td>167.022</td>\n",
       "    </tr>\n",
       "    <tr>\n",
       "      <th>1966-12-31</th>\n",
       "      <td>186.065</td>\n",
       "    </tr>\n",
       "    <tr>\n",
       "      <th>1967-12-31</th>\n",
       "      <td>208.577</td>\n",
       "    </tr>\n",
       "    <tr>\n",
       "      <th>2014-12-31</th>\n",
       "      <td>4518.356</td>\n",
       "    </tr>\n",
       "    <tr>\n",
       "      <th>2015-12-31</th>\n",
       "      <td>4752.409</td>\n",
       "    </tr>\n",
       "    <tr>\n",
       "      <th>2016-12-31</th>\n",
       "      <td>4846.313</td>\n",
       "    </tr>\n",
       "  </tbody>\n",
       "</table>\n",
       "</div>"
      ],
      "text/plain": [
       "               Value\n",
       "Date                \n",
       "1965-12-31   167.022\n",
       "1966-12-31   186.065\n",
       "1967-12-31   208.577\n",
       "2014-12-31  4518.356\n",
       "2015-12-31  4752.409\n",
       "2016-12-31  4846.313"
      ]
     },
     "execution_count": 66,
     "metadata": {},
     "output_type": "execute_result"
    }
   ],
   "source": [
    "us_tax = quandl.get(\"OECD/REV_NES_TOTALTAX_TAXUSD_USA\")\n",
    "df_info(us_tax)"
   ]
  },
  {
   "cell_type": "markdown",
   "metadata": {},
   "source": [
    "We can also pass `start_date` and `end_date` parameters to control the dates for the downloaded data:"
   ]
  },
  {
   "cell_type": "code",
   "execution_count": 67,
   "metadata": {},
   "outputs": [
    {
     "name": "stdout",
     "output_type": "stream",
     "text": [
      "Shape:  (17, 1)\n",
      "dtypes:  {'Value': dtype('float64')}\n",
      "index dtype:  datetime64[ns]\n"
     ]
    },
    {
     "data": {
      "text/html": [
       "<div>\n",
       "<style scoped>\n",
       "    .dataframe tbody tr th:only-of-type {\n",
       "        vertical-align: middle;\n",
       "    }\n",
       "\n",
       "    .dataframe tbody tr th {\n",
       "        vertical-align: top;\n",
       "    }\n",
       "\n",
       "    .dataframe thead th {\n",
       "        text-align: right;\n",
       "    }\n",
       "</style>\n",
       "<table border=\"1\" class=\"dataframe\">\n",
       "  <thead>\n",
       "    <tr style=\"text-align: right;\">\n",
       "      <th></th>\n",
       "      <th>Value</th>\n",
       "    </tr>\n",
       "    <tr>\n",
       "      <th>Date</th>\n",
       "      <th></th>\n",
       "    </tr>\n",
       "  </thead>\n",
       "  <tbody>\n",
       "    <tr>\n",
       "      <th>2000-12-31</th>\n",
       "      <td>2900.519</td>\n",
       "    </tr>\n",
       "    <tr>\n",
       "      <th>2001-12-31</th>\n",
       "      <td>2884.730</td>\n",
       "    </tr>\n",
       "    <tr>\n",
       "      <th>2002-12-31</th>\n",
       "      <td>2738.000</td>\n",
       "    </tr>\n",
       "    <tr>\n",
       "      <th>2014-12-31</th>\n",
       "      <td>4518.356</td>\n",
       "    </tr>\n",
       "    <tr>\n",
       "      <th>2015-12-31</th>\n",
       "      <td>4752.409</td>\n",
       "    </tr>\n",
       "    <tr>\n",
       "      <th>2016-12-31</th>\n",
       "      <td>4846.313</td>\n",
       "    </tr>\n",
       "  </tbody>\n",
       "</table>\n",
       "</div>"
      ],
      "text/plain": [
       "               Value\n",
       "Date                \n",
       "2000-12-31  2900.519\n",
       "2001-12-31  2884.730\n",
       "2002-12-31  2738.000\n",
       "2014-12-31  4518.356\n",
       "2015-12-31  4752.409\n",
       "2016-12-31  4846.313"
      ]
     },
     "execution_count": 67,
     "metadata": {},
     "output_type": "execute_result"
    }
   ],
   "source": [
    "us_tax_recent = quandl.get(\"OECD/REV_NES_TOTALTAX_TAXUSD_USA\", start_date=\"2000-01-01\")\n",
    "df_info(us_tax_recent)"
   ]
  },
  {
   "cell_type": "markdown",
   "metadata": {},
   "source": [
    "Now, let's read in the data sets we found were interesting. Feel free to use the codes you looked up, or the ones I'm using here:\n",
    "- \"FRED/DFF\" this is the federal funds rate. Watch the news this week and learn more about it. It is essentially the interest rate at which banks can trade federal assets with each other overnight. This is often used as a proxy for the risk free rate in economic analysis. \n",
    "\n",
    "- \"FED/MVA_AUTOAS_S\" Auto production in the United States. This is a simple measure of economic activity that is generated at a monthly frequency (as opposed to say GDP which is quarterly with a lag time)."
   ]
  },
  {
   "cell_type": "code",
   "execution_count": 68,
   "metadata": {},
   "outputs": [
    {
     "name": "stdout",
     "output_type": "stream",
     "text": [
      "Shape:  (23171, 1)\n",
      "dtypes:  {'Value': dtype('float64')}\n",
      "index dtype:  datetime64[ns]\n"
     ]
    },
    {
     "data": {
      "text/html": [
       "<div>\n",
       "<style scoped>\n",
       "    .dataframe tbody tr th:only-of-type {\n",
       "        vertical-align: middle;\n",
       "    }\n",
       "\n",
       "    .dataframe tbody tr th {\n",
       "        vertical-align: top;\n",
       "    }\n",
       "\n",
       "    .dataframe thead th {\n",
       "        text-align: right;\n",
       "    }\n",
       "</style>\n",
       "<table border=\"1\" class=\"dataframe\">\n",
       "  <thead>\n",
       "    <tr style=\"text-align: right;\">\n",
       "      <th></th>\n",
       "      <th>Value</th>\n",
       "    </tr>\n",
       "    <tr>\n",
       "      <th>Date</th>\n",
       "      <th></th>\n",
       "    </tr>\n",
       "  </thead>\n",
       "  <tbody>\n",
       "    <tr>\n",
       "      <th>1954-07-01</th>\n",
       "      <td>1.13</td>\n",
       "    </tr>\n",
       "    <tr>\n",
       "      <th>1954-07-02</th>\n",
       "      <td>1.25</td>\n",
       "    </tr>\n",
       "    <tr>\n",
       "      <th>1954-07-03</th>\n",
       "      <td>1.25</td>\n",
       "    </tr>\n",
       "    <tr>\n",
       "      <th>2017-12-05</th>\n",
       "      <td>1.16</td>\n",
       "    </tr>\n",
       "    <tr>\n",
       "      <th>2017-12-06</th>\n",
       "      <td>1.16</td>\n",
       "    </tr>\n",
       "    <tr>\n",
       "      <th>2017-12-07</th>\n",
       "      <td>1.16</td>\n",
       "    </tr>\n",
       "  </tbody>\n",
       "</table>\n",
       "</div>"
      ],
      "text/plain": [
       "            Value\n",
       "Date             \n",
       "1954-07-01   1.13\n",
       "1954-07-02   1.25\n",
       "1954-07-03   1.25\n",
       "2017-12-05   1.16\n",
       "2017-12-06   1.16\n",
       "2017-12-07   1.16"
      ]
     },
     "execution_count": 68,
     "metadata": {},
     "output_type": "execute_result"
    }
   ],
   "source": [
    "ffr = quandl.get(\"FRED/DFF\") # This brings in the data, \n",
    "\n",
    "df_info(ffr) # Then lets look at it..."
   ]
  },
  {
   "cell_type": "code",
   "execution_count": 69,
   "metadata": {},
   "outputs": [
    {
     "name": "stdout",
     "output_type": "stream",
     "text": [
      "Shape:  (610, 1)\n",
      "dtypes:  {'Value': dtype('float64')}\n",
      "index dtype:  datetime64[ns]\n"
     ]
    },
    {
     "data": {
      "text/html": [
       "<div>\n",
       "<style scoped>\n",
       "    .dataframe tbody tr th:only-of-type {\n",
       "        vertical-align: middle;\n",
       "    }\n",
       "\n",
       "    .dataframe tbody tr th {\n",
       "        vertical-align: top;\n",
       "    }\n",
       "\n",
       "    .dataframe thead th {\n",
       "        text-align: right;\n",
       "    }\n",
       "</style>\n",
       "<table border=\"1\" class=\"dataframe\">\n",
       "  <thead>\n",
       "    <tr style=\"text-align: right;\">\n",
       "      <th></th>\n",
       "      <th>Value</th>\n",
       "    </tr>\n",
       "    <tr>\n",
       "      <th>Date</th>\n",
       "      <th></th>\n",
       "    </tr>\n",
       "  </thead>\n",
       "  <tbody>\n",
       "    <tr>\n",
       "      <th>1967-01-31</th>\n",
       "      <td>7.4000</td>\n",
       "    </tr>\n",
       "    <tr>\n",
       "      <th>1967-02-28</th>\n",
       "      <td>6.8000</td>\n",
       "    </tr>\n",
       "    <tr>\n",
       "      <th>1967-03-31</th>\n",
       "      <td>7.5000</td>\n",
       "    </tr>\n",
       "    <tr>\n",
       "      <th>2017-08-31</th>\n",
       "      <td>2.9398</td>\n",
       "    </tr>\n",
       "    <tr>\n",
       "      <th>2017-09-30</th>\n",
       "      <td>2.6614</td>\n",
       "    </tr>\n",
       "    <tr>\n",
       "      <th>2017-10-31</th>\n",
       "      <td>2.6977</td>\n",
       "    </tr>\n",
       "  </tbody>\n",
       "</table>\n",
       "</div>"
      ],
      "text/plain": [
       "             Value\n",
       "Date              \n",
       "1967-01-31  7.4000\n",
       "1967-02-28  6.8000\n",
       "1967-03-31  7.5000\n",
       "2017-08-31  2.9398\n",
       "2017-09-30  2.6614\n",
       "2017-10-31  2.6977"
      ]
     },
     "execution_count": 69,
     "metadata": {},
     "output_type": "execute_result"
    }
   ],
   "source": [
    "autos = quandl.get(\"FED/MVA_AUTOAS_S\")\n",
    "\n",
    "df_info(autos)"
   ]
  },
  {
   "cell_type": "markdown",
   "metadata": {},
   "source": [
    "Two things to notice:\n",
    "- This data is setup so that the index **is a DATE**. Note how the in the reported info of the data frame, it says `index dtype: datetime64[ns]` which is saying that it recognizes the index as a date. This will be useful feature in later in the notebook. Note that `quandl` does this for us automatically. In some data sets, you may have to do this manually (commands such as `pandas.to_datetime`) may be of use here.\n",
    "- The frequency. Note that the Fed Funds rate is at a daily frequency (lots of stuff you can get finer). The auto sales is at a monthly frequency.  One of the amazing features of Pandas is the ability to change the frequency of data in a easy way (note in MATLAB or STATA, common tools used by economists it is not easy).\n",
    "\n",
    "Now, lets rename the column in each of our DataFrames and quickly look at them."
   ]
  },
  {
   "cell_type": "code",
   "execution_count": 70,
   "metadata": {},
   "outputs": [
    {
     "data": {
      "text/plain": [
       "<matplotlib.axes._subplots.AxesSubplot at 0x8f408e9518>"
      ]
     },
     "execution_count": 70,
     "metadata": {},
     "output_type": "execute_result"
    },
    {
     "data": {
      "image/png": "[encoded data removed]",
      "text/plain": [
       "<matplotlib.figure.Figure at 0x8f408e9c50>"
      ]
     },
     "metadata": {},
     "output_type": "display_data"
    }
   ],
   "source": [
    "ffr.rename(columns={\"Value\": \"risk_free_rate\"}, inplace=True)\n",
    "\n",
    "autos.rename(columns={\"Value\": \"production\"}, inplace=True)\n",
    "\n",
    "ffr.risk_free_rate.plot()\n",
    "\n",
    "autos.production.plot()"
   ]
  },
  {
   "cell_type": "markdown",
   "metadata": {},
   "source": [
    "**Exercise** Do a simmlar analysis/report for whatever datasets you chose to work with. Make sure to do the following:\n",
    "\n",
    "- Make note of the frequency of the data (e.g. daily, monthly, quarterly, yearly, etc.)\n",
    "- Check the column names\n",
    "\n",
    "If you chose to use the same data as me, do something interesting with the data. Perhaps construct plots of different variables, or compute summary statistics -- use your imagination here."
   ]
  },
  {
   "cell_type": "markdown",
   "metadata": {},
   "source": [
    "## Dates in Pandas <a id=pandas_dates></a>"
   ]
  },
  {
   "cell_type": "markdown",
   "metadata": {
    "collapsed": true
   },
   "source": [
    "Now we will look at how to use date and dateime functionality in pandas.\n",
    "\n",
    "To begin, lets take a closer look at the type of index we have on our `ffr` and `vc` dataframes:"
   ]
  },
  {
   "cell_type": "code",
   "execution_count": 71,
   "metadata": {},
   "outputs": [
    {
     "data": {
      "text/plain": [
       "pandas.core.indexes.datetimes.DatetimeIndex"
      ]
     },
     "execution_count": 71,
     "metadata": {},
     "output_type": "execute_result"
    }
   ],
   "source": [
    "type(ffr.index)"
   ]
  },
  {
   "cell_type": "markdown",
   "metadata": {},
   "source": [
    "Here we have a `DatetimeIndex`, which menas pandas recogizes this DataFrame as containing time series data. \n",
    "\n",
    "What can we do now? A lot, here's a brief list:\n",
    "\n",
    "- `subset` the data using strings to get data for a particular time frame\n",
    "- `resample` the data to a diffrent frequency: this means we could convert daily to monthly, quarterly, etc.\n",
    "- quickly access things like `year`, `month`, and `day` for the observation\n",
    "- rolling computations: this will allow us to compute statistics on a rolling subset of the data. We'll show a simple example here, but check out the [docs](http://pandas.pydata.org/pandas-docs/stable/computation.html#window-functions) for more info\n",
    "- `snap` the observations to a particular frequency -- this one is a bit advanced and we won't cover it here\n",
    "\n",
    "For a much more comprehensive list with other examples see the [docs](http://pandas.pydata.org/pandas-docs/stable/timeseries.html#datetimeindex)\n",
    "\n",
    "For now, let's look at how to do these things with the data we obtained from quandl\n",
    "\n",
    "**NOTE** You can _only_ do these things when you have a `DatetimeIndex`. This means that even if one of the columns in your DataFrame has date or datetime information, you will need to set it as the index to access this functionality. \n",
    "\n",
    "**How to set the index as a Date:** Below is a mini-example where we set the index to be a time variable:"
   ]
  },
  {
   "cell_type": "code",
   "execution_count": 72,
   "metadata": {},
   "outputs": [
    {
     "data": {
      "text/html": [
       "<div>\n",
       "<style scoped>\n",
       "    .dataframe tbody tr th:only-of-type {\n",
       "        vertical-align: middle;\n",
       "    }\n",
       "\n",
       "    .dataframe tbody tr th {\n",
       "        vertical-align: top;\n",
       "    }\n",
       "\n",
       "    .dataframe thead th {\n",
       "        text-align: right;\n",
       "    }\n",
       "</style>\n",
       "<table border=\"1\" class=\"dataframe\">\n",
       "  <thead>\n",
       "    <tr style=\"text-align: right;\">\n",
       "      <th></th>\n",
       "      <th>Date</th>\n",
       "      <th>GDP</th>\n",
       "    </tr>\n",
       "  </thead>\n",
       "  <tbody>\n",
       "    <tr>\n",
       "      <th>0</th>\n",
       "      <td>1950-01-31</td>\n",
       "      <td>100</td>\n",
       "    </tr>\n",
       "    <tr>\n",
       "      <th>1</th>\n",
       "      <td>1950-02-28</td>\n",
       "      <td>200</td>\n",
       "    </tr>\n",
       "    <tr>\n",
       "      <th>2</th>\n",
       "      <td>1950-03-31</td>\n",
       "      <td>300</td>\n",
       "    </tr>\n",
       "  </tbody>\n",
       "</table>\n",
       "</div>"
      ],
      "text/plain": [
       "         Date  GDP\n",
       "0  1950-01-31  100\n",
       "1  1950-02-28  200\n",
       "2  1950-03-31  300"
      ]
     },
     "execution_count": 72,
     "metadata": {},
     "output_type": "execute_result"
    }
   ],
   "source": [
    "small_df = {\"Date\": ['1950-01-31', '1950-02-28', '1950-03-31'], \"GDP\": [100, 200, 300]}\n",
    "small_df = pd.DataFrame(small_df)\n",
    "\n",
    "small_df.head()"
   ]
  },
  {
   "cell_type": "markdown",
   "metadata": {},
   "source": [
    "A standard looking dataframe, but the key issue is that the data value is just another series. We want the index to be the date so we can exploit some of the functionality of Pandas. First lets verify what the index is:"
   ]
  },
  {
   "cell_type": "code",
   "execution_count": 73,
   "metadata": {},
   "outputs": [
    {
     "data": {
      "text/plain": [
       "RangeIndex(start=0, stop=3, step=1)"
      ]
     },
     "execution_count": 73,
     "metadata": {},
     "output_type": "execute_result"
    }
   ],
   "source": [
    "small_df.index"
   ]
  },
  {
   "cell_type": "markdown",
   "metadata": {},
   "source": [
    "So this is just a range, not a datetime. Lets first try this:"
   ]
  },
  {
   "cell_type": "code",
   "execution_count": 74,
   "metadata": {},
   "outputs": [
    {
     "data": {
      "text/plain": [
       "Index(['1950-01-31', '1950-02-28', '1950-03-31'], dtype='object', name='Date')"
      ]
     },
     "execution_count": 74,
     "metadata": {},
     "output_type": "execute_result"
    }
   ],
   "source": [
    "small_df = small_df.set_index(small_df['Date'])\n",
    "\n",
    "small_df.head()\n",
    "\n",
    "small_df.index"
   ]
  },
  {
   "cell_type": "markdown",
   "metadata": {},
   "source": [
    "Note that while it looks good, it is not recognized as a `DatetimeIndex` but just a regular index. This verifies it."
   ]
  },
  {
   "cell_type": "code",
   "execution_count": 75,
   "metadata": {},
   "outputs": [
    {
     "data": {
      "text/plain": [
       "pandas.core.indexes.base.Index"
      ]
     },
     "execution_count": 75,
     "metadata": {},
     "output_type": "execute_result"
    }
   ],
   "source": [
    "type(small_df.index)"
   ]
  },
  {
   "cell_type": "markdown",
   "metadata": {},
   "source": [
    "So the way to do this is to use the `pd.DatetimeIndex` which will properly convert it"
   ]
  },
  {
   "cell_type": "code",
   "execution_count": 76,
   "metadata": {},
   "outputs": [
    {
     "data": {
      "text/plain": [
       "DatetimeIndex(['1950-01-31', '1950-02-28', '1950-03-31'], dtype='datetime64[ns]', name='Date', freq='M')"
      ]
     },
     "execution_count": 76,
     "metadata": {},
     "output_type": "execute_result"
    }
   ],
   "source": [
    "small_df = small_df.set_index(pd.DatetimeIndex(small_df['Date'], freq = \"M\"))\n",
    "\n",
    "small_df.head()\n",
    "\n",
    "small_df.index"
   ]
  },
  {
   "cell_type": "markdown",
   "metadata": {},
   "source": [
    "Now we have it. The index is now set as a date time with a monthly frequency. "
   ]
  },
  {
   "cell_type": "markdown",
   "metadata": {},
   "source": [
    "### subsetting \n",
    "\n",
    "This feature is really amazing, basicly we slice on the dataframe by just specifying the year, month, dates, etc. that we want. For example, suppose we wanted to extract all the data for the federal funds rate for the year 2008."
   ]
  },
  {
   "cell_type": "code",
   "execution_count": 77,
   "metadata": {},
   "outputs": [
    {
     "name": "stdout",
     "output_type": "stream",
     "text": [
      "ffr2008 is a <class 'pandas.core.frame.DataFrame'>\n",
      "Shape:  (366, 1)\n",
      "dtypes:  {'risk_free_rate': dtype('float64')}\n",
      "index dtype:  datetime64[ns]\n"
     ]
    },
    {
     "data": {
      "text/html": [
       "<div>\n",
       "<style scoped>\n",
       "    .dataframe tbody tr th:only-of-type {\n",
       "        vertical-align: middle;\n",
       "    }\n",
       "\n",
       "    .dataframe tbody tr th {\n",
       "        vertical-align: top;\n",
       "    }\n",
       "\n",
       "    .dataframe thead th {\n",
       "        text-align: right;\n",
       "    }\n",
       "</style>\n",
       "<table border=\"1\" class=\"dataframe\">\n",
       "  <thead>\n",
       "    <tr style=\"text-align: right;\">\n",
       "      <th></th>\n",
       "      <th>risk_free_rate</th>\n",
       "    </tr>\n",
       "    <tr>\n",
       "      <th>Date</th>\n",
       "      <th></th>\n",
       "    </tr>\n",
       "  </thead>\n",
       "  <tbody>\n",
       "    <tr>\n",
       "      <th>2008-01-01</th>\n",
       "      <td>3.06</td>\n",
       "    </tr>\n",
       "    <tr>\n",
       "      <th>2008-01-02</th>\n",
       "      <td>4.11</td>\n",
       "    </tr>\n",
       "    <tr>\n",
       "      <th>2008-01-03</th>\n",
       "      <td>4.25</td>\n",
       "    </tr>\n",
       "    <tr>\n",
       "      <th>2008-12-29</th>\n",
       "      <td>0.10</td>\n",
       "    </tr>\n",
       "    <tr>\n",
       "      <th>2008-12-30</th>\n",
       "      <td>0.09</td>\n",
       "    </tr>\n",
       "    <tr>\n",
       "      <th>2008-12-31</th>\n",
       "      <td>0.14</td>\n",
       "    </tr>\n",
       "  </tbody>\n",
       "</table>\n",
       "</div>"
      ],
      "text/plain": [
       "            risk_free_rate\n",
       "Date                      \n",
       "2008-01-01            3.06\n",
       "2008-01-02            4.11\n",
       "2008-01-03            4.25\n",
       "2008-12-29            0.10\n",
       "2008-12-30            0.09\n",
       "2008-12-31            0.14"
      ]
     },
     "execution_count": 77,
     "metadata": {},
     "output_type": "execute_result"
    }
   ],
   "source": [
    "ffr2008 = ffr[\"2008\"]\n",
    "print(\"ffr2008 is a\", type(ffr2008))\n",
    "df_info(ffr2008)"
   ]
  },
  {
   "cell_type": "code",
   "execution_count": 78,
   "metadata": {},
   "outputs": [
    {
     "data": {
      "text/plain": [
       "<matplotlib.axes._subplots.AxesSubplot at 0x8f40c98860>"
      ]
     },
     "execution_count": 78,
     "metadata": {},
     "output_type": "execute_result"
    },
    {
     "data": {
      "image/png": "[encoded data removed]",
      "text/plain": [
       "<matplotlib.figure.Figure at 0x8f407ad2b0>"
      ]
     },
     "metadata": {},
     "output_type": "display_data"
    }
   ],
   "source": [
    "ffr2008.plot()"
   ]
  },
  {
   "cell_type": "markdown",
   "metadata": {},
   "source": [
    "Now lets further restrict to September 2008:"
   ]
  },
  {
   "cell_type": "code",
   "execution_count": 79,
   "metadata": {},
   "outputs": [
    {
     "name": "stdout",
     "output_type": "stream",
     "text": [
      "Shape:  (30, 1)\n",
      "dtypes:  {'risk_free_rate': dtype('float64')}\n",
      "index dtype:  datetime64[ns]\n"
     ]
    },
    {
     "data": {
      "text/plain": [
       "<matplotlib.axes._subplots.AxesSubplot at 0x8f40ab3518>"
      ]
     },
     "execution_count": 79,
     "metadata": {},
     "output_type": "execute_result"
    },
    {
     "data": {
      "image/png": "[encoded data removed]",
      "text/plain": [
       "<matplotlib.figure.Figure at 0x8f40b03ba8>"
      ]
     },
     "metadata": {},
     "output_type": "display_data"
    }
   ],
   "source": [
    "ffr_sep2008 = ffr[\"2008-09\"]\n",
    "df_info(ffr_sep2008)\n",
    "\n",
    "ffr_sep2008.plot()"
   ]
  },
  {
   "cell_type": "markdown",
   "metadata": {},
   "source": [
    "We can use this same functionality to extract ranges of dates. To get the data starting in june 2007 and going until march 2011 we would do"
   ]
  },
  {
   "cell_type": "code",
   "execution_count": 80,
   "metadata": {},
   "outputs": [
    {
     "name": "stdout",
     "output_type": "stream",
     "text": [
      "Shape:  (1400, 1)\n",
      "dtypes:  {'risk_free_rate': dtype('float64')}\n",
      "index dtype:  datetime64[ns]\n"
     ]
    },
    {
     "data": {
      "text/html": [
       "<div>\n",
       "<style scoped>\n",
       "    .dataframe tbody tr th:only-of-type {\n",
       "        vertical-align: middle;\n",
       "    }\n",
       "\n",
       "    .dataframe tbody tr th {\n",
       "        vertical-align: top;\n",
       "    }\n",
       "\n",
       "    .dataframe thead th {\n",
       "        text-align: right;\n",
       "    }\n",
       "</style>\n",
       "<table border=\"1\" class=\"dataframe\">\n",
       "  <thead>\n",
       "    <tr style=\"text-align: right;\">\n",
       "      <th></th>\n",
       "      <th>risk_free_rate</th>\n",
       "    </tr>\n",
       "    <tr>\n",
       "      <th>Date</th>\n",
       "      <th></th>\n",
       "    </tr>\n",
       "  </thead>\n",
       "  <tbody>\n",
       "    <tr>\n",
       "      <th>2007-06-01</th>\n",
       "      <td>5.23</td>\n",
       "    </tr>\n",
       "    <tr>\n",
       "      <th>2007-06-02</th>\n",
       "      <td>5.23</td>\n",
       "    </tr>\n",
       "    <tr>\n",
       "      <th>2007-06-03</th>\n",
       "      <td>5.23</td>\n",
       "    </tr>\n",
       "    <tr>\n",
       "      <th>2011-03-29</th>\n",
       "      <td>0.13</td>\n",
       "    </tr>\n",
       "    <tr>\n",
       "      <th>2011-03-30</th>\n",
       "      <td>0.13</td>\n",
       "    </tr>\n",
       "    <tr>\n",
       "      <th>2011-03-31</th>\n",
       "      <td>0.10</td>\n",
       "    </tr>\n",
       "  </tbody>\n",
       "</table>\n",
       "</div>"
      ],
      "text/plain": [
       "            risk_free_rate\n",
       "Date                      \n",
       "2007-06-01            5.23\n",
       "2007-06-02            5.23\n",
       "2007-06-03            5.23\n",
       "2011-03-29            0.13\n",
       "2011-03-30            0.13\n",
       "2011-03-31            0.10"
      ]
     },
     "execution_count": 80,
     "metadata": {},
     "output_type": "execute_result"
    }
   ],
   "source": [
    "ffr2 = ffr[\"2007-06\":\"2011-03\"]\n",
    "df_info(ffr2)"
   ]
  },
  {
   "cell_type": "code",
   "execution_count": 81,
   "metadata": {},
   "outputs": [
    {
     "data": {
      "text/plain": [
       "<matplotlib.axes._subplots.AxesSubplot at 0x8f40b6eb38>"
      ]
     },
     "execution_count": 81,
     "metadata": {},
     "output_type": "execute_result"
    },
    {
     "data": {
      "image/png": "[encoded data removed]",
      "text/plain": [
       "<matplotlib.figure.Figure at 0x8f40b06a58>"
      ]
     },
     "metadata": {},
     "output_type": "display_data"
    }
   ],
   "source": [
    "ffr2.plot()"
   ]
  },
  {
   "cell_type": "markdown",
   "metadata": {},
   "source": [
    "### resampling\n",
    "\n",
    "Now suppose that instead of daily data, we wanted our federal funds data at a monthly frequency or annual. Pandas has the `resample` method on our DataFrame that allows us to execute this. This is essentially a `groupby` operation that will preserve the idea that that we are operating on a time index AND provide some built in flexibility about how we want to change the freqency.\n",
    "\n",
    "The baisc idea is just like `groupby`: we specify how we want to do (by year, quarterly, month, month start) and then specify an aggregator option, like take the mean. Lets see this"
   ]
  },
  {
   "cell_type": "code",
   "execution_count": 82,
   "metadata": {},
   "outputs": [
    {
     "data": {
      "text/html": [
       "<div>\n",
       "<style scoped>\n",
       "    .dataframe tbody tr th:only-of-type {\n",
       "        vertical-align: middle;\n",
       "    }\n",
       "\n",
       "    .dataframe tbody tr th {\n",
       "        vertical-align: top;\n",
       "    }\n",
       "\n",
       "    .dataframe thead th {\n",
       "        text-align: right;\n",
       "    }\n",
       "</style>\n",
       "<table border=\"1\" class=\"dataframe\">\n",
       "  <thead>\n",
       "    <tr style=\"text-align: right;\">\n",
       "      <th></th>\n",
       "      <th>risk_free_rate</th>\n",
       "    </tr>\n",
       "    <tr>\n",
       "      <th>Date</th>\n",
       "      <th></th>\n",
       "    </tr>\n",
       "  </thead>\n",
       "  <tbody>\n",
       "    <tr>\n",
       "      <th>1954-12-31</th>\n",
       "      <td>1.008424</td>\n",
       "    </tr>\n",
       "    <tr>\n",
       "      <th>1955-12-31</th>\n",
       "      <td>1.788603</td>\n",
       "    </tr>\n",
       "    <tr>\n",
       "      <th>1956-12-31</th>\n",
       "      <td>2.729590</td>\n",
       "    </tr>\n",
       "    <tr>\n",
       "      <th>1957-12-31</th>\n",
       "      <td>3.105342</td>\n",
       "    </tr>\n",
       "    <tr>\n",
       "      <th>1958-12-31</th>\n",
       "      <td>1.572356</td>\n",
       "    </tr>\n",
       "  </tbody>\n",
       "</table>\n",
       "</div>"
      ],
      "text/plain": [
       "            risk_free_rate\n",
       "Date                      \n",
       "1954-12-31        1.008424\n",
       "1955-12-31        1.788603\n",
       "1956-12-31        2.729590\n",
       "1957-12-31        3.105342\n",
       "1958-12-31        1.572356"
      ]
     },
     "execution_count": 82,
     "metadata": {},
     "output_type": "execute_result"
    }
   ],
   "source": [
    "ffr.resample(\"Y\").mean().head()\n",
    "\n",
    "# M specifies the month, where it will assign the last date of that month\n",
    "# so July gets the date 1954-07-31..."
   ]
  },
  {
   "cell_type": "markdown",
   "metadata": {},
   "source": [
    "Key observation, now the frequency change it is monthy. Try something different, \n",
    "- `10A` gives decadel values. \n",
    "- `Y` gives yearly\n",
    "- `Q` gives quarterly\n",
    "- `2w` gives bi-weekly. Note put your favorite number and see what happens.\n",
    "-  The [documentation](http://pandas.pydata.org/pandas-docs/stable/timeseries.html#offset-aliases) for the most common frequencies"
   ]
  },
  {
   "cell_type": "code",
   "execution_count": 83,
   "metadata": {},
   "outputs": [
    {
     "data": {
      "text/html": [
       "<div>\n",
       "<style scoped>\n",
       "    .dataframe tbody tr th:only-of-type {\n",
       "        vertical-align: middle;\n",
       "    }\n",
       "\n",
       "    .dataframe tbody tr th {\n",
       "        vertical-align: top;\n",
       "    }\n",
       "\n",
       "    .dataframe thead th {\n",
       "        text-align: right;\n",
       "    }\n",
       "</style>\n",
       "<table border=\"1\" class=\"dataframe\">\n",
       "  <thead>\n",
       "    <tr style=\"text-align: right;\">\n",
       "      <th></th>\n",
       "      <th>risk_free_rate</th>\n",
       "    </tr>\n",
       "    <tr>\n",
       "      <th>Date</th>\n",
       "      <th></th>\n",
       "    </tr>\n",
       "  </thead>\n",
       "  <tbody>\n",
       "    <tr>\n",
       "      <th>1954-07-01</th>\n",
       "      <td>0.799355</td>\n",
       "    </tr>\n",
       "    <tr>\n",
       "      <th>1954-08-01</th>\n",
       "      <td>1.220645</td>\n",
       "    </tr>\n",
       "    <tr>\n",
       "      <th>1954-09-01</th>\n",
       "      <td>1.066667</td>\n",
       "    </tr>\n",
       "    <tr>\n",
       "      <th>1954-10-01</th>\n",
       "      <td>0.848710</td>\n",
       "    </tr>\n",
       "    <tr>\n",
       "      <th>1954-11-01</th>\n",
       "      <td>0.833667</td>\n",
       "    </tr>\n",
       "  </tbody>\n",
       "</table>\n",
       "</div>"
      ],
      "text/plain": [
       "            risk_free_rate\n",
       "Date                      \n",
       "1954-07-01        0.799355\n",
       "1954-08-01        1.220645\n",
       "1954-09-01        1.066667\n",
       "1954-10-01        0.848710\n",
       "1954-11-01        0.833667"
      ]
     },
     "execution_count": 83,
     "metadata": {},
     "output_type": "execute_result"
    }
   ],
   "source": [
    "ffr.resample(\"MS\").mean().head()\n",
    "\n",
    "# M specifies the month, where it will assign the start date of that month\n",
    "# so July gets the date 1954-07-31..."
   ]
  },
  {
   "cell_type": "markdown",
   "metadata": {},
   "source": [
    "Notice that the values are the same, we just assigned the \"average July value\" to the first of the month. **Note the subtly here, also important to mindful about when you are lining different data sets up.** "
   ]
  },
  {
   "cell_type": "code",
   "execution_count": 84,
   "metadata": {
    "scrolled": true
   },
   "outputs": [
    {
     "data": {
      "text/plain": [
       "<matplotlib.axes._subplots.AxesSubplot at 0x8f42cab748>"
      ]
     },
     "execution_count": 84,
     "metadata": {},
     "output_type": "execute_result"
    },
    {
     "data": {
      "image/png": "[encoded data removed]",
      "text/plain": [
       "<matplotlib.figure.Figure at 0x8f40c11780>"
      ]
     },
     "metadata": {},
     "output_type": "display_data"
    }
   ],
   "source": [
    "ffr.resample(\"5A\").mean().plot()"
   ]
  },
  {
   "cell_type": "markdown",
   "metadata": {},
   "source": [
    "Above we used the `mean` as the aggregator. Other statistics could be used. Here is an example:"
   ]
  },
  {
   "cell_type": "code",
   "execution_count": 85,
   "metadata": {},
   "outputs": [
    {
     "data": {
      "text/plain": [
       "<matplotlib.axes._subplots.AxesSubplot at 0x8f431410b8>"
      ]
     },
     "execution_count": 85,
     "metadata": {},
     "output_type": "execute_result"
    },
    {
     "data": {
      "image/png": "[encoded data removed]",
      "text/plain": [
       "<matplotlib.figure.Figure at 0x8f43148b70>"
      ]
     },
     "metadata": {},
     "output_type": "display_data"
    }
   ],
   "source": [
    "ffr.resample(\"Q\").std().plot()"
   ]
  },
  {
   "cell_type": "markdown",
   "metadata": {},
   "source": [
    "There are also two specific time-dimension aggregators that may be of use `first` and `last` These take the first and last values over the time period. Lets look at this..."
   ]
  },
  {
   "cell_type": "code",
   "execution_count": 86,
   "metadata": {},
   "outputs": [
    {
     "data": {
      "text/html": [
       "<div>\n",
       "<style scoped>\n",
       "    .dataframe tbody tr th:only-of-type {\n",
       "        vertical-align: middle;\n",
       "    }\n",
       "\n",
       "    .dataframe tbody tr th {\n",
       "        vertical-align: top;\n",
       "    }\n",
       "\n",
       "    .dataframe thead th {\n",
       "        text-align: right;\n",
       "    }\n",
       "</style>\n",
       "<table border=\"1\" class=\"dataframe\">\n",
       "  <thead>\n",
       "    <tr style=\"text-align: right;\">\n",
       "      <th></th>\n",
       "      <th>risk_free_rate</th>\n",
       "    </tr>\n",
       "    <tr>\n",
       "      <th>Date</th>\n",
       "      <th></th>\n",
       "    </tr>\n",
       "  </thead>\n",
       "  <tbody>\n",
       "    <tr>\n",
       "      <th>1954-07-31</th>\n",
       "      <td>1.13</td>\n",
       "    </tr>\n",
       "    <tr>\n",
       "      <th>1954-08-31</th>\n",
       "      <td>0.25</td>\n",
       "    </tr>\n",
       "    <tr>\n",
       "      <th>1954-09-30</th>\n",
       "      <td>1.44</td>\n",
       "    </tr>\n",
       "    <tr>\n",
       "      <th>1954-10-31</th>\n",
       "      <td>0.50</td>\n",
       "    </tr>\n",
       "    <tr>\n",
       "      <th>1954-11-30</th>\n",
       "      <td>1.38</td>\n",
       "    </tr>\n",
       "  </tbody>\n",
       "</table>\n",
       "</div>"
      ],
      "text/plain": [
       "            risk_free_rate\n",
       "Date                      \n",
       "1954-07-31            1.13\n",
       "1954-08-31            0.25\n",
       "1954-09-30            1.44\n",
       "1954-10-31            0.50\n",
       "1954-11-30            1.38"
      ]
     },
     "execution_count": 86,
     "metadata": {},
     "output_type": "execute_result"
    }
   ],
   "source": [
    "ffr.resample(\"M\").first().head()"
   ]
  },
  {
   "cell_type": "code",
   "execution_count": 87,
   "metadata": {},
   "outputs": [
    {
     "data": {
      "text/html": [
       "<div>\n",
       "<style scoped>\n",
       "    .dataframe tbody tr th:only-of-type {\n",
       "        vertical-align: middle;\n",
       "    }\n",
       "\n",
       "    .dataframe tbody tr th {\n",
       "        vertical-align: top;\n",
       "    }\n",
       "\n",
       "    .dataframe thead th {\n",
       "        text-align: right;\n",
       "    }\n",
       "</style>\n",
       "<table border=\"1\" class=\"dataframe\">\n",
       "  <thead>\n",
       "    <tr style=\"text-align: right;\">\n",
       "      <th></th>\n",
       "      <th>risk_free_rate</th>\n",
       "    </tr>\n",
       "    <tr>\n",
       "      <th>Date</th>\n",
       "      <th></th>\n",
       "    </tr>\n",
       "  </thead>\n",
       "  <tbody>\n",
       "    <tr>\n",
       "      <th>1954-07-31</th>\n",
       "      <td>0.25</td>\n",
       "    </tr>\n",
       "    <tr>\n",
       "      <th>1954-08-31</th>\n",
       "      <td>1.44</td>\n",
       "    </tr>\n",
       "    <tr>\n",
       "      <th>1954-09-30</th>\n",
       "      <td>1.44</td>\n",
       "    </tr>\n",
       "    <tr>\n",
       "      <th>1954-10-31</th>\n",
       "      <td>1.13</td>\n",
       "    </tr>\n",
       "    <tr>\n",
       "      <th>1954-11-30</th>\n",
       "      <td>1.38</td>\n",
       "    </tr>\n",
       "  </tbody>\n",
       "</table>\n",
       "</div>"
      ],
      "text/plain": [
       "            risk_free_rate\n",
       "Date                      \n",
       "1954-07-31            0.25\n",
       "1954-08-31            1.44\n",
       "1954-09-30            1.44\n",
       "1954-10-31            1.13\n",
       "1954-11-30            1.38"
      ]
     },
     "execution_count": 87,
     "metadata": {},
     "output_type": "execute_result"
    }
   ],
   "source": [
    "ffr.resample(\"M\").last().head()"
   ]
  },
  {
   "cell_type": "markdown",
   "metadata": {},
   "source": [
    "Notice that the index is the same on both, but the data is clearly different. What is going on is that in the first dataframe, we assigned the first value of July (i.e. July 01 54) to the month of July, but used the resampled date of the last of the month. \n",
    "\n",
    "The next dataframe then uses the last value of July (i.e. July 31 54), and then associates it with the date of our resampled time for July which just happens to be July 31 54.\n",
    "\n",
    "Make sense? Think about what these do:\n",
    "- `ffr.resample(\"MS\").first().head()`\n",
    "- `ffr.resample(\"MS\").last().head()`"
   ]
  },
  {
   "cell_type": "markdown",
   "metadata": {},
   "source": [
    "### Access year, month, day...\n",
    "\n",
    "Given a `DatetimeIndex` you can access the day, month, or year (also second, millisecond, etc.) by simply accessing the `.XX` property; where `XX` is the data you want"
   ]
  },
  {
   "cell_type": "code",
   "execution_count": 88,
   "metadata": {},
   "outputs": [
    {
     "data": {
      "text/plain": [
       "Int64Index([1954, 1954, 1954, 1954, 1954, 1954, 1954, 1954, 1954, 1954,\n",
       "            ...\n",
       "            2017, 2017, 2017, 2017, 2017, 2017, 2017, 2017, 2017, 2017],\n",
       "           dtype='int64', name='Date', length=23171)"
      ]
     },
     "execution_count": 88,
     "metadata": {},
     "output_type": "execute_result"
    }
   ],
   "source": [
    "ffr.index.year"
   ]
  },
  {
   "cell_type": "code",
   "execution_count": 89,
   "metadata": {},
   "outputs": [
    {
     "data": {
      "text/plain": [
       "Int64Index([ 1,  2,  3,  4,  5,  6,  7,  8,  9, 10,\n",
       "            ...\n",
       "            28, 29, 30,  1,  2,  3,  4,  5,  6,  7],\n",
       "           dtype='int64', name='Date', length=23171)"
      ]
     },
     "execution_count": 89,
     "metadata": {},
     "output_type": "execute_result"
    }
   ],
   "source": [
    "ffr.index.day"
   ]
  },
  {
   "cell_type": "code",
   "execution_count": 90,
   "metadata": {},
   "outputs": [
    {
     "data": {
      "text/plain": [
       "Int64Index([ 7,  7,  7,  7,  7,  7,  7,  7,  7,  7,\n",
       "            ...\n",
       "            11, 11, 11, 12, 12, 12, 12, 12, 12, 12],\n",
       "           dtype='int64', name='Date', length=23171)"
      ]
     },
     "execution_count": 90,
     "metadata": {},
     "output_type": "execute_result"
    }
   ],
   "source": [
    "ffr.index.month"
   ]
  },
  {
   "cell_type": "markdown",
   "metadata": {},
   "source": [
    "### Rolling computations\n",
    "\n",
    "We can use pandas to do rolling computations. What does that mean? Here is an example: For example, suppose we **want** to plot the maximum and minimum of the risk free rate within the past week at each date (think about that slowly -- for every date, we want to look back 7 days and compute the max).\n",
    "\n",
    "Here's how we can do that"
   ]
  },
  {
   "cell_type": "code",
   "execution_count": 91,
   "metadata": {},
   "outputs": [
    {
     "data": {
      "text/plain": [
       "<matplotlib.legend.Legend at 0x8f4314be48>"
      ]
     },
     "execution_count": 91,
     "metadata": {},
     "output_type": "execute_result"
    },
    {
     "data": {
      "image/png": "[encoded data removed]",
      "text/plain": [
       "<matplotlib.figure.Figure at 0x8f4314b5f8>"
      ]
     },
     "metadata": {},
     "output_type": "display_data"
    }
   ],
   "source": [
    "fig, ax = plt.subplots()\n",
    "\n",
    "ffr[\"2008-8\":\"2008-11\"].rolling(window=7).max().plot(ax=ax)\n",
    "ffr[\"2008-8\":\"2008-11\"].rolling(window=7).min().plot(ax=ax)\n",
    "\n",
    "ax.legend([\"max\",\"min\"])"
   ]
  },
  {
   "cell_type": "markdown",
   "metadata": {},
   "source": [
    "**Note that this is different from just resampling** because we will have an observation for every date in the original dataframe (except the number of dates at the front needed to construct the initial window)."
   ]
  },
  {
   "cell_type": "code",
   "execution_count": 92,
   "metadata": {},
   "outputs": [
    {
     "data": {
      "text/html": [
       "<div>\n",
       "<style scoped>\n",
       "    .dataframe tbody tr th:only-of-type {\n",
       "        vertical-align: middle;\n",
       "    }\n",
       "\n",
       "    .dataframe tbody tr th {\n",
       "        vertical-align: top;\n",
       "    }\n",
       "\n",
       "    .dataframe thead th {\n",
       "        text-align: right;\n",
       "    }\n",
       "</style>\n",
       "<table border=\"1\" class=\"dataframe\">\n",
       "  <thead>\n",
       "    <tr style=\"text-align: right;\">\n",
       "      <th></th>\n",
       "      <th>risk_free_rate</th>\n",
       "    </tr>\n",
       "    <tr>\n",
       "      <th>Date</th>\n",
       "      <th></th>\n",
       "    </tr>\n",
       "  </thead>\n",
       "  <tbody>\n",
       "    <tr>\n",
       "      <th>1954-07-01</th>\n",
       "      <td>NaN</td>\n",
       "    </tr>\n",
       "    <tr>\n",
       "      <th>1954-07-02</th>\n",
       "      <td>NaN</td>\n",
       "    </tr>\n",
       "    <tr>\n",
       "      <th>1954-07-03</th>\n",
       "      <td>NaN</td>\n",
       "    </tr>\n",
       "    <tr>\n",
       "      <th>1954-07-04</th>\n",
       "      <td>NaN</td>\n",
       "    </tr>\n",
       "    <tr>\n",
       "      <th>1954-07-05</th>\n",
       "      <td>NaN</td>\n",
       "    </tr>\n",
       "    <tr>\n",
       "      <th>1954-07-06</th>\n",
       "      <td>NaN</td>\n",
       "    </tr>\n",
       "    <tr>\n",
       "      <th>1954-07-07</th>\n",
       "      <td>1.25</td>\n",
       "    </tr>\n",
       "    <tr>\n",
       "      <th>1954-07-08</th>\n",
       "      <td>1.25</td>\n",
       "    </tr>\n",
       "    <tr>\n",
       "      <th>1954-07-09</th>\n",
       "      <td>1.25</td>\n",
       "    </tr>\n",
       "    <tr>\n",
       "      <th>1954-07-10</th>\n",
       "      <td>1.25</td>\n",
       "    </tr>\n",
       "  </tbody>\n",
       "</table>\n",
       "</div>"
      ],
      "text/plain": [
       "            risk_free_rate\n",
       "Date                      \n",
       "1954-07-01             NaN\n",
       "1954-07-02             NaN\n",
       "1954-07-03             NaN\n",
       "1954-07-04             NaN\n",
       "1954-07-05             NaN\n",
       "1954-07-06             NaN\n",
       "1954-07-07            1.25\n",
       "1954-07-08            1.25\n",
       "1954-07-09            1.25\n",
       "1954-07-10            1.25"
      ]
     },
     "execution_count": 92,
     "metadata": {},
     "output_type": "execute_result"
    }
   ],
   "source": [
    "ffr.rolling(window=7).max().head(10)"
   ]
  },
  {
   "cell_type": "code",
   "execution_count": 93,
   "metadata": {},
   "outputs": [
    {
     "data": {
      "text/html": [
       "<div>\n",
       "<style scoped>\n",
       "    .dataframe tbody tr th:only-of-type {\n",
       "        vertical-align: middle;\n",
       "    }\n",
       "\n",
       "    .dataframe tbody tr th {\n",
       "        vertical-align: top;\n",
       "    }\n",
       "\n",
       "    .dataframe thead th {\n",
       "        text-align: right;\n",
       "    }\n",
       "</style>\n",
       "<table border=\"1\" class=\"dataframe\">\n",
       "  <thead>\n",
       "    <tr style=\"text-align: right;\">\n",
       "      <th></th>\n",
       "      <th>risk_free_rate</th>\n",
       "    </tr>\n",
       "    <tr>\n",
       "      <th>Date</th>\n",
       "      <th></th>\n",
       "    </tr>\n",
       "  </thead>\n",
       "  <tbody>\n",
       "    <tr>\n",
       "      <th>1954-07-01</th>\n",
       "      <td>1.25</td>\n",
       "    </tr>\n",
       "    <tr>\n",
       "      <th>1954-07-08</th>\n",
       "      <td>1.25</td>\n",
       "    </tr>\n",
       "    <tr>\n",
       "      <th>1954-07-15</th>\n",
       "      <td>0.75</td>\n",
       "    </tr>\n",
       "    <tr>\n",
       "      <th>1954-07-22</th>\n",
       "      <td>0.75</td>\n",
       "    </tr>\n",
       "    <tr>\n",
       "      <th>1954-07-29</th>\n",
       "      <td>0.38</td>\n",
       "    </tr>\n",
       "    <tr>\n",
       "      <th>1954-08-05</th>\n",
       "      <td>1.44</td>\n",
       "    </tr>\n",
       "    <tr>\n",
       "      <th>1954-08-12</th>\n",
       "      <td>1.44</td>\n",
       "    </tr>\n",
       "    <tr>\n",
       "      <th>1954-08-19</th>\n",
       "      <td>1.44</td>\n",
       "    </tr>\n",
       "    <tr>\n",
       "      <th>1954-08-26</th>\n",
       "      <td>1.44</td>\n",
       "    </tr>\n",
       "    <tr>\n",
       "      <th>1954-09-02</th>\n",
       "      <td>1.38</td>\n",
       "    </tr>\n",
       "  </tbody>\n",
       "</table>\n",
       "</div>"
      ],
      "text/plain": [
       "            risk_free_rate\n",
       "Date                      \n",
       "1954-07-01            1.25\n",
       "1954-07-08            1.25\n",
       "1954-07-15            0.75\n",
       "1954-07-22            0.75\n",
       "1954-07-29            0.38\n",
       "1954-08-05            1.44\n",
       "1954-08-12            1.44\n",
       "1954-08-19            1.44\n",
       "1954-08-26            1.44\n",
       "1954-09-02            1.38"
      ]
     },
     "execution_count": 93,
     "metadata": {},
     "output_type": "execute_result"
    }
   ],
   "source": [
    "ffr.resample(\"7D\").max().head(10)"
   ]
  },
  {
   "cell_type": "markdown",
   "metadata": {},
   "source": [
    "### Merging with dates\n",
    "\n",
    "Let's see what happens when we merge the ffr and vc datasets"
   ]
  },
  {
   "cell_type": "code",
   "execution_count": 94,
   "metadata": {},
   "outputs": [
    {
     "name": "stdout",
     "output_type": "stream",
     "text": [
      "Shape:  (23171, 2)\n",
      "dtypes:  {'risk_free_rate': dtype('float64'), 'production': dtype('float64')}\n",
      "index dtype:  datetime64[ns]\n"
     ]
    },
    {
     "data": {
      "text/html": [
       "<div>\n",
       "<style scoped>\n",
       "    .dataframe tbody tr th:only-of-type {\n",
       "        vertical-align: middle;\n",
       "    }\n",
       "\n",
       "    .dataframe tbody tr th {\n",
       "        vertical-align: top;\n",
       "    }\n",
       "\n",
       "    .dataframe thead th {\n",
       "        text-align: right;\n",
       "    }\n",
       "</style>\n",
       "<table border=\"1\" class=\"dataframe\">\n",
       "  <thead>\n",
       "    <tr style=\"text-align: right;\">\n",
       "      <th></th>\n",
       "      <th>risk_free_rate</th>\n",
       "      <th>production</th>\n",
       "    </tr>\n",
       "    <tr>\n",
       "      <th>Date</th>\n",
       "      <th></th>\n",
       "      <th></th>\n",
       "    </tr>\n",
       "  </thead>\n",
       "  <tbody>\n",
       "    <tr>\n",
       "      <th>1954-07-01</th>\n",
       "      <td>1.13</td>\n",
       "      <td>NaN</td>\n",
       "    </tr>\n",
       "    <tr>\n",
       "      <th>1954-07-02</th>\n",
       "      <td>1.25</td>\n",
       "      <td>NaN</td>\n",
       "    </tr>\n",
       "    <tr>\n",
       "      <th>1954-07-03</th>\n",
       "      <td>1.25</td>\n",
       "      <td>NaN</td>\n",
       "    </tr>\n",
       "    <tr>\n",
       "      <th>2017-12-05</th>\n",
       "      <td>1.16</td>\n",
       "      <td>NaN</td>\n",
       "    </tr>\n",
       "    <tr>\n",
       "      <th>2017-12-06</th>\n",
       "      <td>1.16</td>\n",
       "      <td>NaN</td>\n",
       "    </tr>\n",
       "    <tr>\n",
       "      <th>2017-12-07</th>\n",
       "      <td>1.16</td>\n",
       "      <td>NaN</td>\n",
       "    </tr>\n",
       "  </tbody>\n",
       "</table>\n",
       "</div>"
      ],
      "text/plain": [
       "            risk_free_rate  production\n",
       "Date                                  \n",
       "1954-07-01            1.13         NaN\n",
       "1954-07-02            1.25         NaN\n",
       "1954-07-03            1.25         NaN\n",
       "2017-12-05            1.16         NaN\n",
       "2017-12-06            1.16         NaN\n",
       "2017-12-07            1.16         NaN"
      ]
     },
     "execution_count": 94,
     "metadata": {},
     "output_type": "execute_result"
    }
   ],
   "source": [
    "# do a left merge on the index (date info)\n",
    "df = pd.merge(ffr, autos, left_index=True, right_index=True, how=\"left\")\n",
    "df_info(df)"
   ]
  },
  {
   "cell_type": "code",
   "execution_count": 96,
   "metadata": {
    "scrolled": true
   },
   "outputs": [
    {
     "data": {
      "text/html": [
       "<div>\n",
       "<style scoped>\n",
       "    .dataframe tbody tr th:only-of-type {\n",
       "        vertical-align: middle;\n",
       "    }\n",
       "\n",
       "    .dataframe tbody tr th {\n",
       "        vertical-align: top;\n",
       "    }\n",
       "\n",
       "    .dataframe thead th {\n",
       "        text-align: right;\n",
       "    }\n",
       "</style>\n",
       "<table border=\"1\" class=\"dataframe\">\n",
       "  <thead>\n",
       "    <tr style=\"text-align: right;\">\n",
       "      <th></th>\n",
       "      <th>production</th>\n",
       "    </tr>\n",
       "    <tr>\n",
       "      <th>Date</th>\n",
       "      <th></th>\n",
       "    </tr>\n",
       "  </thead>\n",
       "  <tbody>\n",
       "    <tr>\n",
       "      <th>1967-01-31</th>\n",
       "      <td>7.4</td>\n",
       "    </tr>\n",
       "    <tr>\n",
       "      <th>1967-02-28</th>\n",
       "      <td>6.8</td>\n",
       "    </tr>\n",
       "    <tr>\n",
       "      <th>1967-03-31</th>\n",
       "      <td>7.5</td>\n",
       "    </tr>\n",
       "    <tr>\n",
       "      <th>1967-04-30</th>\n",
       "      <td>7.8</td>\n",
       "    </tr>\n",
       "    <tr>\n",
       "      <th>1967-05-31</th>\n",
       "      <td>7.8</td>\n",
       "    </tr>\n",
       "  </tbody>\n",
       "</table>\n",
       "</div>"
      ],
      "text/plain": [
       "            production\n",
       "Date                  \n",
       "1967-01-31         7.4\n",
       "1967-02-28         6.8\n",
       "1967-03-31         7.5\n",
       "1967-04-30         7.8\n",
       "1967-05-31         7.8"
      ]
     },
     "execution_count": 96,
     "metadata": {},
     "output_type": "execute_result"
    }
   ],
   "source": [
    "autos.head()"
   ]
  },
  {
   "cell_type": "markdown",
   "metadata": {},
   "source": [
    "Notice that we ended up with a lot of missing data. This happened for two reasons:\n",
    "\n",
    "1. The ffr data goes back to 1954, but the autos data starts in 1967\n",
    "2. The ffr data is at a daily frequency, but autos is monthly.\n",
    "\n",
    "To resolve the first issue we can subset the ffr data and only keep from 1985 on"
   ]
  },
  {
   "cell_type": "code",
   "execution_count": 97,
   "metadata": {
    "collapsed": true
   },
   "outputs": [],
   "source": [
    "ffr_recent = ffr[\"1985\":]"
   ]
  },
  {
   "cell_type": "markdown",
   "metadata": {},
   "source": [
    "To resolve the second issue we could do a couple of things. One interesting possibility will find some place in the middle:\n",
    "\n",
    "1. resample the `ffr` data to a weekly frequency\n",
    "2. resample the `autos` data to a weekly frequency by _padding_. This is called upsampling because we are going from a lower frequency (monthly) to a higher one (weekly). **Note** I would be mindful about performing any kind of formal analysis on padded data, as this is essentially filling in unknown data points. Its nice for making graphs, but be careful. "
   ]
  },
  {
   "cell_type": "code",
   "execution_count": 98,
   "metadata": {
    "collapsed": true
   },
   "outputs": [],
   "source": [
    "ffr_recentM = ffr_recent.resample(\"W\").mean()\n",
    "autos_M = autos.resample(\"W\").pad()"
   ]
  },
  {
   "cell_type": "code",
   "execution_count": 99,
   "metadata": {},
   "outputs": [
    {
     "data": {
      "text/html": [
       "<div>\n",
       "<style scoped>\n",
       "    .dataframe tbody tr th:only-of-type {\n",
       "        vertical-align: middle;\n",
       "    }\n",
       "\n",
       "    .dataframe tbody tr th {\n",
       "        vertical-align: top;\n",
       "    }\n",
       "\n",
       "    .dataframe thead th {\n",
       "        text-align: right;\n",
       "    }\n",
       "</style>\n",
       "<table border=\"1\" class=\"dataframe\">\n",
       "  <thead>\n",
       "    <tr style=\"text-align: right;\">\n",
       "      <th></th>\n",
       "      <th>production</th>\n",
       "    </tr>\n",
       "    <tr>\n",
       "      <th>Date</th>\n",
       "      <th></th>\n",
       "    </tr>\n",
       "  </thead>\n",
       "  <tbody>\n",
       "    <tr>\n",
       "      <th>1967-02-05</th>\n",
       "      <td>7.4</td>\n",
       "    </tr>\n",
       "    <tr>\n",
       "      <th>1967-02-12</th>\n",
       "      <td>7.4</td>\n",
       "    </tr>\n",
       "    <tr>\n",
       "      <th>1967-02-19</th>\n",
       "      <td>7.4</td>\n",
       "    </tr>\n",
       "    <tr>\n",
       "      <th>1967-02-26</th>\n",
       "      <td>7.4</td>\n",
       "    </tr>\n",
       "    <tr>\n",
       "      <th>1967-03-05</th>\n",
       "      <td>6.8</td>\n",
       "    </tr>\n",
       "    <tr>\n",
       "      <th>1967-03-12</th>\n",
       "      <td>6.8</td>\n",
       "    </tr>\n",
       "    <tr>\n",
       "      <th>1967-03-19</th>\n",
       "      <td>6.8</td>\n",
       "    </tr>\n",
       "    <tr>\n",
       "      <th>1967-03-26</th>\n",
       "      <td>6.8</td>\n",
       "    </tr>\n",
       "    <tr>\n",
       "      <th>1967-04-02</th>\n",
       "      <td>7.5</td>\n",
       "    </tr>\n",
       "    <tr>\n",
       "      <th>1967-04-09</th>\n",
       "      <td>7.5</td>\n",
       "    </tr>\n",
       "  </tbody>\n",
       "</table>\n",
       "</div>"
      ],
      "text/plain": [
       "            production\n",
       "Date                  \n",
       "1967-02-05         7.4\n",
       "1967-02-12         7.4\n",
       "1967-02-19         7.4\n",
       "1967-02-26         7.4\n",
       "1967-03-05         6.8\n",
       "1967-03-12         6.8\n",
       "1967-03-19         6.8\n",
       "1967-03-26         6.8\n",
       "1967-04-02         7.5\n",
       "1967-04-09         7.5"
      ]
     },
     "execution_count": 99,
     "metadata": {},
     "output_type": "execute_result"
    }
   ],
   "source": [
    "autos_M.head(10)"
   ]
  },
  {
   "cell_type": "markdown",
   "metadata": {},
   "source": [
    "Notice that using `pad` here just copied data forwards to fill in missing months (e.g. the data for March 1985 was applied to April and May)"
   ]
  },
  {
   "cell_type": "markdown",
   "metadata": {},
   "source": [
    "Now let's try that merge again"
   ]
  },
  {
   "cell_type": "code",
   "execution_count": 100,
   "metadata": {},
   "outputs": [
    {
     "name": "stdout",
     "output_type": "stream",
     "text": [
      "            risk_free_rate  production\n",
      "Date                                  \n",
      "1985-01-06        8.570000      7.9119\n",
      "1985-01-13        8.214286      7.9119\n",
      "1985-01-20        8.180000      7.9119\n",
      "1985-01-27        8.312857      7.9119\n",
      "1985-02-03        8.667143      8.2634\n",
      "1985-02-10        8.438571      8.2634\n",
      "\n",
      "\n",
      "             risk_free_rate  production\n",
      "Date                                  \n",
      "2017-10-22        1.160000      2.6614\n",
      "2017-10-29        1.160000      2.6614\n",
      "2017-11-05        1.147143      2.6977\n",
      "2017-11-12        1.160000         NaN\n",
      "2017-11-19        1.160000         NaN\n",
      "2017-11-26        1.160000         NaN\n",
      "2017-12-03        1.147143         NaN\n",
      "2017-12-10        1.160000         NaN\n"
     ]
    }
   ],
   "source": [
    "df = pd.merge(ffr_recentM, autos_M, left_index=True, right_index=True, how=\"left\")\n",
    "print(df.head(6))\n",
    "print(\"\\n\\n\", df.tail(8))"
   ]
  },
  {
   "cell_type": "markdown",
   "metadata": {},
   "source": [
    "That looks much better."
   ]
  },
  {
   "cell_type": "markdown",
   "metadata": {},
   "source": [
    "Let's try to do something interesting with this data. I want to plot rolling max and min of the risk free rate during the financial crisis. The spread between the two will give us a sense of the amount of volatility in the financial markets. Second, I want to plot auto sales over that same time **on top of the same graph** so you have two y-axis, one on the left, another on the right for each series. "
   ]
  },
  {
   "cell_type": "code",
   "execution_count": 141,
   "metadata": {
    "scrolled": false
   },
   "outputs": [
    {
     "data": {
      "text/plain": [
       "Text(0,0.5,'\\n Auto Production (Millions), Black')"
      ]
     },
     "execution_count": 141,
     "metadata": {},
     "output_type": "execute_result"
    },
    {
     "data": {
      "image/png": "[encoded data removed]",
      "text/plain": [
       "<matplotlib.figure.Figure at 0x8f4a36a9b0>"
      ]
     },
     "metadata": {},
     "output_type": "display_data"
    }
   ],
   "source": [
    "plt.style.use(\"ggplot\")\n",
    "\n",
    "fig, ax = plt.subplots()\n",
    "\n",
    "ffr[\"2008-8\":\"2008-11\"].rolling(window=7).max().plot(ax=ax, legend = False)\n",
    "ffr[\"2008-8\":\"2008-11\"].rolling(window=7).min().plot(ax=ax, legend = False)\n",
    "\n",
    "ax.set_ylabel('\\n Risk Free Rate: \\n Max and Min 7 day Rolling, Red and Blue')\n",
    "\n",
    "ax2 = ax.twinx() # This is the key command which creates a \"twin\" for the \n",
    "                 # axis, then we use this ax2 for ploting auto sales\n",
    "\n",
    "autos[\"2008-8\":\"2008-12\"].plot(ax=ax2, color = 'k', legend = False)\n",
    "\n",
    "ax2.set_ylabel('\\n Auto Production (Millions), Black')"
   ]
  },
  {
   "cell_type": "code",
   "execution_count": 124,
   "metadata": {
    "collapsed": true
   },
   "outputs": [],
   "source": [
    "#import matplotlib as mpl\n",
    "#mpl.rcParams.update(mpl.rcParamsDefault)"
   ]
  },
  {
   "cell_type": "code",
   "execution_count": null,
   "metadata": {
    "collapsed": true
   },
   "outputs": [],
   "source": []
  }
 ],
 "metadata": {
  "anaconda-cloud": {},
  "kernelspec": {
   "display_name": "Python [conda root]",
   "language": "python",
   "name": "conda-root-py"
  },
  "language_info": {
   "codemirror_mode": {
    "name": "ipython",
    "version": 3
   },
   "file_extension": ".py",
   "mimetype": "text/x-python",
   "name": "python",
   "nbconvert_exporter": "python",
   "pygments_lexer": "ipython3",
   "version": "3.5.2"
  }
 },
 "nbformat": 4,
 "nbformat_minor": 1
}
