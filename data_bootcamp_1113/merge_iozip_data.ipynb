{
 "cells": [
  {
   "cell_type": "markdown",
   "metadata": {},
   "source": [
    "# Merging and Combining data  \n",
    "\n",
    "Sometimes we need to combine data. In many instances, adding additional data is a way to enrich both the questions that can be asked of your original data set and the answers that can be provided. This notebook looks at ways to  create one dataframe from two or more dataframes.  That's colloquially known as a **merge** or a **join**. There are lots of ways to do this.  We do a couple but supply references to more at the end.  \n",
    "\n",
    "Along the way we take an extended detour to review methods for **downloading** and **unzipping** compressed files.  The tools we use here have a broad range of other applications, including web scraping.  \n",
    "\n",
    "Outline:  \n",
    "\n",
    "* [MovieLens data](#movielens).  A collection of movies and individual ratings.  \n",
    "* [Automate file download](#requests).  Use the requests package to get a zipped file, then other tools to unzip it and read in the contents.  \n",
    "* [Merge movie names and ratings](#merge-movies).  Merge information from two dataframes with Pandas' `merge` function.  \n",
    "\n",
    "**Note: requires internet access to run.**  "
   ]
  },
  {
   "cell_type": "code",
   "execution_count": 1,
   "metadata": {
    "collapsed": true
   },
   "outputs": [],
   "source": [
    "import pandas as pd             # data package\n",
    "import matplotlib.pyplot as plt # graphics \n",
    "\n",
    "# these are new \n",
    "import requests, io             # internet and input tools  \n",
    "import zipfile as zf            # zip file tools \n",
    "import shutil                   # file management tools \n",
    "import os                       # operating system tools (check files)"
   ]
  },
  {
   "cell_type": "markdown",
   "metadata": {},
   "source": [
    "## A Quick Primer on Merging\n",
    "\n",
    "First, lets look at some simple examples and see how merging works. Then we will explore this more with the Movie data. The key command here is ``pd.merge()`` which is a pandas method applied to two data frames. What you need to provide pandas are the two data frames, the type of merge, and the ``key`` to merge on. Below, I'm going to look at a couple of common examples that I come across, one-to-one merges and many to one merges (in the documentation there is a discussion of many to many merges). Lets see this:"
   ]
  },
  {
   "cell_type": "code",
   "execution_count": 13,
   "metadata": {},
   "outputs": [
    {
     "data": {
      "text/html": [
       "<div>\n",
       "<style scoped>\n",
       "    .dataframe tbody tr th:only-of-type {\n",
       "        vertical-align: middle;\n",
       "    }\n",
       "\n",
       "    .dataframe tbody tr th {\n",
       "        vertical-align: top;\n",
       "    }\n",
       "\n",
       "    .dataframe thead th {\n",
       "        text-align: right;\n",
       "    }\n",
       "</style>\n",
       "<table border=\"1\" class=\"dataframe\">\n",
       "  <thead>\n",
       "    <tr style=\"text-align: right;\">\n",
       "      <th></th>\n",
       "      <th>cntry</th>\n",
       "      <th>gdp</th>\n",
       "      <th>cpi</th>\n",
       "      <th>_merge</th>\n",
       "    </tr>\n",
       "  </thead>\n",
       "  <tbody>\n",
       "    <tr>\n",
       "      <th>0</th>\n",
       "      <td>USA</td>\n",
       "      <td>100</td>\n",
       "      <td>10</td>\n",
       "      <td>both</td>\n",
       "    </tr>\n",
       "    <tr>\n",
       "      <th>1</th>\n",
       "      <td>JPN</td>\n",
       "      <td>110</td>\n",
       "      <td>15</td>\n",
       "      <td>both</td>\n",
       "    </tr>\n",
       "  </tbody>\n",
       "</table>\n",
       "</div>"
      ],
      "text/plain": [
       "  cntry  gdp  cpi _merge\n",
       "0   USA  100   10   both\n",
       "1   JPN  110   15   both"
      ]
     },
     "execution_count": 13,
     "metadata": {},
     "output_type": "execute_result"
    }
   ],
   "source": [
    "gdp_data = {\"cntry\": [\"USA\", \"JPN\"],\n",
    "               \"gdp\": [100, 110]}\n",
    "cpi_data = {\"cntry\": [\"USA\", \"JPN\"],\n",
    "               \"cpi\": [10, 15]}\n",
    "\n",
    "df_one = pd.DataFrame(gdp_data)\n",
    "df_two = pd.DataFrame(cpi_data)\n",
    "\n",
    "# Here is a classic one-to-one merge\n",
    "combo = pd.merge(df_one, df_two,# left df, right df\n",
    "                 on='cntry',       # link with cntry\n",
    "                 how='left',        # add to left...does this matter here?\n",
    "                 indicator=True)  # Tells us what happend\n",
    "\n",
    "combo.head()"
   ]
  },
  {
   "cell_type": "markdown",
   "metadata": {},
   "source": [
    "So we have two data frames, one with gdp data and one with cpi data for two countries in **both** dataframes. We want to create one dataframe out of the two initial ones. So then ``pd.merge`` takes the left data frame, the right dataframe, and then we provide some options. \n",
    "- The most important one is ``on`` this provides the key to match up the two dataframes. In this case this is the country.\n",
    "- The second important on is ``how`` this tells us the method to which the merge is undertaken. There are four options, ``left`` (which just takes the keys from the left), ``right`` (which just takes the keys on the right), ``inner`` (which just takes the intersection of the keys), and ``outer`` (which takes the union). Note here it does not matter because there is an exact one-to-one correspondence of the keys.\n",
    "- Finally, I like to use the indicator option that will generate a new column with a description of what happened. In this case, the key was found on both.\n",
    "\n",
    "Below is another example. It is still a one-to-one merge, but now there on some keys on one dataframe that are not in another..."
   ]
  },
  {
   "cell_type": "code",
   "execution_count": 11,
   "metadata": {},
   "outputs": [
    {
     "data": {
      "text/html": [
       "<div>\n",
       "<style scoped>\n",
       "    .dataframe tbody tr th:only-of-type {\n",
       "        vertical-align: middle;\n",
       "    }\n",
       "\n",
       "    .dataframe tbody tr th {\n",
       "        vertical-align: top;\n",
       "    }\n",
       "\n",
       "    .dataframe thead th {\n",
       "        text-align: right;\n",
       "    }\n",
       "</style>\n",
       "<table border=\"1\" class=\"dataframe\">\n",
       "  <thead>\n",
       "    <tr style=\"text-align: right;\">\n",
       "      <th></th>\n",
       "      <th>cntry</th>\n",
       "      <th>gdp</th>\n",
       "      <th>cpi</th>\n",
       "      <th>_merge</th>\n",
       "    </tr>\n",
       "  </thead>\n",
       "  <tbody>\n",
       "    <tr>\n",
       "      <th>0</th>\n",
       "      <td>USA</td>\n",
       "      <td>100</td>\n",
       "      <td>10.0</td>\n",
       "      <td>both</td>\n",
       "    </tr>\n",
       "    <tr>\n",
       "      <th>1</th>\n",
       "      <td>JPN</td>\n",
       "      <td>110</td>\n",
       "      <td>15.0</td>\n",
       "      <td>both</td>\n",
       "    </tr>\n",
       "    <tr>\n",
       "      <th>2</th>\n",
       "      <td>BRZ</td>\n",
       "      <td>50</td>\n",
       "      <td>NaN</td>\n",
       "      <td>left_only</td>\n",
       "    </tr>\n",
       "  </tbody>\n",
       "</table>\n",
       "</div>"
      ],
      "text/plain": [
       "  cntry  gdp   cpi     _merge\n",
       "0   USA  100  10.0       both\n",
       "1   JPN  110  15.0       both\n",
       "2   BRZ   50   NaN  left_only"
      ]
     },
     "execution_count": 11,
     "metadata": {},
     "output_type": "execute_result"
    }
   ],
   "source": [
    "# Here is still a one-to-one merge, but a bit more complicated...\n",
    "# Since the two dataframes have different stuff missing...\n",
    "\n",
    "gdp_data = {\"cntry\": [\"USA\", \"JPN\", \"BRZ\"],\n",
    "               \"gdp\": [100, 110, 50]}\n",
    "cpi_data = {\"cntry\": [\"USA\", \"JPN\", \"CHN\"],\n",
    "               \"cpi\": [10, 15, 8]}\n",
    "\n",
    "df_one = pd.DataFrame(gdp_data)\n",
    "df_two = pd.DataFrame(cpi_data)\n",
    "\n",
    "# Here is a classic one-to-one merge\n",
    "combo = pd.merge(df_one, df_two,   # left df, right df\n",
    "                 how='left',      # Try the different options, inner, outer, left, right...what happens.\n",
    "                 on='cntry',       # link with cntry\n",
    "                 indicator=True)  # Tells us what happend\n",
    "\n",
    "combo.head()"
   ]
  },
  {
   "cell_type": "markdown",
   "metadata": {},
   "source": [
    "**Try different ``how`` operations ...what happens?** \n",
    "\n",
    "Now below is an example of a many-to-one merge. That is we will assign many values to one depending upon the key. This is what is going on with the MovieLens data below..."
   ]
  },
  {
   "cell_type": "code",
   "execution_count": 12,
   "metadata": {},
   "outputs": [
    {
     "data": {
      "text/html": [
       "<div>\n",
       "<style scoped>\n",
       "    .dataframe tbody tr th:only-of-type {\n",
       "        vertical-align: middle;\n",
       "    }\n",
       "\n",
       "    .dataframe tbody tr th {\n",
       "        vertical-align: top;\n",
       "    }\n",
       "\n",
       "    .dataframe thead th {\n",
       "        text-align: right;\n",
       "    }\n",
       "</style>\n",
       "<table border=\"1\" class=\"dataframe\">\n",
       "  <thead>\n",
       "    <tr style=\"text-align: right;\">\n",
       "      <th></th>\n",
       "      <th>cntry</th>\n",
       "      <th>gdp</th>\n",
       "      <th>pop</th>\n",
       "      <th>state</th>\n",
       "      <th>_merge</th>\n",
       "    </tr>\n",
       "  </thead>\n",
       "  <tbody>\n",
       "    <tr>\n",
       "      <th>0</th>\n",
       "      <td>USA</td>\n",
       "      <td>100</td>\n",
       "      <td>10</td>\n",
       "      <td>NY</td>\n",
       "      <td>both</td>\n",
       "    </tr>\n",
       "    <tr>\n",
       "      <th>1</th>\n",
       "      <td>USA</td>\n",
       "      <td>100</td>\n",
       "      <td>5</td>\n",
       "      <td>AK</td>\n",
       "      <td>both</td>\n",
       "    </tr>\n",
       "    <tr>\n",
       "      <th>2</th>\n",
       "      <td>JPN</td>\n",
       "      <td>110</td>\n",
       "      <td>8</td>\n",
       "      <td>Kyoto</td>\n",
       "      <td>both</td>\n",
       "    </tr>\n",
       "    <tr>\n",
       "      <th>3</th>\n",
       "      <td>JPN</td>\n",
       "      <td>110</td>\n",
       "      <td>4</td>\n",
       "      <td>Tokyo</td>\n",
       "      <td>both</td>\n",
       "    </tr>\n",
       "  </tbody>\n",
       "</table>\n",
       "</div>"
      ],
      "text/plain": [
       "  cntry  gdp  pop  state _merge\n",
       "0   USA  100   10     NY   both\n",
       "1   USA  100    5     AK   both\n",
       "2   JPN  110    8  Kyoto   both\n",
       "3   JPN  110    4  Tokyo   both"
      ]
     },
     "execution_count": 12,
     "metadata": {},
     "output_type": "execute_result"
    }
   ],
   "source": [
    "gdp_data = {\"cntry\": [\"USA\", \"JPN\", \"BRZ\"],\n",
    "               \"gdp\": [100, 110, 50]}\n",
    "state_pop_data = {\"cntry\": [\"USA\", \"USA\", \"JPN\", \"JPN\"],\n",
    "                  \"state\": [\"NY\", \"AK\", \"Kyoto\", \"Tokyo\"],\n",
    "                  \"pop\": [10, 5, 8, 4]}\n",
    "\n",
    "df_one = pd.DataFrame(gdp_data)\n",
    "df_two = pd.DataFrame(state_pop_data)\n",
    "\n",
    "# Here is a classic one-to-one merge\n",
    "combo = pd.merge(df_one, df_two,   # left df, right df\n",
    "                 how='inner',      # Try the different options, inner, outer, left, right...what happens.\n",
    "                 on='cntry',       # link with cntry\n",
    "                 indicator=True)  # Tells us what happend\n",
    "\n",
    "combo.head()"
   ]
  },
  {
   "cell_type": "markdown",
   "metadata": {},
   "source": [
    "Note what is going on here. For each state (or prefecture in Japan)....(the many part) the countries GDP is assigned to the one value associated with the key, in this case GDP. Again, **Try different ``how`` operations ...what happens?** \n",
    "\n",
    "Lets see this at work for a lager, more interesting dataset."
   ]
  },
  {
   "cell_type": "markdown",
   "metadata": {},
   "source": [
    "## MovieLens data \n",
    "\n",
    "The data comes as a zip file that contains several csv's.  We get the details from the README inside.  (It's written in Markdown, so it's easier to read if we use a browser to format it.  Or we could cut and paste into a Markdown cell in an IPython notebook.)  \n",
    "\n",
    "The file descriptions are:  \n",
    "\n",
    "* `ratings.csv`:  each line is an individual film rating with the rater and movie id's and the rating.  Order:  `userId, movieId, rating, timestamp`. \n",
    "* `tags.csv`:  each line is a tag on a specific film.  Order:  `userId, movieId, tag, timestamp`. \n",
    "* `movies.csv`:  each line is a movie name, its id, and its genre.  Order:  `movieId, title, genres`.  Multiple genres are separated by \"pipes\" `|`.   \n",
    "* `links.csv`:  each line contains the movie id and corresponding id's at [IMBd](http://www.imdb.com/) and [TMDb](https://www.themoviedb.org/).  \n",
    "\n",
    "The easy way to input this data is to download the zip file onto our computer, unzip it, and read the individual csv files using `read.csv()`.  But **anyone can do it the easy way**.  We want to automate this, so we can redo it without any manual steps.  This takes some effort, but once we have it down we can apply it to lots of other data sources.  "
   ]
  },
  {
   "cell_type": "markdown",
   "metadata": {},
   "source": [
    "## Automate file download \n",
    "\n",
    "We're looking for an automated way, so that if we do this again, possibly with updated data, the whole process is in our code.  Automated data entry involves these steps: \n",
    "\n",
    "* Get the file.  We use the [requests](http://docs.python-requests.org/) package, which handles internet files and comes pre-installed with Anaconda. This kind of thing was hidden behind the scenes in the Pandas `read_csv` function, but here we need to do it for ourselves. The package authors add:  \n",
    ">Recreational use of other HTTP libraries may result in dangerous side-effects, including: security vulnerabilities, verbose code, reinventing the wheel, constantly reading documentation, depression, headaches, or even death.\n",
    "* Convert to zip.   Requests simply loads whatever's at the given url. The [io](https://docs.python.org/3.5/library/io.html) module's `io.Bytes` reconstructs it as a file, here a zip file.  \n",
    "* Unzip the file.  We use the [zipfile](https://docs.python.org/3.5/library/zipfile.html) module, which is part of core Python, to extract the files inside.   \n",
    "* Read in the csv's.  Now that we've extracted the csv files, we use `read_csv` as usual.  \n",
    "\n",
    "We found this [Stack Overflow exchange](http://stackoverflow.com/questions/23419322/download-a-zip-file-and-extract-it-in-memory-using-python3) helpful. \n",
    "\n",
    "**Digression.**  This is probably more than you want to know, but it's a reminder of what goes on behind the scenes when we apply `read_csv` to a url.  Here we grab whatever is at the url.  Then we get its contents, convert it to bytes, identify it as a zip file, and read its components using `read_csv`.  It's a lot easier when this happens automatically, but a reminder what's involved if we ever have to look into the details.  "
   ]
  },
  {
   "cell_type": "code",
   "execution_count": 3,
   "metadata": {},
   "outputs": [
    {
     "name": "stdout",
     "output_type": "stream",
     "text": [
      "Response status code: 200\n",
      "Response type: <class 'requests.models.Response'>\n",
      "Response .content: <class 'bytes'>\n",
      "Response headers:\n",
      "{'Date': 'Wed, 15 Nov 2017 16:39:34 GMT', 'Server': 'Apache/2.4.18 (Ubuntu)', 'Content-Length': '918269', 'Accept-Ranges': 'bytes', 'ETag': '\"e02fd-53f1536837040\"', 'Content-Type': 'application/zip', 'Connection': 'Keep-Alive', 'Keep-Alive': 'timeout=5, max=100', 'Last-Modified': 'Mon, 17 Oct 2016 20:13:45 GMT'}\n"
     ]
    }
   ],
   "source": [
    "# get \"response\" from url \n",
    "url = 'http://files.grouplens.org/datasets/movielens/ml-latest-small.zip'\n",
    "r = requests.get(url) \n",
    "\n",
    "# describe response \n",
    "print('Response status code:', r.status_code)\n",
    "# Here is a link to what different coes mean: https://developer.mozilla.org/en-US/docs/Web/HTTP/Status\n",
    "# Quick summary 200 is good, 400 is bad, i.e. its not responsive may not exist. Othere indicate something\n",
    "# more complicated might be going on.\n",
    "\n",
    "print('Response type:', type(r))\n",
    "print('Response .content:', type(r.content)) \n",
    "print('Response headers:\\n', r.headers, sep='')"
   ]
  },
  {
   "cell_type": "code",
   "execution_count": 4,
   "metadata": {},
   "outputs": [
    {
     "name": "stdout",
     "output_type": "stream",
     "text": [
      "Type of zipfile object: <class 'zipfile.ZipFile'>\n"
     ]
    }
   ],
   "source": [
    "# convert bytes to zip file  \n",
    "mlz = zf.ZipFile(io.BytesIO(r.content)) \n",
    "print('Type of zipfile object:', type(mlz))"
   ]
  },
  {
   "cell_type": "code",
   "execution_count": 5,
   "metadata": {},
   "outputs": [
    {
     "data": {
      "text/plain": [
       "['ml-latest-small/',\n",
       " 'ml-latest-small/links.csv',\n",
       " 'ml-latest-small/movies.csv',\n",
       " 'ml-latest-small/ratings.csv',\n",
       " 'ml-latest-small/README.txt',\n",
       " 'ml-latest-small/tags.csv']"
      ]
     },
     "execution_count": 5,
     "metadata": {},
     "output_type": "execute_result"
    }
   ],
   "source": [
    "# what's in the zip file?\n",
    "# This is really cool...\n",
    "mlz.namelist()"
   ]
  },
  {
   "cell_type": "code",
   "execution_count": 6,
   "metadata": {
    "collapsed": true
   },
   "outputs": [],
   "source": [
    "# extract and read csv's\n",
    "movies  = pd.read_csv(mlz.open(mlz.namelist()[2]))\n",
    "ratings = pd.read_csv(mlz.open(mlz.namelist()[3]))"
   ]
  },
  {
   "cell_type": "code",
   "execution_count": 7,
   "metadata": {},
   "outputs": [
    {
     "name": "stdout",
     "output_type": "stream",
     "text": [
      "Type: <class 'pandas.core.frame.DataFrame'>\n",
      "Dimensions: (9125, 3)\n",
      "Variables: ['movieId', 'title', 'genres']\n",
      "First few rows    movieId                    title  \\\n",
      "0        1         Toy Story (1995)   \n",
      "1        2           Jumanji (1995)   \n",
      "2        3  Grumpier Old Men (1995)   \n",
      "\n",
      "                                        genres  \n",
      "0  Adventure|Animation|Children|Comedy|Fantasy  \n",
      "1                   Adventure|Children|Fantasy  \n",
      "2                               Comedy|Romance   \n",
      "\n",
      "Type: <class 'pandas.core.frame.DataFrame'>\n",
      "Dimensions: (100004, 4)\n",
      "Variables: ['userId', 'movieId', 'rating', 'timestamp']\n",
      "First few rows    userId  movieId  rating   timestamp\n",
      "0       1       31     2.5  1260759144\n",
      "1       1     1029     3.0  1260759179\n",
      "2       1     1061     3.0  1260759182 \n",
      "\n"
     ]
    }
   ],
   "source": [
    "# Whip through the dataframes and look what is going on...\n",
    "\n",
    "for df in [movies, ratings]:\n",
    "    print('Type:', type(df))\n",
    "    print('Dimensions:', df.shape)\n",
    "    print('Variables:', list(df))\n",
    "    print('First few rows', df.head(3), '\\n')"
   ]
  },
  {
   "cell_type": "markdown",
   "metadata": {},
   "source": [
    "**Exercise.** Something to do together. Suppose we wanted to save the files on our computer.  How would we do it? Would we prefer individual csv's or a single zip?"
   ]
  },
  {
   "cell_type": "markdown",
   "metadata": {},
   "source": [
    "## Merging ratings and movie titles \n",
    "\n",
    "The movie ratings in the dataframe `ratings` give us individual opinions about movies, but they don't include the name of the movie.   Why not?  Rather than include the name every time a movie is rated, the MovieLens data associates each rating with a movie code, than stores the names of movies associated with each movie code in the dataframe `movies`.  We run across this a lot:  some information is in one data table, other information is in another. Here, since this was an intientional decision to split up the files, there is a natural ``key`` that can be used to link the two. \n",
    "\n",
    "Our **want** is therefore to add the movie name to the `ratings` dataframe.  We say we **merge** the two dataferames.  There are lots of ways to merge.  Here we do one as an illustration.  "
   ]
  },
  {
   "cell_type": "markdown",
   "metadata": {},
   "source": [
    "### Merging\n",
    "\n",
    "Here's roughly what's involved in what we're doing.  We take the `movieId` variable from `ratings` and look it up in `movies`.  When we find it, we look up the `title` and add it as a column in `ratings`.  The variable `movieId` is common, so we can use it to link the two dataframes.  Is this a many-to-one merge or one-to-one merge?"
   ]
  },
  {
   "cell_type": "code",
   "execution_count": 34,
   "metadata": {},
   "outputs": [
    {
     "name": "stdout",
     "output_type": "stream",
     "text": [
      "Dimensions of ratings: (100004, 4)\n",
      "Dimensions of movies: (9125, 3)\n",
      "Dimensions of new df: (100004, 7)\n"
     ]
    },
    {
     "data": {
      "text/html": [
       "<div>\n",
       "<style scoped>\n",
       "    .dataframe tbody tr th:only-of-type {\n",
       "        vertical-align: middle;\n",
       "    }\n",
       "\n",
       "    .dataframe tbody tr th {\n",
       "        vertical-align: top;\n",
       "    }\n",
       "\n",
       "    .dataframe thead th {\n",
       "        text-align: right;\n",
       "    }\n",
       "</style>\n",
       "<table border=\"1\" class=\"dataframe\">\n",
       "  <thead>\n",
       "    <tr style=\"text-align: right;\">\n",
       "      <th></th>\n",
       "      <th>userId</th>\n",
       "      <th>movieId</th>\n",
       "      <th>rating</th>\n",
       "      <th>timestamp</th>\n",
       "      <th>title</th>\n",
       "      <th>genres</th>\n",
       "      <th>_merge</th>\n",
       "    </tr>\n",
       "  </thead>\n",
       "  <tbody>\n",
       "    <tr>\n",
       "      <th>0</th>\n",
       "      <td>1</td>\n",
       "      <td>31</td>\n",
       "      <td>2.5</td>\n",
       "      <td>1260759144</td>\n",
       "      <td>Dangerous Minds (1995)</td>\n",
       "      <td>Drama</td>\n",
       "      <td>both</td>\n",
       "    </tr>\n",
       "    <tr>\n",
       "      <th>1</th>\n",
       "      <td>1</td>\n",
       "      <td>1029</td>\n",
       "      <td>3.0</td>\n",
       "      <td>1260759179</td>\n",
       "      <td>Dumbo (1941)</td>\n",
       "      <td>Animation|Children|Drama|Musical</td>\n",
       "      <td>both</td>\n",
       "    </tr>\n",
       "    <tr>\n",
       "      <th>2</th>\n",
       "      <td>1</td>\n",
       "      <td>1061</td>\n",
       "      <td>3.0</td>\n",
       "      <td>1260759182</td>\n",
       "      <td>Sleepers (1996)</td>\n",
       "      <td>Thriller</td>\n",
       "      <td>both</td>\n",
       "    </tr>\n",
       "    <tr>\n",
       "      <th>3</th>\n",
       "      <td>1</td>\n",
       "      <td>1129</td>\n",
       "      <td>2.0</td>\n",
       "      <td>1260759185</td>\n",
       "      <td>Escape from New York (1981)</td>\n",
       "      <td>Action|Adventure|Sci-Fi|Thriller</td>\n",
       "      <td>both</td>\n",
       "    </tr>\n",
       "    <tr>\n",
       "      <th>4</th>\n",
       "      <td>1</td>\n",
       "      <td>1172</td>\n",
       "      <td>4.0</td>\n",
       "      <td>1260759205</td>\n",
       "      <td>Cinema Paradiso (Nuovo cinema Paradiso) (1989)</td>\n",
       "      <td>Drama</td>\n",
       "      <td>both</td>\n",
       "    </tr>\n",
       "  </tbody>\n",
       "</table>\n",
       "</div>"
      ],
      "text/plain": [
       "   userId  movieId  rating   timestamp  \\\n",
       "0       1       31     2.5  1260759144   \n",
       "1       1     1029     3.0  1260759179   \n",
       "2       1     1061     3.0  1260759182   \n",
       "3       1     1129     2.0  1260759185   \n",
       "4       1     1172     4.0  1260759205   \n",
       "\n",
       "                                            title  \\\n",
       "0                          Dangerous Minds (1995)   \n",
       "1                                    Dumbo (1941)   \n",
       "2                                 Sleepers (1996)   \n",
       "3                     Escape from New York (1981)   \n",
       "4  Cinema Paradiso (Nuovo cinema Paradiso) (1989)   \n",
       "\n",
       "                             genres _merge  \n",
       "0                             Drama   both  \n",
       "1  Animation|Children|Drama|Musical   both  \n",
       "2                          Thriller   both  \n",
       "3  Action|Adventure|Sci-Fi|Thriller   both  \n",
       "4                             Drama   both  "
      ]
     },
     "execution_count": 34,
     "metadata": {},
     "output_type": "execute_result"
    }
   ],
   "source": [
    "print('Dimensions of ratings:', ratings.shape)\n",
    "print('Dimensions of movies:', movies.shape)\n",
    "\n",
    "# Again note how there are more ratings than movies...\n",
    "# It is a many-to-one merge, assign the many ratings\n",
    "# to a ONE movie title. \n",
    "\n",
    "combo = pd.merge(ratings, movies,   # left and right df's\n",
    "                 how='left',        # add to left \n",
    "                 on='movieId',       # link with this variable/column \n",
    "                 indicator=True) \n",
    "\n",
    "print('Dimensions of new df:', combo.shape)\n",
    "\n",
    "combo.head()\n",
    "\n"
   ]
  },
  {
   "cell_type": "markdown",
   "metadata": {},
   "source": [
    "**Now try the merge with right part...What is going on here?**"
   ]
  },
  {
   "cell_type": "code",
   "execution_count": null,
   "metadata": {
    "collapsed": true
   },
   "outputs": [],
   "source": [
    "combo = pd.merge(ratings, movies,   # left and right df's\n",
    "                 how='right',        # add to left \n",
    "                 on='movieId',       # link with this variable/column \n",
    "                 indicator=True) \n",
    "\n",
    "print('Dimensions of new df:', combo.shape)\n",
    "\n",
    "combo.head()\n",
    "\n",
    "combo[combo[\"_merge\"] == \"right_only\"]"
   ]
  },
  {
   "cell_type": "markdown",
   "metadata": {},
   "source": [
    "Now we can save this for work later on our local computer"
   ]
  },
  {
   "cell_type": "code",
   "execution_count": 15,
   "metadata": {},
   "outputs": [
    {
     "name": "stdout",
     "output_type": "stream",
     "text": [
      "Current directory:\n",
      "C:\\data_bootcamp\\Data_Bootcamp_Fall_2017\\data_bootcamp_1113\n",
      "List of files:\n",
      "['.ipynb_checkpoints', 'merge_iozip_data.ipynb', 'mlcombined.csv']\n"
     ]
    }
   ],
   "source": [
    "# save as csv file for future use \n",
    "#combo.to_csv('mlcombined.csv')\n",
    "\n",
    "print('Current directory:\\n', os.getcwd(), sep='')\n",
    "print('List of files:', os.listdir(), sep='\\n')"
   ]
  },
  {
   "cell_type": "markdown",
   "metadata": {},
   "source": [
    "**Exercise.** Some of these we know how to do, the others we don't.  For the ones we know, what is the answer?  For the others, what (in loose terms) do we need to be able to do to come up with an answer?  \n",
    "\n",
    "* What is the overall average rating?  By genre?\n",
    "* What is the overall distribution of ratings?  \n"
   ]
  },
  {
   "cell_type": "code",
   "execution_count": 46,
   "metadata": {},
   "outputs": [
    {
     "name": "stdout",
     "output_type": "stream",
     "text": [
      "Average Rating 3.54\n",
      "Median Rating 4.0\n"
     ]
    },
    {
     "data": {
      "image/png": "[encoded data removed]",
      "text/plain": [
       "<matplotlib.figure.Figure at 0x4967bf2fd0>"
      ]
     },
     "metadata": {},
     "output_type": "display_data"
    }
   ],
   "source": [
    "print(\"Average Rating\",round(combo.rating.mean(),2))\n",
    "print(\"Median Rating\",round(combo.rating.median(),2))\n",
    "\n",
    "fig, ax = plt.subplots()\n",
    "\n",
    "combo.rating.plot(ax = ax, kind = \"hist\", bins = 15)\n",
    "plt.show()"
   ]
  },
  {
   "cell_type": "markdown",
   "metadata": {},
   "source": [
    "Lets ask a couple of more questions, this practices `groupby`\n",
    "* What is the average rating of each movie?  \n",
    "* How many ratings does each movie get? "
   ]
  },
  {
   "cell_type": "code",
   "execution_count": 69,
   "metadata": {},
   "outputs": [
    {
     "data": {
      "text/html": [
       "<div>\n",
       "<style scoped>\n",
       "    .dataframe tbody tr th:only-of-type {\n",
       "        vertical-align: middle;\n",
       "    }\n",
       "\n",
       "    .dataframe tbody tr th {\n",
       "        vertical-align: top;\n",
       "    }\n",
       "\n",
       "    .dataframe thead th {\n",
       "        text-align: right;\n",
       "    }\n",
       "</style>\n",
       "<table border=\"1\" class=\"dataframe\">\n",
       "  <thead>\n",
       "    <tr style=\"text-align: right;\">\n",
       "      <th></th>\n",
       "      <th>count</th>\n",
       "      <th>mean</th>\n",
       "    </tr>\n",
       "    <tr>\n",
       "      <th>title</th>\n",
       "      <th></th>\n",
       "      <th></th>\n",
       "    </tr>\n",
       "  </thead>\n",
       "  <tbody>\n",
       "    <tr>\n",
       "      <th>\"Great Performances\" Cats (1998)</th>\n",
       "      <td>2</td>\n",
       "      <td>1.750000</td>\n",
       "    </tr>\n",
       "    <tr>\n",
       "      <th>$9.99 (2008)</th>\n",
       "      <td>3</td>\n",
       "      <td>3.833333</td>\n",
       "    </tr>\n",
       "    <tr>\n",
       "      <th>'Hellboy': The Seeds of Creation (2004)</th>\n",
       "      <td>1</td>\n",
       "      <td>2.000000</td>\n",
       "    </tr>\n",
       "    <tr>\n",
       "      <th>'Neath the Arizona Skies (1934)</th>\n",
       "      <td>1</td>\n",
       "      <td>0.500000</td>\n",
       "    </tr>\n",
       "    <tr>\n",
       "      <th>'Round Midnight (1986)</th>\n",
       "      <td>2</td>\n",
       "      <td>2.250000</td>\n",
       "    </tr>\n",
       "    <tr>\n",
       "      <th>'Salem's Lot (2004)</th>\n",
       "      <td>1</td>\n",
       "      <td>3.500000</td>\n",
       "    </tr>\n",
       "    <tr>\n",
       "      <th>'Til There Was You (1997)</th>\n",
       "      <td>4</td>\n",
       "      <td>2.625000</td>\n",
       "    </tr>\n",
       "    <tr>\n",
       "      <th>'burbs, The (1989)</th>\n",
       "      <td>19</td>\n",
       "      <td>3.052632</td>\n",
       "    </tr>\n",
       "    <tr>\n",
       "      <th>'night Mother (1986)</th>\n",
       "      <td>3</td>\n",
       "      <td>5.000000</td>\n",
       "    </tr>\n",
       "    <tr>\n",
       "      <th>(500) Days of Summer (2009)</th>\n",
       "      <td>45</td>\n",
       "      <td>3.755556</td>\n",
       "    </tr>\n",
       "    <tr>\n",
       "      <th>*batteries not included (1987)</th>\n",
       "      <td>7</td>\n",
       "      <td>3.142857</td>\n",
       "    </tr>\n",
       "    <tr>\n",
       "      <th>...And God Spoke (1993)</th>\n",
       "      <td>1</td>\n",
       "      <td>1.000000</td>\n",
       "    </tr>\n",
       "    <tr>\n",
       "      <th>...And Justice for All (1979)</th>\n",
       "      <td>13</td>\n",
       "      <td>3.692308</td>\n",
       "    </tr>\n",
       "    <tr>\n",
       "      <th>1-900 (06) (1994)</th>\n",
       "      <td>1</td>\n",
       "      <td>4.000000</td>\n",
       "    </tr>\n",
       "    <tr>\n",
       "      <th>10 (1979)</th>\n",
       "      <td>5</td>\n",
       "      <td>2.400000</td>\n",
       "    </tr>\n",
       "    <tr>\n",
       "      <th>10 Attitudes (2001)</th>\n",
       "      <td>1</td>\n",
       "      <td>5.000000</td>\n",
       "    </tr>\n",
       "    <tr>\n",
       "      <th>10 Cloverfield Lane (2016)</th>\n",
       "      <td>5</td>\n",
       "      <td>3.700000</td>\n",
       "    </tr>\n",
       "    <tr>\n",
       "      <th>10 Items or Less (2006)</th>\n",
       "      <td>1</td>\n",
       "      <td>3.500000</td>\n",
       "    </tr>\n",
       "    <tr>\n",
       "      <th>10 Things I Hate About You (1999)</th>\n",
       "      <td>57</td>\n",
       "      <td>3.473684</td>\n",
       "    </tr>\n",
       "    <tr>\n",
       "      <th>10 Years (2011)</th>\n",
       "      <td>1</td>\n",
       "      <td>3.500000</td>\n",
       "    </tr>\n",
       "  </tbody>\n",
       "</table>\n",
       "</div>"
      ],
      "text/plain": [
       "                                         count      mean\n",
       "title                                                   \n",
       "\"Great Performances\" Cats (1998)             2  1.750000\n",
       "$9.99 (2008)                                 3  3.833333\n",
       "'Hellboy': The Seeds of Creation (2004)      1  2.000000\n",
       "'Neath the Arizona Skies (1934)              1  0.500000\n",
       "'Round Midnight (1986)                       2  2.250000\n",
       "'Salem's Lot (2004)                          1  3.500000\n",
       "'Til There Was You (1997)                    4  2.625000\n",
       "'burbs, The (1989)                          19  3.052632\n",
       "'night Mother (1986)                         3  5.000000\n",
       "(500) Days of Summer (2009)                 45  3.755556\n",
       "*batteries not included (1987)               7  3.142857\n",
       "...And God Spoke (1993)                      1  1.000000\n",
       "...And Justice for All (1979)               13  3.692308\n",
       "1-900 (06) (1994)                            1  4.000000\n",
       "10 (1979)                                    5  2.400000\n",
       "10 Attitudes (2001)                          1  5.000000\n",
       "10 Cloverfield Lane (2016)                   5  3.700000\n",
       "10 Items or Less (2006)                      1  3.500000\n",
       "10 Things I Hate About You (1999)           57  3.473684\n",
       "10 Years (2011)                              1  3.500000"
      ]
     },
     "execution_count": 69,
     "metadata": {},
     "output_type": "execute_result"
    }
   ],
   "source": [
    "grouped = combo.groupby(\"title\")\n",
    "# This is similar syntax to that used in the Chiplotle data\n",
    "# Create the groupby object.\n",
    "\n",
    "movie_ratings = grouped.rating.agg([\"count\",\"mean\"])\n",
    "# Then aggregate the ratings...how? In two ways, we pass a list\n",
    "# saying, take the count, take the mean.\n",
    "\n",
    "movie_ratings.head(20)"
   ]
  },
  {
   "cell_type": "code",
   "execution_count": 70,
   "metadata": {},
   "outputs": [
    {
     "data": {
      "text/plain": [
       "title\n",
       "12 Angry Men (1957)                 4.304054\n",
       "Conversation, The (1974)            4.304348\n",
       "Rear Window (1954)                  4.315217\n",
       "Happiness (1998)                    4.326087\n",
       "Chinatown (1974)                    4.335526\n",
       "Raging Bull (1980)                  4.350000\n",
       "Philadelphia Story, The (1940)      4.351351\n",
       "Modern Times (1936)                 4.359375\n",
       "Usual Suspects, The (1995)          4.370647\n",
       "It Happened One Night (1934)        4.380000\n",
       "Godfather: Part II, The (1974)      4.385185\n",
       "Band of Brothers (2001)             4.386364\n",
       "Maltese Falcon, The (1941)          4.387097\n",
       "Roger & Me (1989)                   4.392857\n",
       "African Queen, The (1951)           4.420000\n",
       "Ran (1985)                          4.423077\n",
       "All About Eve (1950)                4.434211\n",
       "On the Waterfront (1954)            4.448276\n",
       "Shawshank Redemption, The (1994)    4.487138\n",
       "Godfather, The (1972)               4.487500\n",
       "Name: mean, dtype: float64"
      ]
     },
     "execution_count": 70,
     "metadata": {},
     "output_type": "execute_result"
    }
   ],
   "source": [
    "# Now lets look at movies, with only at least 20 ratings, and then sort them.\n",
    "# So what are the best rated movies...\n",
    "\n",
    "movie_ratings[movie_ratings[\"count\"] >= 20.0][\"mean\"].sort_values().tail(20)"
   ]
  },
  {
   "cell_type": "markdown",
   "metadata": {},
   "source": [
    "Then the final thing we could do is create a scatter plot of average rating versus count, i.e. do better rated movies have more ratings?"
   ]
  },
  {
   "cell_type": "code",
   "execution_count": 81,
   "metadata": {},
   "outputs": [
    {
     "data": {
      "image/png": "[encoded data removed]",
      "text/plain": [
       "<matplotlib.figure.Figure at 0x49664ed8d0>"
      ]
     },
     "metadata": {},
     "output_type": "display_data"
    }
   ],
   "source": [
    "fix, ax = plt.subplots()\n",
    "\n",
    "ax.scatter(movie_ratings[movie_ratings[\"count\"] >= 50.0][\"mean\"], \n",
    "           movie_ratings[movie_ratings[\"count\"] >= 50.0][\"count\"], alpha = 0.50)\n",
    "\n",
    "plt.show()"
   ]
  },
  {
   "cell_type": "markdown",
   "metadata": {},
   "source": [
    "**Exercise:** Rather than grouping by movie, you could group by the rater... are there some raters that are systematically negative, systematically positive? Even more interesting question, note that there is a time dimension, so maybe there is a time effect or life cycle component? "
   ]
  },
  {
   "cell_type": "code",
   "execution_count": null,
   "metadata": {
    "collapsed": true
   },
   "outputs": [],
   "source": []
  }
 ],
 "metadata": {
  "anaconda-cloud": {},
  "kernelspec": {
   "display_name": "Python 3",
   "language": "python",
   "name": "python3"
  },
  "language_info": {
   "codemirror_mode": {
    "name": "ipython",
    "version": 3
   },
   "file_extension": ".py",
   "mimetype": "text/x-python",
   "name": "python",
   "nbconvert_exporter": "python",
   "pygments_lexer": "ipython3",
   "version": "3.6.1"
  }
 },
 "nbformat": 4,
 "nbformat_minor": 2
}
