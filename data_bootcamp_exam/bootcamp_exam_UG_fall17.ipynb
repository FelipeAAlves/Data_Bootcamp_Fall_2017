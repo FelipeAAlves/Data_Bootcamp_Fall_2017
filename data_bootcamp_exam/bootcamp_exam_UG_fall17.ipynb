{
 "cells": [
  {
   "cell_type": "markdown",
   "metadata": {},
   "source": [
    "# Data Bootcamp \"Learning Experience\"   \n",
    "\n",
    "NYU Stern School of Business | November 2017\n",
    "\n",
    "Please answer the questions below in this Jupyter notebook.  Add cells as needed.  When you're done, **save it** and **email** it to [nyudatabootcamp@gmail.com](nyudatabootcamp@gmail.com). Make sure you have the correct file.  **Doing this correctly is worth 10 points.**  "
   ]
  },
  {
   "cell_type": "markdown",
   "metadata": {},
   "source": [
    "## Import packages   \n",
    "\n",
    "Run this code."
   ]
  },
  {
   "cell_type": "code",
   "execution_count": 23,
   "metadata": {},
   "outputs": [
    {
     "name": "stdout",
     "output_type": "stream",
     "text": [
      "Today is 2017-11-08\n",
      "Python version:\n",
      "3.5.2 |Anaconda custom (64-bit)| (default, Jul  5 2016, 11:41:13) [MSC v.1900 64 bit (AMD64)]\n"
     ]
    }
   ],
   "source": [
    "# import packages \n",
    "import pandas as pd                   # data management\n",
    "import matplotlib.pyplot as plt       # graphics \n",
    "import numpy as np\n",
    "import datetime as dt                 # check today's date \n",
    "import sys                            # check Python version \n",
    "\n",
    "# IPython command, puts plots in notebook \n",
    "%matplotlib inline\n",
    "\n",
    "print('Today is', dt.date.today())\n",
    "print('Python version:\\n', sys.version, sep='') "
   ]
  },
  {
   "cell_type": "markdown",
   "metadata": {},
   "source": [
    "## Question 0\n",
    "\n",
    "<!-- This question is so we can grade the exams, but also tests basic skills in working with notebooks -->\n",
    "\n",
    "* Change the file name by adding `_YourLastName` to it in the textbox at the top.  \n",
    "* Add a markdown cell directly *below* this one that includes your name in bold, your student number, and your email address.  \n",
    "\n",
    "(10 points)"
   ]
  },
  {
   "cell_type": "markdown",
   "metadata": {},
   "source": [
    "## Question 1\n",
    "\n",
    "<!-- This question is about tooling basics and markdown formatting -->\n",
    "\n",
    "For each of the parts below, please create a new markdown cell that contains your answer. Each markdown cell should have a heading that looks like  `### Part X` , where `X` is the part label (a, b, c, or d).\n",
    "\n",
    "(a) What type of document is this exam written in?\n",
    "\n",
    "(b) If you have questions about how to do something in Python, what resources do you have to find an answer? Please give at least 3 and put them in a bullet point list.\n",
    "\n",
    "(c) Where can you find the course website and book? Give your answer by creating two links with the text `website` and `book` so that when the links are clicked the browser goes to the proper website.\n",
    "\n",
    "(d) (challenging) What syntax do you use to create Spyder code cells in a python file? Make your answer appear like python code. (Hint 1: the answer should contain ` ```python `, a blank line, your code, and ` ``` `) (Hint 2: if Hint 1 wasn't clear, look at the text in question 4 part b)\n",
    "\n",
    "(20 points)"
   ]
  },
  {
   "cell_type": "markdown",
   "metadata": {},
   "source": [
    "## Question 2\n",
    "\n",
    "<!-- This question should be about string methods -->\n",
    "\n",
    "Consider the following string\n",
    "\n",
    "```python\n",
    "my_string = \"Th+s +s A Str+ng\"\n",
    "```\n",
    "\n",
    "Using string methods, do the following and print the results:\n",
    "\n",
    "**Warning**: Do not save the results back into `my_string` -- You should be using the original `my_string = \"Th+s +s A Str+ng\"` for each of the following parts. Recall that string methods are \"making copies\" so it won't modify the original string unless you assign it back to `my_string`\n",
    "\n",
    "(a) Make `my_string` lowercase.\n",
    "\n",
    "(b) Remove all spaces from `my_string`.\n",
    "\n",
    "(c) Replace each of the `+` sighns with an `i` in `my_string`.\n",
    "\n",
    "(d) Compare `my_string.split(maxsplit = 1)` to `my_string.rsplit(maxsplit = 1)`? Are they the same? Different? What do you think happened? What type does each operation deliver?\n",
    "\n",
    "(20 points)"
   ]
  },
  {
   "cell_type": "markdown",
   "metadata": {},
   "source": [
    "## Question 3\n",
    "\n",
    "<!-- This question tests idea of loops + list comprehensions -->\n",
    "\n",
    "(a) What is the type of `range(5)`? What is the type of `list(range(5))`?\n",
    "\n",
    "(b) Write a loop that sums all of the numbers from 0 to (not including) 100. Print the final sum.\n",
    "\n",
    "(c) Starting with the list `nums = [\"zero\", \"one\", \"two\", \"three\", \"four\", \"five\"]` create a new list that has the length of each individual word using a loop or list comprehension. How many letters are there in total?\n",
    "\n",
    "(15 points)"
   ]
  },
  {
   "cell_type": "markdown",
   "metadata": {},
   "source": [
    "## Question 4\n",
    "\n",
    "<!-- This question is about defining functions, conditionals, and types --> \n",
    "\n",
    "(a) `def`ine your own function named `mymessage` that does the following:\n",
    "\n",
    "- Takes one argument named `x`\n",
    "- If `x` is a float or integer, it prints the value and the type of `x`\n",
    "- If `x` is neither, print a message reporting its type\n",
    "\n",
    "Hint: You will need to understand what the word `or` does. Think about what the following code is doing:\n",
    "\n",
    "```python\n",
    "print(True or False)\n",
    "print(True or True)\n",
    "print(False or False or False)\n",
    "print(False or False or True)\n",
    "```\n",
    "\n",
    "(10 points)"
   ]
  },
  {
   "cell_type": "code",
   "execution_count": null,
   "metadata": {
    "collapsed": true
   },
   "outputs": [],
   "source": []
  },
  {
   "cell_type": "markdown",
   "metadata": {},
   "source": [
    "(b) In the code block below you will find expressions that define variables `b1`, `b2`, `b3`, `b4`, and `b5`. \n",
    "\n",
    "```python\n",
    "b1 = 2*3\n",
    "b2 = 2.0*3\n",
    "b3 = 'Dave Backus'\n",
    "b4 = ['This', \"is\", 'not', \"a\", 'string']\n",
    "b5 = (b4[0], b4[2], b4[4])\n",
    "```\n",
    "\n",
    "For each of these cases apply your your function and verify that the output follows the instructions given in part (a).\n",
    "\n",
    "(10 points)"
   ]
  },
  {
   "cell_type": "markdown",
   "metadata": {},
   "source": [
    "## Question 5\n",
    "\n",
    "<!-- This question is about defining multiple argument functions, defining functions that return something, debugging -->\n",
    "\n",
    "(a) `def`ine another function named `foo` that does the following:\n",
    "\n",
    "- Takes two arguments `x` and `n`\n",
    "- Returns the first `n` elements of `x`\n",
    "\n",
    "(10 points)"
   ]
  },
  {
   "cell_type": "code",
   "execution_count": null,
   "metadata": {
    "collapsed": true
   },
   "outputs": [],
   "source": []
  },
  {
   "cell_type": "markdown",
   "metadata": {},
   "source": [
    "(b) Apply this function to the variables `b1`-`b5` above (where `x` is `b1`, then `x` is `b2`, ..., then `x` is `b5`) and `n` is always 2. If Python raises an error, please do your best to explain what the error means\n",
    "\n",
    "(10 points)"
   ]
  },
  {
   "cell_type": "markdown",
   "metadata": {},
   "source": [
    "## Question 6\n",
    "\n",
    "<!-- This question covers DataFrame basics -->\n",
    "\n",
    "Here is the url of a dataset\n",
    "```python\n",
    "url = \"https://raw.githubusercontent.com/mwaugh0328/Data_Bootcamp_Fall_2017/master/data_bootcamp_exam/baseball_exam_data.csv\"\n",
    "```\n",
    "\n",
    "That contains selected information about baseball teams in the National League (from [Sean Lahman's baseball archive](http://seanlahman.com/baseball-archive/statistics)). In this dataset there is the following information about the team's performance during a season.\n",
    "\n",
    "| Column Name |\tDescription |\n",
    "|---|---|\n",
    "| yearID |\tYear |\n",
    "| lgID | League |\n",
    "|teamID |\tshort team name|\n",
    "|Wins|\twins|\n",
    "|Loses|\tloses|\n",
    "|Runs\t|runs scored|\n",
    "|AtBats\t|at bats|\n",
    "|Hits\t|hits|\n",
    "|2Bhits|\tdoubles|\n",
    "|3Bhits\t|triples|\n",
    "|HR\t|home runs|\n",
    "|BB\t|bases on balls|\n",
    "|park|\tname of baseball park|\n",
    "|name\t|full team name|\n",
    "|attendance\t|season attendance|\n",
    "\n",
    "---\n",
    "\n",
    "(a) Import the dataset using pandas. Name your DataFrame as `nl`\n",
    "\n",
    "(c) How many rows and columns does `nl` have?\n",
    "\n",
    "(d) What are the column names in `nl`?\n",
    "\n",
    "(3) What are the dtypes for the columns? For each different dtype in `nl`, please describe what that dtype means (Hint: There are two dtypes)\n",
    "\n",
    "(f) Describe the results of the following code `westdivision = nl.name.tail(5)`. What type of object is `westdivision`? How does `westdivision ` relate to `nl`?\n",
    "\n",
    "(30 points)"
   ]
  },
  {
   "cell_type": "markdown",
   "metadata": {},
   "source": [
    "## Question 7\n",
    "\n",
    "<!-- This question should test the students ability to access/create columns in the DataFrame -->\n",
    "\n",
    "Please answer the questions below, giving each part its own code cell:\n",
    "\n",
    "(a) Set the index to be the `Name` column. Make sure to save the result as `nl` for the following questions\n",
    "\n",
    "(b) Create a two new columns named `BatAverage` that is  `Hits / (AtBats)` (batting average) and `HRAverage` that is of `HR / (AtBats)` \n",
    "\n",
    "(c) What is the **mean** batting average? What is the **median** home run average?\n",
    "\n",
    "(d) Report two correlations: the correlation between batting average and wins; the correlation between wins and attendance.\n",
    "\n",
    "(d) Create a horizontal bar plot of the `BatAverage` column. Tighten the x-axis so that it lies between 0.22 and 0.28. Make sure the colors of the bars are all the same.\n",
    "\n",
    "(20 points)"
   ]
  },
  {
   "cell_type": "markdown",
   "metadata": {},
   "source": [
    "## Question 8\n",
    "\n",
    "<!-- This question should be about customizing a plot -->\n",
    "\n",
    "Please do all parts below in _the same_ code cell. Leave comments in the code that help us find the code that corresponds to each part.\n",
    "\n",
    "Tell a story about batting average, home run average and wins. \n",
    "\n",
    "#### Basic elements:\n",
    "\n",
    "(a) Create a figure with one row and two column of axes\n",
    "\n",
    "(b) In the left axes, make a scatter plot between batting average and wins. Label the x and y axis.\n",
    "\n",
    "(c) In the right axes, make a scatter plot between home run average and wins. Label the x and y axis. \n",
    "\n",
    "(d) Set the title on the top axes to be informative about these plots.\n",
    "\n",
    "(e) Change the size of the dots to correspond with attendance. Hint: You may want to change the scale.\n",
    "\n",
    "---\n",
    "#### Bonus Parts...\n",
    "\n",
    "(e) (5 bonus)  Change the color of the dots **for only the west division** to be red.\n",
    "\n",
    "(f) (5 bonus) Apply any other customizations you think would make the plot look better\n",
    "\n",
    "(30 points + 10 bonus)"
   ]
  },
  {
   "cell_type": "code",
   "execution_count": null,
   "metadata": {
    "collapsed": true
   },
   "outputs": [],
   "source": []
  }
 ],
 "metadata": {
  "anaconda-cloud": {},
  "kernelspec": {
   "display_name": "Python 3",
   "language": "python",
   "name": "python3"
  },
  "language_info": {
   "codemirror_mode": {
    "name": "ipython",
    "version": 3
   },
   "file_extension": ".py",
   "mimetype": "text/x-python",
   "name": "python",
   "nbconvert_exporter": "python",
   "pygments_lexer": "ipython3",
   "version": "3.6.1"
  }
 },
 "nbformat": 4,
 "nbformat_minor": 2
}
