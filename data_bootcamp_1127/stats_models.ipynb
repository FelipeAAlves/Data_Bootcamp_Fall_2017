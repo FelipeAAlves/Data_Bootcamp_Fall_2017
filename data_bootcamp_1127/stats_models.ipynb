{
 "cells": [
  {
   "cell_type": "markdown",
   "metadata": {},
   "source": [
    "### Regression Analysis in Python\n",
    "\n",
    "This notebook walks through some basics of regression analysis in Python. Some caveats: This is not meant as a substitute for some formal training...this notebook is intended to give you the ability to execute regression analysis in Python and, hence, use it as a all in one suite of resources. Formal training is important here as the interpretation of output from regression analysis is a subtle thing, in fact [professionals](https://stats.stackexchange.com/questions/185507/what-happens-if-the-explanatory-and-response-variables-are-sorted-independently) and established researchers make mistakes in this domain. \n",
    "\n",
    "#### My Take\n",
    "\n",
    "First, lets ask what we **want** from regression analysis. My take is that as a first pass we want to establish a conditional correlation between some variable $Y$ and another variable $X$. Conditional is an important word here in that in a multivariate setting (you have multiple $X$ variables), then you are establishing a correlation **given the other stuff**. This is different than a simple correlation as that is not controlling for other factors.\n",
    "\n",
    "Second, let me suggest what this approach does not do, that is establish **Causality**. Even if you have found a relationship, determining causality is a difficult thing to do. There are ways to do it (or at least provide strong suggestive evidence of the causal relationship between two variables), but this is beyond the scope of the course. Hence, we will use language like \"the results suggest a strong (conditional) correlation between $X$ and $Y$\" versus \"$X$ caused $Y$\". This last point is especially important in a business context. Arguing for causality when there is none or reverse causality, can lead to bad business decisions. \n",
    "\n",
    "Third, linear regression is probably the most basic prediction scheme. Fit a model to data by minimizing the errors between observed values and predicted values. Then use the fitted model to predict an outcome. Two points about this: Again, I would distinguish between causation and prediction. Model that does a good job predicting things need not be good at describing the causal relationship. Second, regression need not be the end point in prediction. These is where topics like Machine Learning come in to provide better prediction schemes. \n",
    "\n",
    "#### The Linear Regression Model\n",
    "\n",
    "So here is the basic linear regression model:\n",
    "\n",
    "$Y_i = \\alpha + \\beta X_i + \\epsilon_i$\n",
    "\n",
    "Where we have the $Y_i$ variable indexed by observation $i$, a intercept term $\\alpha$, and then $\\beta$ times the variable $X_i$. The $\\epsilon_i$ are the error terms. They reflect the fact that the model will not fit the data perfectly. These are not observed, but are residuals from the difference between predicted values and observed values. **Thinking about the $\\epsilon$s is the most important part of regression analysis.** \n",
    "\n",
    "In the context of the Trump example, this would be where $Y_i$ is the county $i$'s vote share that went to Trump. Then $X_i$ is median income in county $i$. \n",
    "\n",
    "Regression analysis essentially picks $\\alpha$ and $\\beta$ to best fit the data. What does this mean, one way to best fit the data is to minimized the errors or another way to put this is the difference between the predicted values $\\hat Y$ and the observed values $Y$. Ok, how do you do that. Well one way is the minimize the squared difference, hence the name least squares. That is minimize the squared errors. \n",
    "\n",
    "**The error term** In the least squares setting, the underlying assumption for the estimated coefficients (the $\\hat \\alpha$) and $\\hat \\beta$ to mean what we think that they mean is the following:\n",
    "\n",
    "$E(X\\epsilon) = 0$\n",
    "\n",
    "which says that the $X$s should be uncorrelated with the errors. Mechanichally, when you implement least squares, this will always be the case. But that does not make it true. Hence, you should always be thinking...**is there something that I have not controlled for (so it is in the error term) that may be correlated with the Xs**. This is actually harder than it seems, hence, the need for more formal training in this subject. \n",
    "\n",
    "### How to do this in Python\n",
    "\n",
    "With all this said, lets practice a bit of this."
   ]
  },
  {
   "cell_type": "code",
   "execution_count": 4,
   "metadata": {},
   "outputs": [
    {
     "name": "stderr",
     "output_type": "stream",
     "text": [
      "C:\\Program Files\\Anaconda3\\lib\\site-packages\\statsmodels\\compat\\pandas.py:56: FutureWarning: The pandas.core.datetools module is deprecated and will be removed in a future version. Please use the pandas.tseries module instead.\n",
      "  from pandas.core import datetools\n"
     ]
    }
   ],
   "source": [
    "import pandas as pd\n",
    "import numpy as np\n",
    "\n",
    "import matplotlib.pyplot as plt\n",
    "import statsmodels.api as sm\n",
    "import statsmodels.formula.api as smf\n",
    "# This is the new one: information here: http://www.statsmodels.org/stable/index.html"
   ]
  },
  {
   "cell_type": "markdown",
   "metadata": {},
   "source": [
    "The key module now is this statsmodels. The link to this package is:\n",
    "\n",
    "http://www.statsmodels.org/stable/index.html\n",
    "\n",
    "I'm not that familiar with R, but the claim is that this is R-like syntax. On the website there are lots of examples and the help is ok. "
   ]
  },
  {
   "cell_type": "markdown",
   "metadata": {},
   "source": [
    "### Simple Univariate Regression in a Controlled Setting\n",
    "\n",
    "To illustrate what least squares does, I'm going to generate some \"fake data\" and then estimate the linear relationship. This will help us see what is going on...\n"
   ]
  },
  {
   "cell_type": "code",
   "execution_count": 146,
   "metadata": {},
   "outputs": [
    {
     "data": {
      "text/html": [
       "<div>\n",
       "<style scoped>\n",
       "    .dataframe tbody tr th:only-of-type {\n",
       "        vertical-align: middle;\n",
       "    }\n",
       "\n",
       "    .dataframe tbody tr th {\n",
       "        vertical-align: top;\n",
       "    }\n",
       "\n",
       "    .dataframe thead th {\n",
       "        text-align: right;\n",
       "    }\n",
       "</style>\n",
       "<table border=\"1\" class=\"dataframe\">\n",
       "  <thead>\n",
       "    <tr style=\"text-align: right;\">\n",
       "      <th></th>\n",
       "      <th>y_var</th>\n",
       "      <th>x_var</th>\n",
       "    </tr>\n",
       "  </thead>\n",
       "  <tbody>\n",
       "    <tr>\n",
       "      <th>0</th>\n",
       "      <td>0.889867</td>\n",
       "      <td>0.275960</td>\n",
       "    </tr>\n",
       "    <tr>\n",
       "      <th>1</th>\n",
       "      <td>1.201880</td>\n",
       "      <td>0.988382</td>\n",
       "    </tr>\n",
       "    <tr>\n",
       "      <th>2</th>\n",
       "      <td>0.450751</td>\n",
       "      <td>0.029363</td>\n",
       "    </tr>\n",
       "    <tr>\n",
       "      <th>3</th>\n",
       "      <td>1.313464</td>\n",
       "      <td>0.102922</td>\n",
       "    </tr>\n",
       "    <tr>\n",
       "      <th>4</th>\n",
       "      <td>0.967824</td>\n",
       "      <td>0.571836</td>\n",
       "    </tr>\n",
       "  </tbody>\n",
       "</table>\n",
       "</div>"
      ],
      "text/plain": [
       "      y_var     x_var\n",
       "0  0.889867  0.275960\n",
       "1  1.201880  0.988382\n",
       "2  0.450751  0.029363\n",
       "3  1.313464  0.102922\n",
       "4  0.967824  0.571836"
      ]
     },
     "execution_count": 146,
     "metadata": {},
     "output_type": "execute_result"
    }
   ],
   "source": [
    "## This part is just generating simmulated data...\n",
    "\n",
    "nobs = 30\n",
    "\n",
    "X = np.random.random((nobs, 1))\n",
    "\n",
    "Xhat = sm.add_constant(X)\n",
    "\n",
    "beta = [1, 0.5]\n",
    "# HERE WE KNOW THE TRUE VLAUES OF BETA!!!!\n",
    "\n",
    "epsilon = np.random.normal(loc=0.0, scale=0.30, size = nobs)\n",
    "\n",
    "y = np.dot(Xhat, beta) + epsilon\n",
    "\n",
    "### Then this will organize the data so it is \n",
    "### similar to the Trump data...\n",
    "\n",
    "fake_df = pd.DataFrame(y)\n",
    "fake_df.head()\n",
    "\n",
    "fake_df = pd.concat([fake_df, pd.DataFrame(X)], axis=1)\n",
    "\n",
    "fake_df.columns = [\"y_var\", \"x_var\"]\n",
    "\n",
    "fake_df.head()"
   ]
  },
  {
   "cell_type": "markdown",
   "metadata": {},
   "source": [
    "So we have are \"fake\" data. Now lets estimate the relationship between $Y$ and $X$. Below is the basic syntax for the estimation of a linear model via least squares:"
   ]
  },
  {
   "cell_type": "code",
   "execution_count": 147,
   "metadata": {
    "scrolled": false
   },
   "outputs": [
    {
     "name": "stdout",
     "output_type": "stream",
     "text": [
      "                            OLS Regression Results                            \n",
      "==============================================================================\n",
      "Dep. Variable:                  y_var   R-squared:                       0.221\n",
      "Model:                            OLS   Adj. R-squared:                  0.193\n",
      "Method:                 Least Squares   F-statistic:                     7.925\n",
      "Date:                Wed, 29 Nov 2017   Prob (F-statistic):            0.00883\n",
      "Time:                        11:59:08   Log-Likelihood:                -9.0967\n",
      "No. Observations:                  30   AIC:                             22.19\n",
      "Df Residuals:                      28   BIC:                             25.00\n",
      "Df Model:                           1                                         \n",
      "Covariance Type:            nonrobust                                         \n",
      "==============================================================================\n",
      "                 coef    std err          t      P>|t|      [0.025      0.975]\n",
      "------------------------------------------------------------------------------\n",
      "Intercept      0.9824      0.117      8.369      0.000       0.742       1.223\n",
      "x_var          0.6848      0.243      2.815      0.009       0.187       1.183\n",
      "==============================================================================\n",
      "Omnibus:                        2.434   Durbin-Watson:                   1.974\n",
      "Prob(Omnibus):                  0.296   Jarque-Bera (JB):                1.246\n",
      "Skew:                           0.013   Prob(JB):                        0.536\n",
      "Kurtosis:                       2.002   Cond. No.                         4.63\n",
      "==============================================================================\n",
      "\n",
      "Warnings:\n",
      "[1] Standard Errors assume that the covariance matrix of the errors is correctly specified.\n"
     ]
    }
   ],
   "source": [
    "results = smf.ols(\"y_var ~ x_var\",     # This is the model in variable names we want to estimate\n",
    "                  data=fake_df).fit()  # this then specifies the dataset (note how it will find the names)\n",
    "                                       # then the .fit() fits the least squares model (smf.ols specifies that)\n",
    "\n",
    "type(results) # The results is then an object with methods associated with it.\n",
    "              # Play around with tab completion to see what is possible:\n",
    "\n",
    "print(results.summary())    # This the provides a nice looking report "
   ]
  },
  {
   "cell_type": "markdown",
   "metadata": {},
   "source": [
    "This reports a lot of stuff. I'll talk more about this below in the context of the Trump data, but note: We **know** what the value should be for the intercept and the slope coeffecient and the intercept term: 1 and 0.50. The intercept is close, the slope coeffecient is too, but it is not estimated that precisely. But know that the value 0.50 is covered in the interval.\n",
    "\n",
    "A couple of things to play with:\n",
    "- Change the number of observations above...note how the estimated coeffecients will become more precise and start to narrow in on the true values.\n",
    "- Change the `scale` value in the generation of the error terms. A larger scale value makes the errors more noisy, smaller less noisy. Note how that changes things....\n",
    "\n",
    "Lets look at some other features of the `results` object, most of these are all summarized above, but we can grab them individually...."
   ]
  },
  {
   "cell_type": "code",
   "execution_count": 102,
   "metadata": {},
   "outputs": [
    {
     "name": "stdout",
     "output_type": "stream",
     "text": [
      "Parameter Estimates\n",
      " Intercept    0.839150\n",
      "x_var        0.818453\n",
      "dtype: float64\n",
      "\n",
      "\n",
      "Confidence Intervales\n",
      "                   0         1\n",
      "Intercept  0.622591  1.055708\n",
      "x_var      0.470471  1.166435\n",
      "\n",
      "\n",
      "R-Square\n",
      " 0.453249509834\n"
     ]
    }
   ],
   "source": [
    "print(\"Parameter Estimates\\n\",results.params)\n",
    "print(\"\\n\")\n",
    "print(\"Confidence Intervales\\n\",results.conf_int())\n",
    "print(\"\\n\")\n",
    "print(\"R-Square\\n\",results.rsquared)"
   ]
  },
  {
   "cell_type": "markdown",
   "metadata": {},
   "source": [
    "Now lets graphically show what happens when this is done..."
   ]
  },
  {
   "cell_type": "code",
   "execution_count": 103,
   "metadata": {},
   "outputs": [
    {
     "data": {
      "image/png": "[encoded data removed]",
      "text/plain": [
       "<matplotlib.figure.Figure at 0x1cf9b70ba8>"
      ]
     },
     "metadata": {},
     "output_type": "display_data"
    }
   ],
   "source": [
    "pred = results.predict(exog = fake_df[\"x_var\"].sort_values())\n",
    "           # This generages the predicted values. Notes here:\n",
    "           # I'm going to sort the values just so we can create a smooth line. \n",
    "        \n",
    "\n",
    "fig, ax = plt.subplots(figsize = (8,6))\n",
    "\n",
    "ax.scatter(fake_df[\"x_var\"], \n",
    "         fake_df[\"y_var\"], \n",
    "         alpha = 0.50)\n",
    "\n",
    "ax.plot(fake_df[\"x_var\"].sort_values(), pred , color = 'r', linewidth = 2.0)\n",
    "       # Then I put in the sorted population values\n",
    "       # then the precited trump share.... \n",
    "\n",
    "ax.spines[\"right\"].set_visible(False)\n",
    "ax.spines[\"top\"].set_visible(False)\n",
    "\n",
    "ax.set_title(\"X and Y Varible and Best Fit Line\\n\")\n",
    "ax.set_ylabel(\"Y variable\") \n",
    "ax.set_xlabel(\"X variable\")\n",
    "\n",
    "plt.show()"
   ]
  },
  {
   "cell_type": "markdown",
   "metadata": {},
   "source": [
    "The dots are the \"fake data\" the red line is our estimated relationship. Visually, you can see how it is trying to \"best fit\" and find a line that goes through the dots in the \"best\" possible way. Again what is the best possible way, the one that minimizes the squared errors (or think of the vertical distance from a dot to the red line, squared). \n",
    "\n",
    "Below lets look at the errors and how they correlate (or not) with the X variable."
   ]
  },
  {
   "cell_type": "code",
   "execution_count": 105,
   "metadata": {},
   "outputs": [
    {
     "data": {
      "image/png": "[encoded data removed]",
      "text/plain": [
       "<matplotlib.figure.Figure at 0x1cf9bb9160>"
      ]
     },
     "metadata": {},
     "output_type": "display_data"
    }
   ],
   "source": [
    "errors = results.resid\n",
    "           # This generages the residuals that is the \n",
    "           # difference between the predicted and observed values\n",
    "        \n",
    "fig, ax = plt.subplots(figsize = (8,6))\n",
    "\n",
    "ax.scatter(fake_df[\"x_var\"], errors, alpha = 0.50)\n",
    "\n",
    "ax.spines[\"right\"].set_visible(False)\n",
    "ax.spines[\"top\"].set_visible(False)\n",
    "\n",
    "ax.set_title(\"Resdual Errors and X variable\\n\")\n",
    "ax.set_ylabel(\"Resdual Errors\") \n",
    "ax.set_xlabel(\"X variable\")\n",
    "\n",
    "plt.show()"
   ]
  },
  {
   "cell_type": "markdown",
   "metadata": {},
   "source": [
    "This figure illustrates the outcome from the regression with residuals (forced) to be orthogonal to the X variable. This plot shows how there is no relationship between the residuals and the X variable. Its just a cloud. "
   ]
  },
  {
   "cell_type": "markdown",
   "metadata": {},
   "source": [
    "### Simple Univariate Regression with Live Data\n",
    "\n",
    "Lets ask the simple question, what is the relationship between a counties Trump vote share and income. Lets read in our Trump data that we saved from the previous section."
   ]
  },
  {
   "cell_type": "code",
   "execution_count": 95,
   "metadata": {},
   "outputs": [
    {
     "data": {
      "text/html": [
       "<div>\n",
       "<style scoped>\n",
       "    .dataframe tbody tr th:only-of-type {\n",
       "        vertical-align: middle;\n",
       "    }\n",
       "\n",
       "    .dataframe tbody tr th {\n",
       "        vertical-align: top;\n",
       "    }\n",
       "\n",
       "    .dataframe thead th {\n",
       "        text-align: right;\n",
       "    }\n",
       "</style>\n",
       "<table border=\"1\" class=\"dataframe\">\n",
       "  <thead>\n",
       "    <tr style=\"text-align: right;\">\n",
       "      <th></th>\n",
       "      <th>Unnamed: 0</th>\n",
       "      <th>population</th>\n",
       "      <th>income</th>\n",
       "      <th>NAME</th>\n",
       "      <th>county</th>\n",
       "      <th>state</th>\n",
       "      <th>FIPS</th>\n",
       "      <th>StateCode</th>\n",
       "      <th>StateName</th>\n",
       "      <th>CountyFips</th>\n",
       "      <th>CountyName</th>\n",
       "      <th>CountyTotalVote</th>\n",
       "      <th>Party</th>\n",
       "      <th>Candidate</th>\n",
       "      <th>VoteCount</th>\n",
       "      <th>_merge</th>\n",
       "      <th>VoteShare</th>\n",
       "      <th>trump_share</th>\n",
       "      <th>red_blue</th>\n",
       "    </tr>\n",
       "  </thead>\n",
       "  <tbody>\n",
       "    <tr>\n",
       "      <th>0</th>\n",
       "      <td>0</td>\n",
       "      <td>55221.0</td>\n",
       "      <td>51281.0</td>\n",
       "      <td>Autauga County, Alabama</td>\n",
       "      <td>1</td>\n",
       "      <td>1</td>\n",
       "      <td>1001.0</td>\n",
       "      <td>AL</td>\n",
       "      <td>alabama</td>\n",
       "      <td>1001</td>\n",
       "      <td>Autauga</td>\n",
       "      <td>24661</td>\n",
       "      <td>GOP</td>\n",
       "      <td>Trump</td>\n",
       "      <td>18110.0</td>\n",
       "      <td>both</td>\n",
       "      <td>0.734358</td>\n",
       "      <td>0.734358</td>\n",
       "      <td>1.0</td>\n",
       "    </tr>\n",
       "    <tr>\n",
       "      <th>1</th>\n",
       "      <td>5</td>\n",
       "      <td>195121.0</td>\n",
       "      <td>50254.0</td>\n",
       "      <td>Baldwin County, Alabama</td>\n",
       "      <td>3</td>\n",
       "      <td>1</td>\n",
       "      <td>1003.0</td>\n",
       "      <td>AL</td>\n",
       "      <td>alabama</td>\n",
       "      <td>1003</td>\n",
       "      <td>Baldwin</td>\n",
       "      <td>94090</td>\n",
       "      <td>GOP</td>\n",
       "      <td>Trump</td>\n",
       "      <td>72780.0</td>\n",
       "      <td>both</td>\n",
       "      <td>0.773515</td>\n",
       "      <td>0.773515</td>\n",
       "      <td>1.0</td>\n",
       "    </tr>\n",
       "    <tr>\n",
       "      <th>2</th>\n",
       "      <td>10</td>\n",
       "      <td>26932.0</td>\n",
       "      <td>32964.0</td>\n",
       "      <td>Barbour County, Alabama</td>\n",
       "      <td>5</td>\n",
       "      <td>1</td>\n",
       "      <td>1005.0</td>\n",
       "      <td>AL</td>\n",
       "      <td>alabama</td>\n",
       "      <td>1005</td>\n",
       "      <td>Barbour</td>\n",
       "      <td>10390</td>\n",
       "      <td>GOP</td>\n",
       "      <td>Trump</td>\n",
       "      <td>5431.0</td>\n",
       "      <td>both</td>\n",
       "      <td>0.522714</td>\n",
       "      <td>0.522714</td>\n",
       "      <td>1.0</td>\n",
       "    </tr>\n",
       "    <tr>\n",
       "      <th>3</th>\n",
       "      <td>15</td>\n",
       "      <td>22604.0</td>\n",
       "      <td>38678.0</td>\n",
       "      <td>Bibb County, Alabama</td>\n",
       "      <td>7</td>\n",
       "      <td>1</td>\n",
       "      <td>1007.0</td>\n",
       "      <td>AL</td>\n",
       "      <td>alabama</td>\n",
       "      <td>1007</td>\n",
       "      <td>Bibb</td>\n",
       "      <td>8748</td>\n",
       "      <td>GOP</td>\n",
       "      <td>Trump</td>\n",
       "      <td>6733.0</td>\n",
       "      <td>both</td>\n",
       "      <td>0.769662</td>\n",
       "      <td>0.769662</td>\n",
       "      <td>1.0</td>\n",
       "    </tr>\n",
       "    <tr>\n",
       "      <th>4</th>\n",
       "      <td>20</td>\n",
       "      <td>57710.0</td>\n",
       "      <td>45813.0</td>\n",
       "      <td>Blount County, Alabama</td>\n",
       "      <td>9</td>\n",
       "      <td>1</td>\n",
       "      <td>1009.0</td>\n",
       "      <td>AL</td>\n",
       "      <td>alabama</td>\n",
       "      <td>1009</td>\n",
       "      <td>Blount</td>\n",
       "      <td>25384</td>\n",
       "      <td>GOP</td>\n",
       "      <td>Trump</td>\n",
       "      <td>22808.0</td>\n",
       "      <td>both</td>\n",
       "      <td>0.898519</td>\n",
       "      <td>0.898519</td>\n",
       "      <td>1.0</td>\n",
       "    </tr>\n",
       "  </tbody>\n",
       "</table>\n",
       "</div>"
      ],
      "text/plain": [
       "   Unnamed: 0  population   income                     NAME  county  state  \\\n",
       "0           0     55221.0  51281.0  Autauga County, Alabama       1      1   \n",
       "1           5    195121.0  50254.0  Baldwin County, Alabama       3      1   \n",
       "2          10     26932.0  32964.0  Barbour County, Alabama       5      1   \n",
       "3          15     22604.0  38678.0     Bibb County, Alabama       7      1   \n",
       "4          20     57710.0  45813.0   Blount County, Alabama       9      1   \n",
       "\n",
       "     FIPS StateCode StateName  CountyFips CountyName  CountyTotalVote Party  \\\n",
       "0  1001.0        AL   alabama        1001    Autauga            24661   GOP   \n",
       "1  1003.0        AL   alabama        1003    Baldwin            94090   GOP   \n",
       "2  1005.0        AL   alabama        1005    Barbour            10390   GOP   \n",
       "3  1007.0        AL   alabama        1007       Bibb             8748   GOP   \n",
       "4  1009.0        AL   alabama        1009     Blount            25384   GOP   \n",
       "\n",
       "  Candidate  VoteCount _merge  VoteShare  trump_share  red_blue  \n",
       "0     Trump    18110.0   both   0.734358     0.734358       1.0  \n",
       "1     Trump    72780.0   both   0.773515     0.773515       1.0  \n",
       "2     Trump     5431.0   both   0.522714     0.522714       1.0  \n",
       "3     Trump     6733.0   both   0.769662     0.769662       1.0  \n",
       "4     Trump    22808.0   both   0.898519     0.898519       1.0  "
      ]
     },
     "execution_count": 95,
     "metadata": {},
     "output_type": "execute_result"
    }
   ],
   "source": [
    "path = \"C://data_bootcamp//trump_data.csv\" \n",
    "       # Lets read in the previous dataset...\n",
    "\n",
    "trump_data = pd.read_csv(path)\n",
    "\n",
    "trump_data.head()"
   ]
  },
  {
   "cell_type": "markdown",
   "metadata": {},
   "source": []
  },
  {
   "cell_type": "markdown",
   "metadata": {},
   "source": [
    "Now following our discussion above, we explore the relationship between the Trump Vote Share and Income. OR:\n",
    "\n",
    "$ Trump Share_i = \\alpha + \\beta Median Income_i + \\epsilon_i$\n",
    "\n",
    "where $i$ is at the county level. And it is providing estimates $\\hat \\alpha$ and $\\hat \\beta$ to minimize squared errors.\n",
    "\n",
    "Now lets estimate this relationship and look at the results:"
   ]
  },
  {
   "cell_type": "code",
   "execution_count": 96,
   "metadata": {},
   "outputs": [],
   "source": [
    "results = smf.ols(\"trump_share ~ income \", # This is the model in variable names we want to estimate\n",
    "                  data=trump_data).fit()  # this then specifies the dataset (note how it will find the names)\n",
    "                                          # then the .fit() fits the least squares model (smf.ols specifies that)\n",
    "    \n"
   ]
  },
  {
   "cell_type": "code",
   "execution_count": 144,
   "metadata": {},
   "outputs": [
    {
     "name": "stdout",
     "output_type": "stream",
     "text": [
      "                            OLS Regression Results                            \n",
      "==============================================================================\n",
      "Dep. Variable:            trump_share   R-squared:                       0.036\n",
      "Model:                            OLS   Adj. R-squared:                  0.036\n",
      "Method:                 Least Squares   F-statistic:                     115.7\n",
      "Date:                Mon, 27 Nov 2017   Prob (F-statistic):           1.62e-26\n",
      "Time:                        14:35:33   Log-Likelihood:                 1416.5\n",
      "No. Observations:                3111   AIC:                            -2829.\n",
      "Df Residuals:                    3109   BIC:                            -2817.\n",
      "Df Model:                           1                                         \n",
      "Covariance Type:            nonrobust                                         \n",
      "==============================================================================\n",
      "                 coef    std err          t      P>|t|      [0.025      0.975]\n",
      "------------------------------------------------------------------------------\n",
      "Intercept      0.7499      0.011     68.508      0.000       0.728       0.771\n",
      "income     -2.442e-06   2.27e-07    -10.756      0.000   -2.89e-06      -2e-06\n",
      "==============================================================================\n",
      "Omnibus:                      334.967   Durbin-Watson:                   1.414\n",
      "Prob(Omnibus):                  0.000   Jarque-Bera (JB):              452.679\n",
      "Skew:                          -0.875   Prob(JB):                     5.04e-99\n",
      "Kurtosis:                       3.657   Cond. No.                     1.92e+05\n",
      "==============================================================================\n",
      "\n",
      "Warnings:\n",
      "[1] Standard Errors assume that the covariance matrix of the errors is correctly specified.\n",
      "[2] The condition number is large, 1.92e+05. This might indicate that there are\n",
      "strong multicollinearity or other numerical problems.\n"
     ]
    }
   ],
   "source": [
    "print(results.summary())"
   ]
  },
  {
   "cell_type": "markdown",
   "metadata": {},
   "source": [
    "This gives a lot of information. Starting from the upper left, it tells us about the data, method of fit, time!, and number of observations, etc. On the upper right side, we see some measures of overall fit, e.g. the R-squared (the amount of variation explained by the X variable) and others. \n",
    "\n",
    "Then in the middle panel we see (i) the variable (in this case is the intercept $\\hat \\alpha$ and then the coeffecient on income (or the $\\hat \\beta$). Along with this are the standard errors and several interpertiation of the standard error, the t-statisitc, the p-value, and the 0.025 and 0.975 confidence interval.\n",
    "\n",
    "The bottom panel also provides some more diagnostics. Below that are some warning messages which we will come back to in a bit.\n",
    "\n",
    "##### Interpreting the results...\n",
    "\n",
    "So there is a negative relationship between income and the trump share. And the coeffecient on income is clearly statistically different from zero. This is all consistent with our previous work by just simply creating some tables and plots of the data. You should not get fixated on the r-square, it is what it is. Its small, but not zero. \n",
    "\n",
    "The warnings.\n",
    "- The first warning says essentially, inference from the model (i.e. if the coeffecient on income is statistically different from zero) is only valid if the covariance of matrix of errors is specified correctly. This is about the variance of $\\sigma_\\epsilon$ and if, how it depends on $i$. There are methods (which I will show) that will deliver \"robust\" standard errors that try and take into account an unknown error term structure. \n",
    "- The second error is about the condition number. Here is the issue. We are regressing income which is an orders of magnitude larger than the trump share variable. So we may want to rescale the income variable. Lets do that below.\n"
   ]
  },
  {
   "cell_type": "code",
   "execution_count": 132,
   "metadata": {
    "collapsed": true
   },
   "outputs": [],
   "source": [
    "trump_data[\"income\"] = trump_data[\"income\"]/trump_data[\"income\"].median()\n",
    "\n",
    "# This will normalize income relative to the mean...\n"
   ]
  },
  {
   "cell_type": "code",
   "execution_count": 133,
   "metadata": {},
   "outputs": [
    {
     "name": "stdout",
     "output_type": "stream",
     "text": [
      "                            OLS Regression Results                            \n",
      "==============================================================================\n",
      "Dep. Variable:            trump_share   R-squared:                       0.036\n",
      "Model:                            OLS   Adj. R-squared:                  0.036\n",
      "Method:                 Least Squares   F-statistic:                     115.7\n",
      "Date:                Wed, 29 Nov 2017   Prob (F-statistic):           1.62e-26\n",
      "Time:                        11:47:51   Log-Likelihood:                 1416.5\n",
      "No. Observations:                3111   AIC:                            -2829.\n",
      "Df Residuals:                    3109   BIC:                            -2817.\n",
      "Df Model:                           1                                         \n",
      "Covariance Type:            nonrobust                                         \n",
      "==============================================================================\n",
      "                 coef    std err          t      P>|t|      [0.025      0.975]\n",
      "------------------------------------------------------------------------------\n",
      "Intercept      0.7499      0.011     68.508      0.000       0.728       0.771\n",
      "income        -0.1099      0.010    -10.756      0.000      -0.130      -0.090\n",
      "==============================================================================\n",
      "Omnibus:                      334.967   Durbin-Watson:                   1.414\n",
      "Prob(Omnibus):                  0.000   Jarque-Bera (JB):              452.679\n",
      "Skew:                          -0.875   Prob(JB):                     5.04e-99\n",
      "Kurtosis:                       3.657   Cond. No.                         7.85\n",
      "==============================================================================\n",
      "\n",
      "Warnings:\n",
      "[1] Standard Errors assume that the covariance matrix of the errors is correctly specified.\n"
     ]
    }
   ],
   "source": [
    "results = smf.ols(\"trump_share ~ income \", \n",
    "                  data=trump_data).fit()  \n",
    "                                         \n",
    "\n",
    "print(results.summary())"
   ]
  },
  {
   "cell_type": "markdown",
   "metadata": {},
   "source": [
    "Then notice how the condition number warning went away. And the benefit is that the coeffecient is way more interpeterable. **What does it mean?**\n",
    "\n",
    "Lets do one more thing, lets take the log of income as well."
   ]
  },
  {
   "cell_type": "code",
   "execution_count": 134,
   "metadata": {},
   "outputs": [
    {
     "name": "stdout",
     "output_type": "stream",
     "text": [
      "                            OLS Regression Results                            \n",
      "==============================================================================\n",
      "Dep. Variable:            trump_share   R-squared:                       0.020\n",
      "Model:                            OLS   Adj. R-squared:                  0.019\n",
      "Method:                 Least Squares   F-statistic:                     61.88\n",
      "Date:                Wed, 29 Nov 2017   Prob (F-statistic):           4.99e-15\n",
      "Time:                        11:47:55   Log-Likelihood:                 1390.4\n",
      "No. Observations:                3111   AIC:                            -2777.\n",
      "Df Residuals:                    3109   BIC:                            -2765.\n",
      "Df Model:                           1                                         \n",
      "Covariance Type:            nonrobust                                         \n",
      "==================================================================================\n",
      "                     coef    std err          t      P>|t|      [0.025      0.975]\n",
      "----------------------------------------------------------------------------------\n",
      "Intercept          0.6364      0.003    229.233      0.000       0.631       0.642\n",
      "np.log(income)    -0.0892      0.011     -7.866      0.000      -0.111      -0.067\n",
      "==============================================================================\n",
      "Omnibus:                      335.855   Durbin-Watson:                   1.400\n",
      "Prob(Omnibus):                  0.000   Jarque-Bera (JB):              452.735\n",
      "Skew:                          -0.882   Prob(JB):                     4.90e-99\n",
      "Kurtosis:                       3.616   Cond. No.                         4.09\n",
      "==============================================================================\n",
      "\n",
      "Warnings:\n",
      "[1] Standard Errors assume that the covariance matrix of the errors is correctly specified.\n"
     ]
    }
   ],
   "source": [
    "results = smf.ols(\"trump_share ~ np.log(income)\", # To take logs, simply say np.log in the formla and it will  \n",
    "                  data=trump_data).fit()          # Automatically do it\n",
    "                                          \n",
    "\n",
    "print(results.summary())"
   ]
  },
  {
   "cell_type": "markdown",
   "metadata": {
    "collapsed": true
   },
   "source": [
    "#### Multivariate Regression\n",
    "\n",
    "Per the setup in the previous notebook, what is the relationship between trump share and income and size (as a proxy for rural-urban split). So now we are adding a second $X$ variable. This is what is sometimes called multivariate regression."
   ]
  },
  {
   "cell_type": "code",
   "execution_count": 135,
   "metadata": {
    "collapsed": true
   },
   "outputs": [],
   "source": [
    "trump_data[\"population\"] = trump_data[\"population\"]/trump_data[\"population\"].median()\n",
    "\n",
    "# Lets scale this as well..."
   ]
  },
  {
   "cell_type": "code",
   "execution_count": 136,
   "metadata": {},
   "outputs": [
    {
     "name": "stdout",
     "output_type": "stream",
     "text": [
      "                            OLS Regression Results                            \n",
      "==============================================================================\n",
      "Dep. Variable:            trump_share   R-squared:                       0.132\n",
      "Model:                            OLS   Adj. R-squared:                  0.131\n",
      "Method:                 Least Squares   F-statistic:                     235.7\n",
      "Date:                Wed, 29 Nov 2017   Prob (F-statistic):           4.81e-96\n",
      "Time:                        11:48:01   Log-Likelihood:                 1579.4\n",
      "No. Observations:                3111   AIC:                            -3153.\n",
      "Df Residuals:                    3108   BIC:                            -3135.\n",
      "Df Model:                           2                                         \n",
      "Covariance Type:            nonrobust                                         \n",
      "==============================================================================\n",
      "                 coef    std err          t      P>|t|      [0.025      0.975]\n",
      "------------------------------------------------------------------------------\n",
      "Intercept      0.7180      0.011     68.182      0.000       0.697       0.739\n",
      "income        -0.0641      0.010     -6.404      0.000      -0.084      -0.044\n",
      "population    -0.0040      0.000    -18.522      0.000      -0.004      -0.004\n",
      "==============================================================================\n",
      "Omnibus:                      338.402   Durbin-Watson:                   1.424\n",
      "Prob(Omnibus):                  0.000   Jarque-Bera (JB):              698.762\n",
      "Skew:                          -0.683   Prob(JB):                    1.84e-152\n",
      "Kurtosis:                       4.877   Cond. No.                         72.1\n",
      "==============================================================================\n",
      "\n",
      "Warnings:\n",
      "[1] Standard Errors assume that the covariance matrix of the errors is correctly specified.\n"
     ]
    }
   ],
   "source": [
    "results = smf.ols(\"trump_share ~ income + population\",  # Now just add the second variable\n",
    "                  data=trump_data).fit()  \n",
    "                                         \n",
    "\n",
    "print(results.summary())"
   ]
  },
  {
   "cell_type": "markdown",
   "metadata": {},
   "source": [
    "Here we see, negative coeffecients on income and population. Again, consistent with the tables and plots we made. Furthermore, note how the explanatory power jumped up.\n",
    "\n",
    "Let's put this in logs..."
   ]
  },
  {
   "cell_type": "code",
   "execution_count": 137,
   "metadata": {
    "scrolled": false
   },
   "outputs": [
    {
     "name": "stdout",
     "output_type": "stream",
     "text": [
      "                            OLS Regression Results                            \n",
      "==============================================================================\n",
      "Dep. Variable:            trump_share   R-squared:                       0.253\n",
      "Model:                            OLS   Adj. R-squared:                  0.253\n",
      "Method:                 Least Squares   F-statistic:                     527.5\n",
      "Date:                Wed, 29 Nov 2017   Prob (F-statistic):          5.83e-198\n",
      "Time:                        11:48:08   Log-Likelihood:                 1814.3\n",
      "No. Observations:                3111   AIC:                            -3623.\n",
      "Df Residuals:                    3108   BIC:                            -3604.\n",
      "Df Model:                           2                                         \n",
      "Covariance Type:            nonrobust                                         \n",
      "======================================================================================\n",
      "                         coef    std err          t      P>|t|      [0.025      0.975]\n",
      "--------------------------------------------------------------------------------------\n",
      "Intercept              0.6424      0.002    264.306      0.000       0.638       0.647\n",
      "np.log(income)         0.0302      0.011      2.841      0.005       0.009       0.051\n",
      "np.log(population)    -0.0553      0.002    -31.204      0.000      -0.059      -0.052\n",
      "==============================================================================\n",
      "Omnibus:                      461.114   Durbin-Watson:                   1.451\n",
      "Prob(Omnibus):                  0.000   Jarque-Bera (JB):              735.725\n",
      "Skew:                          -1.012   Prob(JB):                    1.73e-160\n",
      "Kurtosis:                       4.256   Cond. No.                         6.48\n",
      "==============================================================================\n",
      "\n",
      "Warnings:\n",
      "[1] Standard Errors assume that the covariance matrix of the errors is correctly specified.\n"
     ]
    }
   ],
   "source": [
    "results = smf.ols(\"trump_share ~ np.log(income) + np.log(population)\",  # Now just add the second variable\n",
    "                  data=trump_data).fit()  \n",
    "                                         \n",
    "\n",
    "print(results.summary())"
   ]
  },
  {
   "cell_type": "markdown",
   "metadata": {},
   "source": [
    "Note a couple of things happened here:\n",
    "- The R-square went up a bunch...as a predictive scheme, this is a positive development.\n",
    "- However, the coeffecient on income flipped. **Here is where our prework helps** This may be some symptom of mis-specification...recall how it looked like the income effect was an inverted U. One way to capture that is to put in a square term for income. \n",
    "\n",
    "Lets do that:"
   ]
  },
  {
   "cell_type": "code",
   "execution_count": 138,
   "metadata": {},
   "outputs": [
    {
     "name": "stdout",
     "output_type": "stream",
     "text": [
      "                            OLS Regression Results                            \n",
      "==============================================================================\n",
      "Dep. Variable:            trump_share   R-squared:                       0.308\n",
      "Model:                            OLS   Adj. R-squared:                  0.308\n",
      "Method:                 Least Squares   F-statistic:                     461.6\n",
      "Date:                Wed, 29 Nov 2017   Prob (F-statistic):          5.35e-248\n",
      "Time:                        11:48:11   Log-Likelihood:                 1933.0\n",
      "No. Observations:                3111   AIC:                            -3858.\n",
      "Df Residuals:                    3107   BIC:                            -3834.\n",
      "Df Model:                           3                                         \n",
      "Covariance Type:            nonrobust                                         \n",
      "=============================================================================================\n",
      "                                coef    std err          t      P>|t|      [0.025      0.975]\n",
      "---------------------------------------------------------------------------------------------\n",
      "Intercept                     0.6642      0.003    244.175      0.000       0.659       0.670\n",
      "np.log(income)                0.0519      0.010      5.035      0.000       0.032       0.072\n",
      "np.square(np.log(income))    -0.3700      0.024    -15.698      0.000      -0.416      -0.324\n",
      "np.log(population)           -0.0530      0.002    -30.954      0.000      -0.056      -0.050\n",
      "==============================================================================\n",
      "Omnibus:                      262.010   Durbin-Watson:                   1.472\n",
      "Prob(Omnibus):                  0.000   Jarque-Bera (JB):              347.865\n",
      "Skew:                          -0.714   Prob(JB):                     2.90e-76\n",
      "Kurtosis:                       3.804   Cond. No.                         15.0\n",
      "==============================================================================\n",
      "\n",
      "Warnings:\n",
      "[1] Standard Errors assume that the covariance matrix of the errors is correctly specified.\n"
     ]
    }
   ],
   "source": [
    "results = smf.ols('''trump_share ~ np.log(income) + np.square(np.log(income))\n",
    "                  +  np.log(population)''',  # Now just add the second variable\n",
    "                  data=trump_data).fit()  \n",
    "                                         \n",
    "\n",
    "print(results.summary())"
   ]
  },
  {
   "cell_type": "markdown",
   "metadata": {},
   "source": [
    "Now look what happened. \n",
    "- R-square went up. \n",
    "- The coeffecient on the square term is negative. **This is consistent with what we saw earlier!** I would call this strong evidence that there is a inverted U relationship between income and the share of vote going towards Trump. \n",
    "- Finally, it is worth noting still that population size matters a lot. Larger counties are farm more likely to have higher vote shares for Trump."
   ]
  },
  {
   "cell_type": "markdown",
   "metadata": {},
   "source": [
    "### Plotting the Regression Line\n",
    "\n",
    "There are many ways to do this. I'll just talk through one approach using `statsmodels` with `matplotlib`. Another approach is to use the [`seaborne` package](https://seaborn.pydata.org/tutorial/regression.html). The other issue with this is it can be hard to visualize a multidimensional relationship; there are ways to do this by just doing a partial regression approach. `seaborne` has built in procedures for it.\n",
    "\n",
    "Below, I'll just look at a simple bivariate relationship between the trump share and population. "
   ]
  },
  {
   "cell_type": "code",
   "execution_count": 144,
   "metadata": {
    "scrolled": false
   },
   "outputs": [
    {
     "name": "stdout",
     "output_type": "stream",
     "text": [
      "                            OLS Regression Results                            \n",
      "==============================================================================\n",
      "Dep. Variable:            trump_share   R-squared:                       0.252\n",
      "Model:                            OLS   Adj. R-squared:                  0.252\n",
      "Method:                 Least Squares   F-statistic:                     1039.\n",
      "Date:                Wed, 29 Nov 2017   Prob (F-statistic):          5.71e-197\n",
      "Time:                        11:54:34   Log-Likelihood:                 1811.3\n",
      "No. Observations:                3112   AIC:                            -3619.\n",
      "Df Residuals:                    3110   BIC:                            -3606.\n",
      "Df Model:                           1                                         \n",
      "Covariance Type:                  HC3                                         \n",
      "======================================================================================\n",
      "                         coef    std err          z      P>|z|      [0.025      0.975]\n",
      "--------------------------------------------------------------------------------------\n",
      "Intercept              0.6423      0.002    263.492      0.000       0.638       0.647\n",
      "np.log(population)    -0.0535      0.002    -32.237      0.000      -0.057      -0.050\n",
      "==============================================================================\n",
      "Omnibus:                      496.745   Durbin-Watson:                   1.467\n",
      "Prob(Omnibus):                  0.000   Jarque-Bera (JB):              825.050\n",
      "Skew:                          -1.057   Prob(JB):                    6.96e-180\n",
      "Kurtosis:                       4.376   Cond. No.                         1.48\n",
      "==============================================================================\n",
      "\n",
      "Warnings:\n",
      "[1] Standard Errors are heteroscedasticity robust (HC3)\n"
     ]
    }
   ],
   "source": [
    "results = smf.ols('''trump_share ~ np.log(population)''', \n",
    "                  data=trump_data).fit(cov_type='HC3')  \n",
    "                                         \n",
    "print(results.summary())"
   ]
  },
  {
   "cell_type": "markdown",
   "metadata": {},
   "source": [
    "To generate a plot with the regression line and the scattered relationship, I'll use one of the methods associated with the `results` object, `.predict` which generates predicted values. I'll then use our `fig`, `ax` approach to create a scatter plot and then layer the predicted regression line on top of it."
   ]
  },
  {
   "cell_type": "code",
   "execution_count": 145,
   "metadata": {
    "scrolled": false
   },
   "outputs": [
    {
     "data": {
      "image/png": "[encoded data removed]",
      "text/plain": [
       "<matplotlib.figure.Figure at 0x1cf9bce710>"
      ]
     },
     "metadata": {},
     "output_type": "display_data"
    }
   ],
   "source": [
    "trump_pred = results.predict(exog = trump_data[\"population\"].sort_values())\n",
    "           # This generages the predicted values. Two notes here:\n",
    "           # (1) There is no need to transform it, given how the model is specified\n",
    "           # it already understands that the data needs to be transformed.\n",
    "           # (2) I'm going to sort the values just so we can create a smooth line. \n",
    "\n",
    "fig, ax = plt.subplots(figsize = (8,6))\n",
    "\n",
    "ax.scatter(np.log(trump_data[\"population\"]), \n",
    "         100*trump_data[\"trump_share\"], \n",
    "         alpha = .25, label=\"Trump Share of Vote\")\n",
    "\n",
    "ax.plot(np.log(trump_data[\"population\"].sort_values()),100*trump_pred, \n",
    "        color = 'r', linewidth = 2.0, label = \"Best Fit Line\")\n",
    "       # Then I put in the sorted population values\n",
    "       # then the precited trump share.... \n",
    "        \n",
    "#line.set_label('Best Fit Line')\n",
    "\n",
    "ax.spines[\"right\"].set_visible(False)\n",
    "ax.spines[\"top\"].set_visible(False)\n",
    "\n",
    "ax.set_title(\"Trump's Share of Vote and County Size \\n\")\n",
    "ax.set_ylabel(\"Trump Share of Vote\") \n",
    "ax.set_xlabel(\"Log Scale: County Population\")\n",
    "\n",
    "ax.legend()\n",
    "\n",
    "plt.show()"
   ]
  },
  {
   "cell_type": "code",
   "execution_count": null,
   "metadata": {
    "collapsed": true
   },
   "outputs": [],
   "source": []
  }
 ],
 "metadata": {
  "anaconda-cloud": {},
  "kernelspec": {
   "display_name": "Python 3",
   "language": "python",
   "name": "python3"
  },
  "language_info": {
   "codemirror_mode": {
    "name": "ipython",
    "version": 3
   },
   "file_extension": ".py",
   "mimetype": "text/x-python",
   "name": "python",
   "nbconvert_exporter": "python",
   "pygments_lexer": "ipython3",
   "version": "3.6.1"
  }
 },
 "nbformat": 4,
 "nbformat_minor": 2
}
