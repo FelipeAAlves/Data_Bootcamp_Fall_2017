{
 "cells": [
  {
   "cell_type": "markdown",
   "metadata": {},
   "source": [
    "# Data Bootcamp Final Project: What are the gains from moving?\n",
    "\n",
    "Poor countries have large masses of their population in rural, agriculture areas. Within these areas, they earn less relative to urban, non-agriculture areas. This observation begs the question: if people moved from rural to urban areas, would they reap gains in living standards. Or are the observed differences in livings standars simply and artifact of, say, differences in education or (unobserved) ability.\n",
    "\n",
    "This is some thing I've thought a lot about in my research careeer. I'm going to use this project to explore a relativly new dataset that tracks those who actually move and the gains that they experince."
   ]
  },
  {
   "cell_type": "markdown",
   "metadata": {},
   "source": [
    "## Data Report\n",
    "\n",
    "The key elements of the data are from the LSMS surveys from the World Bank. I'm going to focus on the Tanzania one as this has a tracking survey across years. That is it follows households if they move to a new location and measures what they are up to. Here are the key elements of the dataset:\n",
    "- `SEC_B_C_D_E1_F_G1_U.dta` which appears to have basic demographic characteristics of those in the survey. This appears to be some big merged dataset. The orginal year 1 varibles are in the .zip (with year 1 stuff and then the individual B (age) and C which is the education modual. Within the education modual the questions relative to the merged stata file are plus one. So there is the sscq6 is HH_C07\n",
    "- `HH_SEC_A.dta` appears to have the household weights\n",
    "- `TZY1.HH.Consumption.dta` and `TZY2.HH.Consumption.dta` is the consumption module in year one and year two.\n",
    "- `NPSY3.PANEL.KEY.dta` which contains the keys to be able to link, given a household id, across years.\n",
    "- What is not clear is there appears to be `SEC_A`, etc. for year two. Need to investigate this."
   ]
  },
  {
   "cell_type": "code",
   "execution_count": 39,
   "metadata": {
    "collapsed": true
   },
   "outputs": [],
   "source": [
    "import pandas as pd\n",
    "import matplotlib.pyplot as plt\n",
    "import numpy as np"
   ]
  },
  {
   "cell_type": "code",
   "execution_count": 26,
   "metadata": {},
   "outputs": [],
   "source": [
    "path = \"C://Users//mwaugh//Dropbox//Panel Tracking Surveys//Tanzania//Raw Data (2008-2009 and 2010-2011)\"\n",
    "file = path + \"//TZY2.HH.Consumption.dta\"\n",
    "\n",
    "demo_tanz = pd.read_stata(file)"
   ]
  },
  {
   "cell_type": "code",
   "execution_count": 36,
   "metadata": {},
   "outputs": [
    {
     "data": {
      "text/plain": [
       "Index(['y2_hhid', 'foodbev', 'alctob', 'foodIN', 'foodOUT', 'utilities',\n",
       "       'hhexpenses', 'health', 'transport', 'communic', 'recreat', 'educa',\n",
       "       'other', 'expm', 'fisherb2c2', 'foodbevR', 'alctobR', 'foodINR',\n",
       "       'foodOUTR', 'utilitiesR', 'hhexpensesR', 'healthR', 'transportR',\n",
       "       'communicR', 'recreatR', 'educaR', 'otherR', 'expmR', 'hhid_2008',\n",
       "       'hhsize', 'adulteq', 'hhweight', 'strata', 'urban', 'region', 'area',\n",
       "       'mainland', 'intmonth', 'intyear', 'month', 'quarter'],\n",
       "      dtype='object')"
      ]
     },
     "execution_count": 36,
     "metadata": {},
     "output_type": "execute_result"
    }
   ],
   "source": [
    "demo_tanz.head(10)\n",
    "\n",
    "demo_tanz.columns"
   ]
  },
  {
   "cell_type": "code",
   "execution_count": 57,
   "metadata": {},
   "outputs": [
    {
     "ename": "AttributeError",
     "evalue": "'numpy.ndarray' object has no attribute 'hist'",
     "output_type": "error",
     "traceback": [
      "\u001b[1;31m---------------------------------------------------------------------------\u001b[0m",
      "\u001b[1;31mAttributeError\u001b[0m                            Traceback (most recent call last)",
      "\u001b[1;32m<ipython-input-57-9214d2e49501>\u001b[0m in \u001b[0;36m<module>\u001b[1;34m()\u001b[0m\n\u001b[0;32m      5\u001b[0m \u001b[0mlog_cons\u001b[0m \u001b[1;33m=\u001b[0m \u001b[0mnp\u001b[0m\u001b[1;33m.\u001b[0m\u001b[0mlog\u001b[0m\u001b[1;33m(\u001b[0m\u001b[0mdemo_tanz\u001b[0m\u001b[1;33m[\u001b[0m\u001b[1;34m\"expmR\"\u001b[0m\u001b[1;33m]\u001b[0m\u001b[1;33m.\u001b[0m\u001b[0mdropna\u001b[0m\u001b[1;33m(\u001b[0m\u001b[1;33m)\u001b[0m\u001b[1;33m)\u001b[0m \u001b[1;33m-\u001b[0m \u001b[0mnp\u001b[0m\u001b[1;33m.\u001b[0m\u001b[0mlog\u001b[0m\u001b[1;33m(\u001b[0m\u001b[0mdemo_tanz\u001b[0m\u001b[1;33m[\u001b[0m\u001b[1;34m\"adulteq\"\u001b[0m\u001b[1;33m]\u001b[0m\u001b[1;33m.\u001b[0m\u001b[0mdropna\u001b[0m\u001b[1;33m(\u001b[0m\u001b[1;33m)\u001b[0m\u001b[1;33m)\u001b[0m\u001b[1;33m\u001b[0m\u001b[0m\n\u001b[0;32m      6\u001b[0m \u001b[1;33m\u001b[0m\u001b[0m\n\u001b[1;32m----> 7\u001b[1;33m \u001b[0max\u001b[0m\u001b[1;33m.\u001b[0m\u001b[0mhist\u001b[0m\u001b[1;33m(\u001b[0m\u001b[0mlog_cons\u001b[0m\u001b[1;33m.\u001b[0m\u001b[0mdropna\u001b[0m\u001b[1;33m(\u001b[0m\u001b[1;33m)\u001b[0m\u001b[1;33m,\u001b[0m \u001b[0mbins\u001b[0m \u001b[1;33m=\u001b[0m \u001b[1;36m50\u001b[0m\u001b[1;33m,\u001b[0m \u001b[0malpha\u001b[0m \u001b[1;33m=\u001b[0m \u001b[1;36m0.5\u001b[0m\u001b[1;33m)\u001b[0m\u001b[1;33m\u001b[0m\u001b[0m\n\u001b[0m\u001b[0;32m      8\u001b[0m \u001b[1;33m\u001b[0m\u001b[0m\n\u001b[0;32m      9\u001b[0m \u001b[0mplt\u001b[0m\u001b[1;33m.\u001b[0m\u001b[0mshow\u001b[0m\u001b[1;33m(\u001b[0m\u001b[1;33m)\u001b[0m\u001b[1;33m\u001b[0m\u001b[0m\n",
      "\u001b[1;31mAttributeError\u001b[0m: 'numpy.ndarray' object has no attribute 'hist'"
     ]
    }
   ],
   "source": [
    "fig, ax = plt.subplots(1,2)\n",
    "\n",
    "\n",
    "\n",
    "log_cons = np.log(demo_tanz[\"expmR\"].dropna()) - np.log(demo_tanz[\"adulteq\"].dropna())\n",
    "\n",
    "ax.hist(log_cons.dropna(), bins = 50, alpha = 0.5)\n",
    "\n",
    "plt.show()"
   ]
  },
  {
   "cell_type": "markdown",
   "metadata": {
    "collapsed": true
   },
   "source": [
    "Here seems like a simpler appraoch, in the two consumption moduls, to compute the raw gaps, the change, appropriatly weighted all seems possible. So do this first, then bring in, say age and education later, but not at the start."
   ]
  },
  {
   "cell_type": "code",
   "execution_count": 61,
   "metadata": {},
   "outputs": [
    {
     "data": {
      "text/plain": [
       "urban\n",
       "Rural    5.828910e+05\n",
       "Urban    1.133857e+06\n",
       "dtype: float64"
      ]
     },
     "execution_count": 61,
     "metadata": {},
     "output_type": "execute_result"
    }
   ],
   "source": [
    "grouped = demo_tanz.groupby(\"urban\")\n",
    "\n",
    "test = grouped.expmR.sum()/grouped.adulteq.sum()\n",
    "\n",
    "test.head()"
   ]
  },
  {
   "cell_type": "code",
   "execution_count": 86,
   "metadata": {},
   "outputs": [
    {
     "data": {
      "image/png": "[encoded data removed]",
      "text/plain": [
       "<matplotlib.figure.Figure at 0x24a980dfe48>"
      ]
     },
     "metadata": {},
     "output_type": "display_data"
    }
   ],
   "source": [
    "fig, ax = plt.subplots(1,2)\n",
    "\n",
    "log_cons = np.log(demo_tanz[\"expmR\"].dropna()) - np.log(demo_tanz[\"adulteq\"].dropna())\n",
    "\n",
    "ax[0].hist(np.log(grouped.get_group(\"Rural\").expmR.dropna()), bins = 50, alpha = 0.5)\n",
    "\n",
    "ax[1].hist(np.log(grouped.get_group(\"Urban\").expmR.dropna()), bins = 50, alpha = 0.5)\n",
    "\n",
    "plt.show()"
   ]
  },
  {
   "cell_type": "code",
   "execution_count": 76,
   "metadata": {},
   "outputs": [
    {
     "ename": "NameError",
     "evalue": "name 'Rural' is not defined",
     "output_type": "error",
     "traceback": [
      "\u001b[1;31m---------------------------------------------------------------------------\u001b[0m",
      "\u001b[1;31mNameError\u001b[0m                                 Traceback (most recent call last)",
      "\u001b[1;32m<ipython-input-76-3d17f1cce835>\u001b[0m in \u001b[0;36m<module>\u001b[1;34m()\u001b[0m\n\u001b[1;32m----> 1\u001b[1;33m \u001b[0mRural\u001b[0m\u001b[1;33m\u001b[0m\u001b[0m\n\u001b[0m",
      "\u001b[1;31mNameError\u001b[0m: name 'Rural' is not defined"
     ]
    }
   ],
   "source": [
    "Rural"
   ]
  },
  {
   "cell_type": "code",
   "execution_count": null,
   "metadata": {
    "collapsed": true
   },
   "outputs": [],
   "source": []
  }
 ],
 "metadata": {
  "kernelspec": {
   "display_name": "Python 3",
   "language": "python",
   "name": "python3"
  },
  "language_info": {
   "codemirror_mode": {
    "name": "ipython",
    "version": 3
   },
   "file_extension": ".py",
   "mimetype": "text/x-python",
   "name": "python",
   "nbconvert_exporter": "python",
   "pygments_lexer": "ipython3",
   "version": "3.6.1"
  }
 },
 "nbformat": 4,
 "nbformat_minor": 2
}
