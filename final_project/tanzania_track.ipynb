{
 "cells": [
  {
   "cell_type": "markdown",
   "metadata": {},
   "source": [
    "# Data Bootcamp Final Project: What are the gains from moving?\n",
    "\n",
    "Poor countries have large masses of their population in rural, agriculture areas. Within these areas, they earn less relative to urban, non-agriculture areas. This observation begs the question: if people moved from rural to urban areas, would they reap gains in living standards. Or are the observed differences in livings standars simply and artifact of, say, differences in education or (unobserved) ability.\n",
    "\n",
    "This is some thing I've thought a lot about in my research careeer. I'm going to use this project to explore a relativly new dataset that tracks those who actually move and the gains that they experince."
   ]
  },
  {
   "cell_type": "markdown",
   "metadata": {},
   "source": [
    "## Data Report\n",
    "\n",
    "The key elements of the data are from the LSMS surveys from the World Bank. I'm going to focus on the Tanzania one as this has a tracking survey across years. That is it follows households if they move to a new location and measures what they are up to. Here are the key elements of the dataset:\n",
    "- `SEC_B_C_D_E1_F_G1_U.dta` which appears to have basic demographic characteristics of those in the survey. This appears to be some big merged dataset. The orginal year 1 varibles are in the .zip (with year 1 stuff and then the individual B (age) and C which is the education modual. Within the education modual the questions relative to the merged stata file are plus one. So there is the sscq6 is HH_C07\n",
    "- `HH_SEC_A.dta` appears to have the household weights\n",
    "- `TZY1.HH.Consumption.dta` and `TZY2.HH.Consumption.dta` is the consumption module in year one and year two.\n",
    "- `NPSY3.PANEL.KEY.dta` which contains the keys to be able to link, given a household id, across years.\n",
    "- What is not clear is there appears to be `SEC_A`, etc. for year two. Need to investigate this."
   ]
  },
  {
   "cell_type": "code",
   "execution_count": 1,
   "metadata": {
    "collapsed": true
   },
   "outputs": [],
   "source": [
    "import pandas as pd\n",
    "import matplotlib.pyplot as plt\n",
    "import numpy as np"
   ]
  },
  {
   "cell_type": "code",
   "execution_count": 2,
   "metadata": {
    "collapsed": true
   },
   "outputs": [],
   "source": [
    "path = \"C://Users//mwaugh//Dropbox//Panel Tracking Surveys//Tanzania//Raw Data (2008-2009 and 2010-2011)\"\n",
    "file = path + \"//TZY2.HH.Consumption.dta\"\n",
    "\n",
    "demo_tanz = pd.read_stata(file)"
   ]
  },
  {
   "cell_type": "code",
   "execution_count": 14,
   "metadata": {},
   "outputs": [
    {
     "data": {
      "text/plain": [
       "Index(['y2_hhid', 'foodbev', 'alctob', 'foodIN', 'foodOUT', 'utilities',\n",
       "       'hhexpenses', 'health', 'transport', 'communic', 'recreat', 'educa',\n",
       "       'other', 'expm', 'fisherb2c2', 'foodbevR', 'alctobR', 'foodINR',\n",
       "       'foodOUTR', 'utilitiesR', 'hhexpensesR', 'healthR', 'transportR',\n",
       "       'communicR', 'recreatR', 'educaR', 'otherR', 'expmR', 'hhid_2008',\n",
       "       'hhsize', 'adulteq', 'hhweight', 'strata', 'urban', 'region', 'area',\n",
       "       'mainland', 'intmonth', 'intyear', 'month', 'quarter'],\n",
       "      dtype='object')"
      ]
     },
     "execution_count": 14,
     "metadata": {},
     "output_type": "execute_result"
    }
   ],
   "source": [
    "demo_tanz.head(10)\n",
    "\n",
    "demo_tanz.columns"
   ]
  },
  {
   "cell_type": "code",
   "execution_count": 66,
   "metadata": {},
   "outputs": [
    {
     "data": {
      "text/plain": [
       "array([ 5152.95507812,  5212.38671875,  2564.01611328, ...,   253.61778259,\n",
       "         258.77365112,   475.94454956])"
      ]
     },
     "execution_count": 66,
     "metadata": {},
     "output_type": "execute_result"
    }
   ],
   "source": [
    "demo_tanz.hhweight.unique()"
   ]
  },
  {
   "cell_type": "code",
   "execution_count": 12,
   "metadata": {},
   "outputs": [
    {
     "data": {
      "image/png": "[encoded data removed]",
      "text/plain": [
       "<matplotlib.figure.Figure at 0x1e345acdf60>"
      ]
     },
     "metadata": {},
     "output_type": "display_data"
    }
   ],
   "source": [
    "fig, ax = plt.subplots()\n",
    "\n",
    "log_cons = np.log(demo_tanz[\"expmR\"].dropna()) - np.log(demo_tanz[\"adulteq\"].dropna())\n",
    "\n",
    "ax.hist(log_cons.dropna(), bins = 50, alpha = 0.5)\n",
    "\n",
    "plt.show()"
   ]
  },
  {
   "cell_type": "markdown",
   "metadata": {
    "collapsed": true
   },
   "source": [
    "Here seems like a simpler appraoch, in the two consumption moduls, to compute the raw gaps, the change, appropriatly weighted all seems possible. So do this first, then bring in, say age and education later, but not at the start."
   ]
  },
  {
   "cell_type": "code",
   "execution_count": 36,
   "metadata": {},
   "outputs": [
    {
     "data": {
      "text/plain": [
       "0.328393135725429"
      ]
     },
     "execution_count": 36,
     "metadata": {},
     "output_type": "execute_result"
    }
   ],
   "source": [
    "demo_tanz[\"urbam_num\"] = np.where(demo_tanz.urban == \"Urban\", 1.0, 0.0)\n",
    "                         # The first part is the condition,\n",
    "                         # The second part, \"red\" is if the condition is met\n",
    "                         # The third part, \"blue\" is if the condition is not met.\n",
    "            \n",
    "demo_tanz.urbam_num.mean()"
   ]
  },
  {
   "cell_type": "code",
   "execution_count": 54,
   "metadata": {},
   "outputs": [
    {
     "data": {
      "image/png": "[encoded data removed]",
      "text/plain": [
       "<matplotlib.figure.Figure at 0x1e34552d4e0>"
      ]
     },
     "metadata": {},
     "output_type": "display_data"
    }
   ],
   "source": [
    "grouped = demo_tanz.groupby(\"region\")\n",
    "\n",
    "test = grouped.expmR.sum()/grouped.adulteq.sum()\n",
    "\n",
    "frac_rural = grouped.urbam_num.mean()\n",
    "\n",
    "size = grouped.expmR.count()\n",
    "\n",
    "#print(size)\n",
    "\n",
    "fig, ax = plt.subplots()\n",
    "\n",
    "ax.scatter(test/test.mean(),frac_rural,s = size,alpha = 0.50)\n",
    "\n",
    "ax.set_title(\"Houshold Consumption and Urban Share\\n\")\n",
    "ax.set_ylabel(\"Urban Share of Region\") \n",
    "ax.set_xlabel(\"Average Household Consumption (Relative to Mean)\")\n",
    "\n",
    "ax.spines[\"right\"].set_visible(False)\n",
    "ax.spines[\"top\"].set_visible(False)\n",
    "\n",
    "plt.show()\n",
    "\n",
    "#print(frac_rural)"
   ]
  },
  {
   "cell_type": "code",
   "execution_count": 9,
   "metadata": {},
   "outputs": [
    {
     "data": {
      "image/png": "[encoded data removed]",
      "text/plain": [
       "<matplotlib.figure.Figure at 0x1e34573b048>"
      ]
     },
     "metadata": {},
     "output_type": "display_data"
    }
   ],
   "source": [
    "fig, ax = plt.subplots(1,2)\n",
    "\n",
    "log_cons = np.log(demo_tanz[\"expmR\"].dropna()) - np.log(demo_tanz[\"adulteq\"].dropna())\n",
    "\n",
    "ax[0].hist(np.log(grouped.get_group(\"Rural\").expmR.dropna()), bins = 50, alpha = 0.5)\n",
    "\n",
    "ax[1].hist(np.log(grouped.get_group(\"Urban\").expmR.dropna()), bins = 50, alpha = 0.5)\n",
    "\n",
    "plt.show()"
   ]
  },
  {
   "cell_type": "code",
   "execution_count": null,
   "metadata": {
    "collapsed": true
   },
   "outputs": [],
   "source": []
  }
 ],
 "metadata": {
  "kernelspec": {
   "display_name": "Python 3",
   "language": "python",
   "name": "python3"
  },
  "language_info": {
   "codemirror_mode": {
    "name": "ipython",
    "version": 3
   },
   "file_extension": ".py",
   "mimetype": "text/x-python",
   "name": "python",
   "nbconvert_exporter": "python",
   "pygments_lexer": "ipython3",
   "version": "3.6.1"
  }
 },
 "nbformat": 4,
 "nbformat_minor": 2
}
