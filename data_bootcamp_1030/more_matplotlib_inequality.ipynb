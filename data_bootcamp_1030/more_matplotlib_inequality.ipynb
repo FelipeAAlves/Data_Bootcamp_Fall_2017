{
 "cells": [
  {
   "cell_type": "markdown",
   "metadata": {},
   "source": [
    "## More Matplotlib (Histograms, Bar Charts, Advanced Scatter, Advanced Line Plots)\n",
    "\n",
    "This is my notebook to provide more work with Matplotlib (and practice with data wrangling in Python and the Pandas package). \n",
    "\n",
    "The quesiton of this lecture is: **Why are some countries rich, others poor?** Can't get any more fundemental then this. Like in the previous lecture, we will work through this \"mini-project\" to learn new features of Matplotlib. \n",
    "\n",
    "- We will focus on (i) histograms (ii) bar charts and (iii) advanced scatter plots and (iv) advanced line plots. \n",
    "\n",
    "- Along the way will also learn some data wrangeling skills, specifically `isin` command pandas; the value of a good choice about the index for the dataframe; the `groupby` command in pandas.\n",
    "\n",
    "- We will also use the `numpy` package for the first time and see how logorithims are very useful. \n",
    "\n",
    "- Finally, we will learn how to output the figure so you can pop it into, say a PowerPoint presentation."
   ]
  },
  {
   "cell_type": "code",
   "execution_count": null,
   "metadata": {},
   "outputs": [],
   "source": [
    "import pandas as pd             # Bring in the Pandas Package\n",
    "import matplotlib.pyplot as plt # Our plotting tool\n",
    "import numpy as np              # Numberical Python, we will use this at the end."
   ]
  },
  {
   "cell_type": "markdown",
   "metadata": {},
   "source": [
    "The data set for which we will answer this question is the \"Penn Worl Table\" it is basicly a **comparable** dataset of country outcomes (e.g. GDP, Investment, etc). The key word here is **comparable.** What this means is that when we are comparing China's GDP to the US's GDP we are making an \"apple to apple\" comparaison.  Side note (in your work, you should be asking your self that question, is my data series comparable across time, space, etc.)\n",
    "\n",
    "Now, this is a more complicated data set than what we previously worked with. So to save time, lets create some **wants** out of the data. \n",
    "- We want to know something about existing cross-country income inequalty. \n",
    "- We want to know something about how (say education) correlates with income inequalty.\n",
    "- We want to know something about how growth, inequality, and specific country experinces over time.\n",
    "\n",
    "I think that is enough for now...The first question can be answerd with a nice bar or even better histogram chart. The latter we can use a nice scatter plot. \n",
    "\n",
    "One final point on where we are going. We will first do this for one year. Its ok to start out small, the idea is execute the idea in a small way, then use your existing code to scale it up, say for many years.\n",
    "\n",
    "#### Read in the data...\n",
    "\n",
    "You should probably spend sometime looking at the dataset before we read it in. Be mindfull of how missing values are treated, the legend page provides good information on what each data series is, anything else we should watch out for?"
   ]
  },
  {
   "cell_type": "code",
   "execution_count": null,
   "metadata": {},
   "outputs": [
    {
     "name": "stderr",
     "output_type": "stream",
     "text": [
      "C:\\Program Files\\Anaconda3\\lib\\site-packages\\pandas\\util\\_decorators.py:118: FutureWarning: The `sheetname` keyword is deprecated, use `sheet_name` instead\n",
      "  return func(*args, **kwargs)\n"
     ]
    }
   ],
   "source": [
    "#url = 'http://www.rug.nl/research/ggdc/data/pwt/v81/pwt81.xlsx' # This is the link from the book, its broken\n",
    "url = \"http://www.rug.nl/ggdc/docs/pwt81.xlsx\"                   # Here is the correct link\n",
    "pwt = pd.read_excel(url, sheetname='Data')                       # Then use the pd.read code to bring it in\n",
    "                                                                 # note also the use of the option to call a specific\n",
    "                                                                 # sheet here\n",
    "        \n",
    "# And if this is not working, here is our backup \n",
    "# url = \"https://raw.githubusercontent.com/mwaugh0328/Data_Bootcamp_Fall_2017/\"\n",
    "# url = url + \"master/data_bootcamp_1030/pwt_inclass.csv\"\n",
    "# pwt = pd.read_csv(url,na_values = [\"\"])"
   ]
  },
  {
   "cell_type": "code",
   "execution_count": null,
   "metadata": {},
   "outputs": [],
   "source": [
    "pwt.head()"
   ]
  },
  {
   "cell_type": "markdown",
   "metadata": {},
   "source": [
    "Ok, that was not that informative. Note all the missing values. Lets look at the tail."
   ]
  },
  {
   "cell_type": "code",
   "execution_count": null,
   "metadata": {},
   "outputs": [],
   "source": [
    "pwt.tail()"
   ]
  },
  {
   "cell_type": "code",
   "execution_count": null,
   "metadata": {},
   "outputs": [],
   "source": [
    "pwt.shape"
   ]
  },
  {
   "cell_type": "markdown",
   "metadata": {},
   "source": [
    "Ok, so this is sizable. "
   ]
  },
  {
   "cell_type": "markdown",
   "metadata": {},
   "source": [
    "### Cross-Country Income Inequality for One Year\n",
    "So lets think through the steps. First, we need to really only two things of the data: First, something about income or output per person. If we look at the data, I'll note that it has the componenets to construct income per person, but will will have to calculate it. Second, just that for the one year that we care about. So, I'm going to drop stuff from the dataframe accordingly."
   ]
  },
  {
   "cell_type": "code",
   "execution_count": null,
   "metadata": {
    "collapsed": true
   },
   "outputs": [],
   "source": [
    "pwt[\"gdp_pop\"] = pwt[\"rgdpe\"] / pwt[\"pop\"] # This makes GDP per person or ``average income in that country''\n",
    "\n",
    "pwt_2005 = pwt[pwt.year == 2005]           # This will get me just the 2005 year...\n"
   ]
  },
  {
   "cell_type": "markdown",
   "metadata": {},
   "source": [
    "These types of operations on the dataframe should be feeling familiar. The first operation just creates a new series which is gdp per person in the country. The second operation just pulled out the year 2005 (which will simplfy the syntax below)."
   ]
  },
  {
   "cell_type": "code",
   "execution_count": null,
   "metadata": {},
   "outputs": [],
   "source": [
    "pwt_2005.head()  # Do this again, just to verify we have what we think we have..."
   ]
  },
  {
   "cell_type": "markdown",
   "metadata": {},
   "source": [
    "\n",
    "### Histograms\n",
    "\n",
    "For this question, a histogram is a good place to start to illustrate how much income inequality there is. Lets learn how to do this."
   ]
  },
  {
   "cell_type": "code",
   "execution_count": null,
   "metadata": {},
   "outputs": [],
   "source": [
    "avg = pwt_2005.gdp_pop.mean()\n",
    "\n",
    "fig, ax = plt.subplots()\n",
    "\n",
    "pwt_2005.gdp_pop.plot(kind='hist', ax=ax) # Same deal, now we just changed the kind to 'hist' for histogram...\n",
    "\n",
    "plt.show()"
   ]
  },
  {
   "cell_type": "markdown",
   "metadata": {},
   "source": [
    "Ok, not bad. Now lets make this a bit more informative by adding some of th usual (titles, labels ), then some stuff to add context."
   ]
  },
  {
   "cell_type": "code",
   "execution_count": null,
   "metadata": {},
   "outputs": [],
   "source": [
    "\n",
    "fig, ax = plt.subplots()\n",
    "\n",
    "pwt_2005.gdp_pop.plot(kind='hist', ax=ax)\n",
    "\n",
    "ax.set_xlabel(\"PPP 2005 Dollars\")\n",
    "\n",
    "ax.set_title(\"Global Income Inequality\")\n",
    "\n",
    "ax.spines[\"right\"].set_visible(False)\n",
    "ax.spines[\"top\"].set_visible(False)\n",
    "\n",
    "plt.show()\n"
   ]
  },
  {
   "cell_type": "markdown",
   "metadata": {},
   "source": [
    "I think this is looking good. Let me add some context, I'm going to add two horizontal lines showing the world average and then the United States."
   ]
  },
  {
   "cell_type": "code",
   "execution_count": null,
   "metadata": {},
   "outputs": [],
   "source": [
    "fig, ax = plt.subplots()\n",
    "\n",
    "pwt_2005.gdp_pop.plot(kind='hist', ax=ax)\n",
    "\n",
    "ax.set_xlabel(\"PPP 2005 Dollars\")\n",
    "\n",
    "ax.set_title(\"Global Income Inequality\")\n",
    "\n",
    "ax.spines[\"right\"].set_visible(False)\n",
    "ax.spines[\"top\"].set_visible(False)\n",
    "\n",
    "# All the stuff is the same as before... below is the new stuff.\n",
    "\n",
    "avg = pwt_2005.gdp_pop.mean() # This computes the average value.\n",
    "\n",
    "\n",
    "ax.axvline(x=avg,           # Set the value equall to the average\n",
    "           color='r',       # make the color red\n",
    "           label='Average', # this is the label (shows up in the legend)\n",
    "           linestyle='-',   # the line style\n",
    "           linewidth=2)     # thickness of the line\n",
    "\n",
    "message = \"World Average \\n\" + str(round(avg,-1)) # Create the message, convert the number to a string,\n",
    "                                                  # then add it \n",
    "                                                  \n",
    "ax.text(avg + 1000, # This is the placement on the x-axis, I'm shifting it righ to see it better\n",
    "        100, # placement on the y-axis\n",
    "        message,  # The message\n",
    "        horizontalalignment='left') # then alling everything on the left.\n",
    "\n",
    "usval = float(pwt_2005[pwt_2005.countrycode == \"USA\"].gdp_pop)\n",
    "# Note how I'm doing this, I'm slicing the data frame by a boolean operation. So take the value\n",
    "# where the countrycode is USA, return gdp_pop. The one issue here is that it returns a dataframe\n",
    "# not a floating point value. So I use float to convert it.\n",
    "\n",
    "ax.axvline(x= usval, color='k', label= \"USA\", linestyle='--', linewidth=2) # Put in the US Value\n",
    "# Same deal as above\n",
    "\n",
    "message = \"US Value \\n\" + str(round(usval,-1))\n",
    "\n",
    "ax.text(usval +1000, 100, message, horizontalalignment='left')\n",
    "# Same deal as above.\n",
    "\n",
    "plt.show()"
   ]
  },
  {
   "cell_type": "markdown",
   "metadata": {},
   "source": [
    "What does it say? What else would you like to see? Is this hiding anything?\n",
    "\n",
    "**Excercise:** Exlpore another year, how does it compare? Can you make a side by side plot of the histogram for two years?"
   ]
  },
  {
   "cell_type": "markdown",
   "metadata": {},
   "source": [
    "How to display how much inequality there is? Let work through two different kind of plots. A bar chart (and we will have to simplify this) and a histogram.\n",
    "\n",
    "### Bar Chart of Cross Country Income Inequality\n",
    "\n",
    "First, I think the chart above displays an aspect of how much inequality there is across countries. But there are other ways to get at this issue. A bar chart is a way to provide a direct comparision of countries. Lets explore that. As usual, lets generate a quick bar chart. \n"
   ]
  },
  {
   "cell_type": "code",
   "execution_count": null,
   "metadata": {},
   "outputs": [],
   "source": [
    "fig, ax = plt.subplots()\n",
    "\n",
    "pwt_2005.gdp_pop.plot(kind='barh', ax=ax) # Same deal as usual, just changed the kind.\n",
    "\n",
    "plt.show()"
   ]
  },
  {
   "cell_type": "markdown",
   "metadata": {},
   "source": [
    "Ok, so that is **brutal**. This is going to need a lot of work. In fact, we might want to just give up on this idea...but lets push ahead a little bit. \n",
    "\n",
    "The first thing that I notice is that the y-axis is a mess. Lets simplify our lives and only look at a couple of countries first, the work from there. \n",
    "\n",
    "**Note we are taking a slight detour here to wrangle the data a bit**\n",
    "\n",
    "We want to look at only a couple of countries. How do we pull them out? There are several ways to do this, I will show you two. ** But this is good practice to learn and manipulate data**\n",
    "\n",
    "##### The .isin operation\n",
    "\n",
    "Below I use a **Boolean** operation to only pull out a subset of the countries. Here I use this `.isin` operation:"
   ]
  },
  {
   "cell_type": "code",
   "execution_count": null,
   "metadata": {},
   "outputs": [],
   "source": [
    "country_list = [\"USA\", \"GBR\", \"ARG\", \"TZA\", \"CHN\"]           # My country list\n",
    "\n",
    "subpwt = pwt_2005[pwt_2005.countrycode.isin(country_list)]   # First, inside the brackets, I'm looking at the country code, then\n",
    "                                                             # use this .isin command, it will create a boolean that specifies \n",
    "                                                             # a true if the country code \"is in\" our list and a false otherwise\n",
    "                                                             # Then since it is inside the brackets, this means that subpwt will\n",
    "                                                             # only be that subset of countries.\n",
    "                \n",
    "                                                             # What if you just did inside the brackets, \n",
    "                                                             # pwt_2005.countrycode == country_list? Why would this not work.\n",
    "\n",
    "subpwt.head() # Lets set if we did what we thought..."
   ]
  },
  {
   "cell_type": "markdown",
   "metadata": {},
   "source": [
    "Ok, so this looks good. We pulled out only those countries. Now lets plot it."
   ]
  },
  {
   "cell_type": "code",
   "execution_count": null,
   "metadata": {},
   "outputs": [],
   "source": [
    "fig, ax = plt.subplots()\n",
    "\n",
    "subpwt.gdp_pop.plot(kind='barh', ax=ax) \n",
    "plt.show()"
   ]
  },
  {
   "cell_type": "markdown",
   "metadata": {},
   "source": [
    "Ok, this is nice in the sense that we see what is going on with the y-axis. It is labeling it with numerical codes. If we want to keep using this approach, then we would need to change it. \n",
    "\n",
    "#### Set the Index approach\n",
    "\n",
    "We actually worked with the PWT earlier. And I posed the question, what is the natural index? In this case I would argue that here the natural index would be the country. Why? Well we removed the time dimension by only looking at the year 2005 and the fundemental unit of observation is the country here. \n",
    "\n",
    "By setting the index, it now lets us pull directly a subset of countries in a relativly easy way."
   ]
  },
  {
   "cell_type": "code",
   "execution_count": null,
   "metadata": {
    "scrolled": true
   },
   "outputs": [],
   "source": [
    "country_list = [\"USA\", \"GBR\", \"ARG\", \"TZA\", \"CHN\"] # Our country list\n",
    "\n",
    "pwt_2005.set_index(\"countrycode\",inplace = True)   # Now set the index to be the countrycode\n",
    "\n",
    "pwt_2005.loc[country_list].head()                  # The use the `loc' operation. This pulls out the values associated with \n",
    "                                                   # the index location specified."
   ]
  },
  {
   "cell_type": "code",
   "execution_count": null,
   "metadata": {},
   "outputs": [],
   "source": [
    "fig, ax = plt.subplots()\n",
    "\n",
    "pwt_2005.loc[country_list].gdp_pop.plot(kind='barh', ax=ax) \n",
    "plt.show()"
   ]
  },
  {
   "cell_type": "markdown",
   "metadata": {},
   "source": [
    "Now this is nice because, the y-axis automatically reports the **informative** country codes. Lets modify this a bit. "
   ]
  },
  {
   "cell_type": "code",
   "execution_count": null,
   "metadata": {},
   "outputs": [],
   "source": [
    "fig, ax = plt.subplots()\n",
    "\n",
    "pwt_2005.loc[country_list].gdp_pop.plot(kind='barh', ax=ax) \n",
    "\n",
    "ax.set_title(\"2005 GDP Per Person, Select Countries\")\n",
    "ax.set_ylabel(\"Country\")\n",
    "ax.set_xlabel(\"PPP 2005 Dollars\")\n",
    "\n",
    "ax.spines[\"right\"].set_visible(False)\n",
    "ax.spines[\"top\"].set_visible(False)\n",
    "\n",
    "plt.show()\n"
   ]
  },
  {
   "cell_type": "markdown",
   "metadata": {},
   "source": [
    "Now let me show you a couple of more \"bells and whistles\" to make this plot look nice. I'm going to add a vertical line illustrating mean gdp per person. Then I'm going to Change the country labels, so your boss does not start yelling, \"What the hell does TZA stand for!!!\""
   ]
  },
  {
   "cell_type": "code",
   "execution_count": null,
   "metadata": {},
   "outputs": [],
   "source": [
    "avg = pwt_2005.gdp_pop.mean()\n",
    "\n",
    "fig, ax = plt.subplots()\n",
    "\n",
    "pwt_2005.loc[country_list].gdp_pop.plot(kind='barh', ax=ax) \n",
    "\n",
    "ax.set_title(\"2005 GDP Per Person, Select Countries\")\n",
    "ax.set_ylabel(\"\") #By Changing the labeling, having a ylabel saying country is redundent, so remove it.\n",
    "ax.set_xlabel(\"PPP 2005 Dollars\")\n",
    "\n",
    "ax.set_yticklabels(pwt_2005.loc[country_list].country.tolist())\n",
    "\n",
    "ax.spines[\"right\"].set_visible(False)\n",
    "ax.spines[\"top\"].set_visible(False)\n",
    "\n",
    "ax.axvline(x=avg, color='r', label='Average', linestyle='--', linewidth=2)\n",
    "\n",
    "message = \"World Average \\n\" + str(round(avg,-1)) # Create the message, convert the number to a string,\n",
    "                                                  # then add it \n",
    "ax.text(avg + 1000, # This is the placement on the x-axis, I'm shifting it righ to see it better\n",
    "        3, # placement on the y-axis\n",
    "        message,  # The message\n",
    "        horizontalalignment='left') # then alling everything on the left.\n",
    "\n",
    "plt.show()\n"
   ]
  },
  {
   "cell_type": "markdown",
   "metadata": {},
   "source": [
    "What do you think? How could we make this better?\n",
    "\n",
    "**Excercise** Explore some other countries. Can you change the color of one of the bars? Hint: See the book and the PISA score example. "
   ]
  },
  {
   "cell_type": "markdown",
   "metadata": {
    "collapsed": true
   },
   "source": [
    "### Income Inequality and Education \n",
    "\n",
    "Now lets finish off with a fancy, bubble scatter plot. We will do this in the context of thinking about the role that the level of education in a country plays in determining its income level. \n",
    "\n",
    "Where do I get some education data. Turns out the Penn World Table already has this locked and loaded. The `hc` variable is a measure of human capital (as measured by economists). Basic idea, transform average years of schooling into an number that has economic content. \n",
    "\n",
    "So lets plot income level vs human capital."
   ]
  },
  {
   "cell_type": "code",
   "execution_count": null,
   "metadata": {},
   "outputs": [],
   "source": [
    "fix, ax = plt.subplots()\n",
    "\n",
    "ax.scatter(pwt_2005[\"gdp_pop\"], pwt_2005[\"hc\"],     # x,y variables \n",
    "            alpha= 0.50) # Then this last command specifies how dark or light the bubbles are...\n",
    "\n",
    "plt.show()"
   ]
  },
  {
   "cell_type": "markdown",
   "metadata": {},
   "source": [
    "Hmmm...Is this what you expected? \n",
    "\n",
    "Here is the deal: note how the relationship looks like a curve. One way to get at this in a more transparent way is to take logarithims of both variables. Taking logs will also help scale things in a better way as well (expand on this).\n",
    "\n",
    "Well how to I do this. Use the `numpy` package which works well with operations on data frame (note the `math` package which also has the log operation did not!). "
   ]
  },
  {
   "cell_type": "code",
   "execution_count": null,
   "metadata": {},
   "outputs": [],
   "source": [
    "fig, ax = plt.subplots()\n",
    "\n",
    "ax.scatter(np.log(pwt_2005[\"gdp_pop\"]), np.log(pwt_2005[\"hc\"]), # np.log() is taking a natural log transformation...\n",
    "            alpha= 0.50) # Then this last command specifies how dark or light the bubbles are...\n",
    "\n",
    "plt.show()\n"
   ]
  },
  {
   "cell_type": "markdown",
   "metadata": {},
   "source": [
    "Now we are one to somthing. Here is a nice, clear relationship between human capital and GDP per person. There is one issue with log scale, what does 5 mean? Well take exp(5) and you get GDP per person in levels. **BUT WHAT IS EXP(5)!!!**, your boss yells. So lets change the lables on the x-axis."
   ]
  },
  {
   "cell_type": "code",
   "execution_count": null,
   "metadata": {},
   "outputs": [],
   "source": [
    "import numpy as np # Numerical Python Package, a key element of scientific computation in python\n",
    "\n",
    "fig, ax = plt.subplots()\n",
    "\n",
    "ax.scatter(np.log(pwt_2005[\"gdp_pop\"]), np.log(pwt_2005[\"hc\"]), # np.log() is taking a natural log transformation...\n",
    "            alpha= 0.50) # Then this last command specifies how dark or light the bubbles are...\n",
    "\n",
    "\n",
    "ax.set_title(\"2005 GDP Per Person vs. Human Capital\")\n",
    "ax.set_ylabel(\"Log Human Capital\") \n",
    "ax.set_xlabel(\"PPP 2005 Dollars\")\n",
    "\n",
    "xlabel_list = np.exp(range(5,13)) # Now creat the list of lables by converting 5,6,etc. to levels\n",
    "                                  # by taking exp.\n",
    "xlabel_list = np.round(xlabel_list,-2) # Then round it so it looks nice.\n",
    "\n",
    "\n",
    "ax.set_xticklabels(xlabel_list) # Then set the xtick labels.\n",
    "\n",
    "ax.spines[\"right\"].set_visible(False)\n",
    "ax.spines[\"top\"].set_visible(False)\n",
    "\n",
    "plt.show()"
   ]
  },
  {
   "cell_type": "markdown",
   "metadata": {},
   "source": [
    "Ok, so this is looking great. I want to add one more thing. One issue implicit in this plot is that all countries are (visually) being treated the same. But should China be treated the same as Luxumberg? One way to illustrate that some countries have more people than others is to do a bubble scatter plot. Lets do this."
   ]
  },
  {
   "cell_type": "code",
   "execution_count": null,
   "metadata": {},
   "outputs": [],
   "source": [
    "import numpy as np # Numerical Python Package, a key element of scientific computation in python\n",
    "\n",
    "fig, ax = plt.subplots()\n",
    "\n",
    "ax.scatter(np.log(pwt_2005[\"gdp_pop\"]), np.log(pwt_2005[\"hc\"]), # np.log() is taking a natural log transformation...\n",
    "            s=pwt_2005['pop'], # THE NEW PART HERE! \n",
    "            alpha= 0.50) # Then this last command specifies how dark or light the bubbles are...\n",
    "\n",
    "\n",
    "ax.set_title(\"2005 GDP Per Person vs. Human Capital\")\n",
    "ax.set_ylabel(\"Log Human Capital\") \n",
    "ax.set_xlabel(\"GDP Per Person, PPP 2005 Dollars\")\n",
    "\n",
    "xlabel_list = np.exp(range(5,13)) # Now creat the list of lables by converting 5,6,etc. to levels\n",
    "                                  # by taking exp.\n",
    "xlabel_list = np.round(xlabel_list,-2) # Then round it so it looks nice.\n",
    "\n",
    "\n",
    "ax.set_xticklabels(xlabel_list) # Then set the xtick labels.\n",
    "\n",
    "ax.spines[\"right\"].set_visible(False)\n",
    "ax.spines[\"top\"].set_visible(False)\n",
    "\n",
    "plt.show()"
   ]
  },
  {
   "cell_type": "markdown",
   "metadata": {},
   "source": [
    "**AMAZING!** One thing to notice is how visually, this really changed things. In the previous graph above, there were some countries with high levels of GDP per person, but (relativly) low levels of human capital. To me at least, this gave the impression that maybe at higher income levels this relationship is more ambigous.\n",
    "\n",
    "But with the bubbles, it makes clear that those outlying countreis are tiny. And now visually, there is a sharp, linear relationship observed between GDP per person and education. \n",
    "\n",
    "There is a lot more you could do with this graph. Let me suggest a couple of things:\n",
    "- Change the x-ticks so they look less random\n",
    "- Report some statistics about this, e.g. weighted correlation. Better yet, the relationship of a regression of income on human capital. Maybe even plot the best fit line? \n",
    "\n",
    "**Excercise** Explore another year? Again, can you plot them side by side to illustrate what is going on?"
   ]
  },
  {
   "cell_type": "markdown",
   "metadata": {},
   "source": [
    "### Andvanced Line Plots\n",
    "\n",
    "Lets recall our want. We want some way to illustrate how inequality has changed over time. In the histogram section, I suggested some ways (write a function using our code to create many histograms for different years, maybe make a move out of it). I'm going to suggest another approach which is to use a line plot that plots statistics from the income distribution over time. \n",
    "\n",
    "Ok, let me first try the most naive thing possible..."
   ]
  },
  {
   "cell_type": "code",
   "execution_count": null,
   "metadata": {},
   "outputs": [],
   "source": [
    "fig, ax = plt.subplots() # Our standard thing.\n",
    "\n",
    "#pwt.set_index(\"year\").gdp_pop.plot(ax = ax)\n",
    "\n",
    "# Here is another way to create a plot and spcify the x and y axis\n",
    "# so the year vs. log gdp per person....\n",
    "\n",
    "ax.plot(pwt.year, np.log(pwt.gdp_pop)) \n",
    "\n",
    "plt.show()\n"
   ]
  },
  {
   "cell_type": "markdown",
   "metadata": {},
   "source": [
    "This is not great. Not as bad as the bar chart, but hard to see what is going on. The issue is that, like the histogram, we don't really need all the detail of every single individual country, but just some statistics about the distribution over time. \n",
    "\n",
    "So how do we do this...compute statistics about the distribution over time. Sounds easier said than done. But it is easy...we can use the `groupby` method for pandas dataframe to \"group\" the data set by a specifiec characteristic. So what we can do is group by the year, then compute something. Lets first check it out"
   ]
  },
  {
   "cell_type": "code",
   "execution_count": null,
   "metadata": {},
   "outputs": [],
   "source": [
    "#pd.groupby? # Check this out, the key thing is that you can apply a transformation to the group."
   ]
  },
  {
   "cell_type": "code",
   "execution_count": null,
   "metadata": {},
   "outputs": [],
   "source": [
    "testgb = pwt.groupby(\"year\").sum()\n",
    "\n",
    "# This first says, take the datframe, pwt, then group by the year, \n",
    "# compute the mean of the variables for that year.\n",
    "\n",
    "testgb.head()"
   ]
  },
  {
   "cell_type": "markdown",
   "metadata": {},
   "source": [
    "Ok, so note what is going on here. This is grouping stuff by the year and then computing the mean of all varibles for that year (where that mean is taken over the dimension within a year, in this case the country). Make sense? **Try out `.sum()` or `.median()` and see what happens.**\n",
    "\n",
    "Once we figured out this `groupby` command, we can now use this to satisfy our wants, i.e. a statistics of the distribution by year and plot it."
   ]
  },
  {
   "cell_type": "code",
   "execution_count": null,
   "metadata": {},
   "outputs": [],
   "source": [
    "avg = pwt.groupby(\"year\").gdp_pop.median() # This will compute the median, across countries, within a year\n",
    "\n",
    "fig, ax  = plt.subplots()\n",
    "\n",
    "avg.plot(ax = ax)\n",
    "\n",
    "plt.show()"
   ]
  },
  {
   "cell_type": "markdown",
   "metadata": {},
   "source": [
    "No bad. Again, this is displying how median, income per person has changed over time. Now I want to make this a lot fancier, but illustrating the exremes..."
   ]
  },
  {
   "cell_type": "code",
   "execution_count": null,
   "metadata": {
    "scrolled": false
   },
   "outputs": [],
   "source": [
    "med = np.log(pwt.groupby(\"year\").gdp_pop.median()) # This will compute the median, across countries, within a year\n",
    "q90 = np.log(pwt.groupby(\"year\").gdp_pop.quantile(0.90)) # This is going to compute the 90th percentile\n",
    "q10 = np.log(pwt.groupby(\"year\").gdp_pop.quantile(0.10)) # This is going to compute teh 10th percentile\n",
    "\n",
    "# I'm doing this in logs for lots of reasons, try it without...\n",
    "\n",
    "fig, ax  = plt.subplots()\n",
    "\n",
    "med.plot(ax = ax)\n",
    "\n",
    "q90.plot(ax = ax)\n",
    "\n",
    "q10.plot(ax = ax)\n",
    "\n",
    "#ax.fill_between(med.index, q10, q90, color = \"b\")\n"
   ]
  },
  {
   "cell_type": "markdown",
   "metadata": {},
   "source": [
    "This is ok. The middle part is the median and now we have the upper and lower bands. Let make this a lot sexier..."
   ]
  },
  {
   "cell_type": "code",
   "execution_count": null,
   "metadata": {},
   "outputs": [],
   "source": [
    "fig, ax  = plt.subplots()\n",
    "\n",
    "med.plot(ax = ax, color = \"white\", lw = 3, figsize = (7,5))\n",
    "\n",
    "ax.fill_between(med.index, q10, q90, color = \"#3F5D7D\") \n",
    "# This is the new option, we color in the areas between the bottom q10\n",
    "# and the top, q90. Then I got this color from Randy olson blog, I like it.\n",
    "\n",
    "ax.spines[\"right\"].set_visible(False)\n",
    "ax.spines[\"top\"].set_visible(False)\n",
    "\n",
    "ax.set_yticks(range(5,12))\n",
    "# This sets the yticks so we can see center the graph in the middle\n",
    "\n",
    "y_label_list = np.exp(range(5,12))\n",
    "y_label_list = np.round(y_label_list,-2)\n",
    "\n",
    "ax.set_yticklabels(y_label_list)\n",
    "# This process above generates informative labels for the y-axis\n",
    "# so its not in log units, but in dollars\n",
    "\n",
    "ax.set_title(\"Global Income Inequality\\n\") \n",
    "ax.set_ylabel(\"GDP Per Person, PPP 2005 Dollars\")\n",
    "ax.set_xlabel(\"Year\")\n",
    "\n",
    "ax.text(1960, 3.75, \"Data Source: Penn World Table 8.1, \" \n",
    "        \"http://www.rug.nl/ggdc/docs/pwt81.xlsx\", fontsize = 8)\n",
    "\n",
    "# Then, lets put a footnote saying where we got the data from. \n",
    "# This is a nice touch. \n",
    "\n",
    "\n",
    "plt.show()\n"
   ]
  },
  {
   "cell_type": "markdown",
   "metadata": {},
   "source": [
    "**WOW** This looks awesome!!! I'm going to add one more thing, suppose we want to know about one countries experince (relative to everybody else), then lets add their specific time series"
   ]
  },
  {
   "cell_type": "code",
   "execution_count": null,
   "metadata": {
    "scrolled": false
   },
   "outputs": [],
   "source": [
    "fig, ax  = plt.subplots()\n",
    "\n",
    "med.plot(ax = ax, color = \"white\", lw = 3, figsize = (7,5))\n",
    "\n",
    "ax.fill_between(med.index, q10, q90, color = \"#3F5D7D\") \n",
    "# This is the new option, we specify the x-axis, in this case the index,\n",
    "# color in the areas between the bottom q10\n",
    "# and the top, q90. Then I got this color from Randy olson blog, I like it.\n",
    "\n",
    "ax.spines[\"right\"].set_visible(False)\n",
    "ax.spines[\"top\"].set_visible(False)\n",
    "\n",
    "###############################################################\n",
    "# This is the new part\n",
    "\n",
    "ax.plot(med.index, np.log(pwt[pwt.countrycode == \"CHN\"].gdp_pop), color = 'r', lw = 3)\n",
    "\n",
    "# just plot on top, the x-axis, Korea's GDP per person, color, line width...\n",
    "\n",
    "###############################################################\n",
    "\n",
    "ax.set_yticks(range(5,12))\n",
    "# This sets the yticks so we can see center the graph in the middle\n",
    "\n",
    "y_label_list = np.exp(range(5,12))\n",
    "y_label_list = np.round(y_label_list,-2)\n",
    "\n",
    "ax.set_yticklabels(y_label_list)\n",
    "# This process above generates informative labels for the y-axis\n",
    "# so its not in log units, but in dollars\n",
    "\n",
    "ax.set_title(\"Global Income Inequality\\n\") \n",
    "ax.set_ylabel(\"GDP Per Person, PPP 2005 Dollars\")\n",
    "ax.set_xlabel(\"Year\")\n",
    "\n",
    "ax.text(1960, 3.75, \"Data Source: Penn World Table 8.1, \" \n",
    "        \"http://www.rug.nl/ggdc/docs/pwt81.xlsx\", fontsize = 8)\n",
    "\n",
    "plt.show()"
   ]
  },
  {
   "cell_type": "markdown",
   "metadata": {},
   "source": [
    "This is really cool. **Try some other countries, e.g. China or Argentina or someplace that you have experince with**\n",
    "\n",
    "What more would you like to see? We might want to lable the lines, I don't think a legend would look good, but some other approach, what do you think?\n",
    "\n",
    "Some substantive takeaways.\n",
    "\n",
    "- Broadly, I would say that the median countrie has experinced growth over the last 50 years.\n",
    "- But cross-country income inequality has increased. Note that the 90/10 difference in 1950 was about 8 (about 8,000/1000). Then in 2010, it is about (30000/1500), so call it 30. \n",
    "- But there have been amazing growth experinces, e.g. Kora was at the very bottom, then by 2010 its close to the 90th percentil. Very amazing illustration of their relative movement in the income distribution."
   ]
  },
  {
   "cell_type": "code",
   "execution_count": null,
   "metadata": {
    "collapsed": true
   },
   "outputs": [],
   "source": []
  },
  {
   "cell_type": "markdown",
   "metadata": {},
   "source": [
    "## Summary\n",
    "\n",
    "Ok, so what have we learned...\n",
    "- Histograms\n",
    "- Some data wrangeling skills like seting the index in a smart way, or the  `isin` command\n",
    "- Bar charts \n",
    "- Fancy scatter plots (and the value of logorithims)\n",
    "\n",
    "And did it all on an interesting data set. Substantivly, we learned about the vast differences in living standards across countries. And how humand capital (i.e. education) strongly relate to the differences. Deep question, does human capital determine income level or does income level determine human capital?"
   ]
  },
  {
   "cell_type": "code",
   "execution_count": null,
   "metadata": {
    "collapsed": true
   },
   "outputs": [],
   "source": []
  }
 ],
 "metadata": {
  "anaconda-cloud": {},
  "kernelspec": {
   "display_name": "Python [default]",
   "language": "python",
   "name": "python3"
  },
  "language_info": {
   "codemirror_mode": {
    "name": "ipython",
    "version": 3
   },
   "file_extension": ".py",
   "mimetype": "text/x-python",
   "name": "python",
   "nbconvert_exporter": "python",
   "pygments_lexer": "ipython3",
   "version": "3.5.2"
  }
 },
 "nbformat": 4,
 "nbformat_minor": 2
}
