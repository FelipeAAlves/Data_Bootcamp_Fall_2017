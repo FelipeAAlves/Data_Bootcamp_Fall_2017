{
 "cells": [
  {
   "cell_type": "markdown",
   "metadata": {},
   "source": [
    "### More Matplotlib (Advanced Scatter, Bar Charts, Histograms)\n",
    "\n",
    "This is my notebook to provide more work with Matplotlib (and practice with data wrangling in Python and the Pandas package). \n",
    "\n",
    "The quesiton of this lecture is: **Why are some countries rich, others poor?** Can't get any more fundemental then this. Like in the previous lecture, we will work through this \"mini-project\" to learn new features of Matplotlib. Specifically, (i) some advanced scatter (ii) bar charts and (iii) histograms. "
   ]
  },
  {
   "cell_type": "code",
   "execution_count": null,
   "metadata": {
    "collapsed": true
   },
   "outputs": [],
   "source": [
    "import pandas as pd             # Bring in the Pandas Package\n",
    "import matplotlib.pyplot as plt # Our plotting tool"
   ]
  },
  {
   "cell_type": "markdown",
   "metadata": {},
   "source": [
    "The data set for which we will answer this question is the \"Penn Worl Table\" it is basicly a **comparable** dataset of country outcomes (e.g. GDP, Investment, etc). The key word here is **comparable.** What this means is that when we are comparing China's GDP to the US's GDP we are making an \"apple to apple\" comparaison.  Side note (in your work, you should be asking your self that question, is my data series comparable across time, space, etc.)\n",
    "\n",
    "Now, this is a more complicated data set than what we previously worked with. So to save time, lets create some **wants** out of the data. \n",
    "- We want to know something about existing cross-country income inequalty. \n",
    "- We want to know somethign about how (say education) correlates with income inequalty.\n",
    "I think that is enough for now...The first question can be answerd with a nice bar or even better histogram chart. The latter we can use a nice scatter plot. \n",
    "\n",
    "One final point on where we are going. We will first do this for one year. Its ok to start out small, the idea is execute the idea in a small way, then use your existing code to scale it up, say for many years.\n",
    "\n",
    "#### Read in the data...\n",
    "\n",
    "You should probably spend sometime looking at the dataset before we read it in. Be mindfull of how missing values are treated, the legend page provides good information on what each data series is, anything else we should watch out for?"
   ]
  },
  {
   "cell_type": "code",
   "execution_count": null,
   "metadata": {},
   "outputs": [],
   "source": [
    "#url = 'http://www.rug.nl/research/ggdc/data/pwt/v81/pwt81.xlsx' # This is the link from the book, its broken\n",
    "url = \"http://www.rug.nl/ggdc/docs/pwt81.xlsx\"                   # Here is the correct link\n",
    "pwt = pd.read_excel(url, sheetname='Data')                       # Then use the pd.read code to bring it in\n",
    "                                                                 # note also the use of the option to call a specific\n",
    "                                                                 # sheet here"
   ]
  },
  {
   "cell_type": "code",
   "execution_count": null,
   "metadata": {},
   "outputs": [],
   "source": [
    "pwt.head()"
   ]
  },
  {
   "cell_type": "markdown",
   "metadata": {},
   "source": [
    "Ok, that was not that informative. Note all the missing values. Lets look at the tail."
   ]
  },
  {
   "cell_type": "code",
   "execution_count": null,
   "metadata": {},
   "outputs": [],
   "source": [
    "pwt.tail()"
   ]
  },
  {
   "cell_type": "code",
   "execution_count": null,
   "metadata": {},
   "outputs": [],
   "source": [
    "pwt.shape"
   ]
  },
  {
   "cell_type": "markdown",
   "metadata": {},
   "source": [
    "### Cross-Country Income Inequality for One Year\n",
    "So lets think through the steps. First, we need to really only two things of the data: First, something about income or output per person. Second, just that for the one year that we care about. So, I'm going to drop stuff from the dataframe accordingly."
   ]
  },
  {
   "cell_type": "code",
   "execution_count": null,
   "metadata": {},
   "outputs": [],
   "source": [
    "pwt[\"gdp_pop\"] = pwt[\"rgdpe\"] / pwt[\"pop\"] # This makes GDP per person or ``average income in that country''\n",
    "\n",
    "pwt_2005 = pwt[pwt.year == 2005]           # This will get me just the 2005 year...\n"
   ]
  },
  {
   "cell_type": "markdown",
   "metadata": {},
   "source": [
    "These types of operations on the dataframe should be feeling familiar. The first operation just creates a new series which is gdp per person in the country. The second operation just pulled out the year 2005 (which will simplfy the syntax below)."
   ]
  },
  {
   "cell_type": "code",
   "execution_count": null,
   "metadata": {},
   "outputs": [],
   "source": [
    "pwt_2005.head()  # Do this again, just to verify we have what we think we have..."
   ]
  },
  {
   "cell_type": "code",
   "execution_count": null,
   "metadata": {},
   "outputs": [],
   "source": [
    "fig, ax = plt.subplots()\n",
    "\n",
    "pwt_2005.gdp_pop.plot(kind='barh', ax=ax) \n",
    "plt.show()"
   ]
  },
  {
   "cell_type": "markdown",
   "metadata": {},
   "source": [
    "Ok, so that is **brutal**. This is going to need a lot of work. The first thing that I notice is that the y-axis is a mess. Lets simplify our lives and only look at a couple of countries first, the work from there. \n"
   ]
  },
  {
   "cell_type": "code",
   "execution_count": null,
   "metadata": {},
   "outputs": [],
   "source": [
    "country_list = [\"USA\", \"GBR\", \"ARG\", \"TZA\"]\n",
    "\n",
    "fig, ax = plt.subplots()\n",
    "\n",
    "small_pwt = \n",
    "\n",
    ".gdp_pop.plot(kind='barh', ax=ax) \n",
    "plt.show()\n",
    "\n"
   ]
  },
  {
   "cell_type": "code",
   "execution_count": null,
   "metadata": {
    "scrolled": true
   },
   "outputs": [],
   "source": [
    "country_list = [\"USA\", \"GBR\", \"ARG\"]\n",
    "\n",
    "pwt_2005.set_index(\"countrycode\", inplace = True)\n",
    "\n",
    "pwt_2005.loc[country_list]\n",
    "\n",
    "fig, ax = plt.subplots()\n",
    "\n",
    "pwt_2005.loc[country_list].gdp_pop.plot(kind='barh', ax=ax) \n",
    "plt.show()"
   ]
  },
  {
   "cell_type": "code",
   "execution_count": null,
   "metadata": {},
   "outputs": [],
   "source": [
    "country_list = [\"USA\", \"GBR\", \"ARG\"]\n",
    "\n",
    "fig, ax = plt.subplots()\n",
    "\n",
    "pwt_2005.loc[country_list].gdp_pop.plot(kind='barh', ax=ax) \n",
    "plt.show()"
   ]
  },
  {
   "cell_type": "markdown",
   "metadata": {},
   "source": [
    "countries = ['Argentina', 'Greece']\n",
    "weo_sub = weo[weo['WEO Subject Code'].isin(variables) & weo['Country'].isin(countries)]\n",
    "weo_sub"
   ]
  }
 ],
 "metadata": {
  "anaconda-cloud": {},
  "kernelspec": {
   "display_name": "Python [default]",
   "language": "python",
   "name": "python3"
  },
  "language_info": {
   "codemirror_mode": {
    "name": "ipython",
    "version": 3
   },
   "file_extension": ".py",
   "mimetype": "text/x-python",
   "name": "python",
   "nbconvert_exporter": "python",
   "pygments_lexer": "ipython3",
   "version": "3.5.2"
  }
 },
 "nbformat": 4,
 "nbformat_minor": 2
}
