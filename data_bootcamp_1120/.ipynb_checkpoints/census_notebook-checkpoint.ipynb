{
 "cells": [
  {
   "cell_type": "markdown",
   "metadata": {},
   "source": [
    "### Census Data\n",
    "\n",
    "Consider the following questions: \n",
    "- Who is my customer? \n",
    "- Where should I relocate my plant or head quarters? \n",
    "- Where would be a good location for a new store (given my knowledge of my customer)? \n",
    "\n",
    "**How would you answer these questions?** This lecture will talk through one approach: Get detailed demographic information about the people that live in a given area, then use that information to answer the questions above. How do you get detailed demographic information? Well the US census!\n",
    "\n",
    "What is the US census? Every 10 years the US government is required to essentially count all people within the United States and in doing so detailed information is constructed. A new innovation that is of interest to us is the American Community Survey. This is a Survey (not a census), but is matched up with the 10 year census in a way to provide detailed demographic information at a **yearly** frequency. So you can find out median household income in zip code 90210 for 2015, 2014, etc. actually only going back to 2010 since this is a new development.\n",
    "\n",
    "A second development is that the US census has a well developed API for which we can directly access the data. In the past, this process would look like this: bulk download `.csv` files, pull what you need, store it, etc. Now on the fly you can get what you want directly (and I think the main user of this are commercial vendors, e.g. like you look at Zillow and some characteristics of that zip code are reported, this is a direct feed from the census). \n",
    "\n",
    "**What are we going to do with it?** We will learn how to use the Census API and then use information to ask who voted for Trump or Clinton in the 2016 Presidential election. This is a nice application because, we know election results at very fine levels of geography, but we will never know individual votes. But we can `merge` the election results up with demographic information at those fine geographic locations and be able to make statements like \"areas with a less educated population were more likely to vote for candidate X\" Along the way, we will learn some more stuff:\n",
    "- Census API\n",
    "- More practice `merge`ing\n",
    "- Pivot Tables\n",
    "\n",
    "Then this will fit with the next two lectures:\n",
    "- Statistics in python `statsmodels.api`\n",
    "- Mapping \n",
    "\n",
    "#### Getting Started\n",
    "\n",
    "So below are the packages that we need. The first two we know. The `Census` package is the new one:"
   ]
  },
  {
   "cell_type": "code",
   "execution_count": 17,
   "metadata": {
    "collapsed": true,
    "nbpresent": {
     "id": "a53136ea-a4a8-411e-9121-ffd6cf17f713"
    }
   },
   "outputs": [],
   "source": [
    "import pandas as pd\n",
    "import matplotlib.pyplot as plt\n",
    "\n",
    "from census import Census # This is new...\n",
    "from us import states"
   ]
  },
  {
   "cell_type": "markdown",
   "metadata": {},
   "source": [
    "Now before we can use this, YOU need to get access. It is very easy, just go here:\n",
    "\n",
    "https://api.census.gov/data/key_signup.html\n",
    "\n",
    "And then follow the instructions. This will give you a personalized key that you can use when interfacing with the Census. If you are having trouble, just use my key.\n",
    "\n",
    "One you have a key, you create a session. The syntax looks like this:"
   ]
  },
  {
   "cell_type": "code",
   "execution_count": 22,
   "metadata": {
    "nbpresent": {
     "id": "63aa45da-9a1f-405f-bc8a-18c1e68c2795"
    }
   },
   "outputs": [
    {
     "data": {
      "text/plain": [
       "'06'"
      ]
     },
     "execution_count": 22,
     "metadata": {},
     "output_type": "execute_result"
    }
   ],
   "source": [
    "my_api_key = '34e40301bda77077e24c859c6c6c0b721ad73fc7'\n",
    "# This is my api_key\n",
    "\n",
    "c = Census(my_api_key)\n",
    "# This will create an object c which has methods associated with it.\n",
    "# We will see  these below.\n",
    "\n",
    "\n",
    "#type(c)"
   ]
  },
  {
   "cell_type": "markdown",
   "metadata": {},
   "source": [
    "Now below is the basic syntax. Here are [some examples](https://pypi.python.org/pypi/census). The quick start is you do `c.acs5.get (stuff)`. \n",
    "\n",
    "- The first bit `acs5` says use the 5 year America Community Survey. There are other options, but this will give data at the finest geographical level possible. As I update this lecture, I explain some more differences. \n",
    "- The next git `get` says get the data\n",
    "- Then the stuff in the brackets tells it what to grab. There are essentially three elements: the first one `code` tells it the code associated with the data series you want, (if you want multiple sereis, create a tuple); the second element describes the geography, the third element is the year.\n",
    "\n",
    "Lets do an example:"
   ]
  },
  {
   "cell_type": "code",
   "execution_count": 27,
   "metadata": {
    "nbpresent": {
     "id": "cec40cc2-3548-40d7-9789-59ff49e65114"
    }
   },
   "outputs": [
    {
     "data": {
      "text/html": [
       "<div>\n",
       "<style scoped>\n",
       "    .dataframe tbody tr th:only-of-type {\n",
       "        vertical-align: middle;\n",
       "    }\n",
       "\n",
       "    .dataframe tbody tr th {\n",
       "        vertical-align: top;\n",
       "    }\n",
       "\n",
       "    .dataframe thead th {\n",
       "        text-align: right;\n",
       "    }\n",
       "</style>\n",
       "<table border=\"1\" class=\"dataframe\">\n",
       "  <thead>\n",
       "    <tr style=\"text-align: right;\">\n",
       "      <th></th>\n",
       "      <th>B01001_001E</th>\n",
       "      <th>NAME</th>\n",
       "      <th>state</th>\n",
       "    </tr>\n",
       "  </thead>\n",
       "  <tbody>\n",
       "    <tr>\n",
       "      <th>0</th>\n",
       "      <td>38421464</td>\n",
       "      <td>California</td>\n",
       "      <td>06</td>\n",
       "    </tr>\n",
       "  </tbody>\n",
       "</table>\n",
       "</div>"
      ],
      "text/plain": [
       "  B01001_001E        NAME state\n",
       "0    38421464  California    06"
      ]
     },
     "execution_count": 27,
     "metadata": {},
     "output_type": "execute_result"
    }
   ],
   "source": [
    "code = (\"NAME\",\"B01001_001E\") # This says grab the geographical name, and  B01001_001E \n",
    "                               # is the population. \n",
    "    \n",
    "state_pop_2015 = c.acs5.get(code, {'for': 'state:'+ states.CA.fips }, year=2015)\n",
    "                                  # Then this element says for \n",
    "                                  # Then the next element says, by state, then the specific state\n",
    "                                  # you are looking for. Here is the trick, states are classified by FIPS numbers\n",
    "                                  # So you then use the state.CA.fips which generates the correct\n",
    "                                  # FIPS value for California.\n",
    "\n",
    "state_pop_2015 = pd.DataFrame(state_pop_2015)\n",
    "\n",
    "\n",
    "state_pop_2015.head()\n",
    "\n",
    "#county_2015[code].astype(float).sum()\n"
   ]
  },
  {
   "cell_type": "markdown",
   "metadata": {},
   "source": [
    "Lets do one more example: Here is population and total foreign born population in that state."
   ]
  },
  {
   "cell_type": "code",
   "execution_count": 28,
   "metadata": {
    "nbpresent": {
     "id": "e5f8b1e5-1521-4a60-bb51-5bc5bea63d41"
    }
   },
   "outputs": [
    {
     "data": {
      "text/html": [
       "<div>\n",
       "<style scoped>\n",
       "    .dataframe tbody tr th:only-of-type {\n",
       "        vertical-align: middle;\n",
       "    }\n",
       "\n",
       "    .dataframe tbody tr th {\n",
       "        vertical-align: top;\n",
       "    }\n",
       "\n",
       "    .dataframe thead th {\n",
       "        text-align: right;\n",
       "    }\n",
       "</style>\n",
       "<table border=\"1\" class=\"dataframe\">\n",
       "  <thead>\n",
       "    <tr style=\"text-align: right;\">\n",
       "      <th></th>\n",
       "      <th>B01001_001E</th>\n",
       "      <th>B05006_001E</th>\n",
       "      <th>NAME</th>\n",
       "      <th>state</th>\n",
       "    </tr>\n",
       "  </thead>\n",
       "  <tbody>\n",
       "    <tr>\n",
       "      <th>0</th>\n",
       "      <td>38421464</td>\n",
       "      <td>10389990</td>\n",
       "      <td>California</td>\n",
       "      <td>06</td>\n",
       "    </tr>\n",
       "  </tbody>\n",
       "</table>\n",
       "</div>"
      ],
      "text/plain": [
       "  B01001_001E B05006_001E        NAME state\n",
       "0    38421464    10389990  California    06"
      ]
     },
     "execution_count": 28,
     "metadata": {},
     "output_type": "execute_result"
    }
   ],
   "source": [
    "code = (\"NAME\",\"B01001_001E\",\"B05006_001E\") # This says grab the geographical name, and  B01001_001E \n",
    "                               # is the population; B05006_001E is foreign born population (i.e. immigrants)\n",
    "    \n",
    "state_pop_2015 = c.acs5.get(code, {'for': 'state:'+ states.CA.fips }, year=2015)\n",
    "                                  # Then this element says for \n",
    "                                  # Then the next element says, by state, then the specific state\n",
    "                                  # you are looking for. Here is the trick, states are classified by FIPS numbers\n",
    "                                  # So you then use the state.CA.fips which generates the correct\n",
    "                                  # FIPS value for California.\n",
    "\n",
    "state_pop_2015 = pd.DataFrame(state_pop_2015)\n",
    "\n",
    "\n",
    "state_pop_2015.head()\n",
    "\n",
    "#county_2015[code].astype(float).sum()\n"
   ]
  },
  {
   "cell_type": "markdown",
   "metadata": {},
   "source": [
    "Almost a 1/4 of the population in California is foreign born! Is this correct? Quick check and google this and see the answer that you get. \n",
    "\n",
    "**How do I get information for all the states?** The simple answer is to use `*` which is the [wild card character](https://en.wikipedia.org/wiki/Wildcard_character) for their data: So you just do this:"
   ]
  },
  {
   "cell_type": "code",
   "execution_count": 31,
   "metadata": {},
   "outputs": [
    {
     "name": "stdout",
     "output_type": "stream",
     "text": [
      "(52, 4)\n"
     ]
    },
    {
     "data": {
      "text/html": [
       "<div>\n",
       "<style scoped>\n",
       "    .dataframe tbody tr th:only-of-type {\n",
       "        vertical-align: middle;\n",
       "    }\n",
       "\n",
       "    .dataframe tbody tr th {\n",
       "        vertical-align: top;\n",
       "    }\n",
       "\n",
       "    .dataframe thead th {\n",
       "        text-align: right;\n",
       "    }\n",
       "</style>\n",
       "<table border=\"1\" class=\"dataframe\">\n",
       "  <thead>\n",
       "    <tr style=\"text-align: right;\">\n",
       "      <th></th>\n",
       "      <th>B01001_001E</th>\n",
       "      <th>B05006_001E</th>\n",
       "      <th>NAME</th>\n",
       "      <th>state</th>\n",
       "    </tr>\n",
       "  </thead>\n",
       "  <tbody>\n",
       "    <tr>\n",
       "      <th>0</th>\n",
       "      <td>733375</td>\n",
       "      <td>54047</td>\n",
       "      <td>Alaska</td>\n",
       "      <td>02</td>\n",
       "    </tr>\n",
       "    <tr>\n",
       "      <th>1</th>\n",
       "      <td>4830620</td>\n",
       "      <td>167224</td>\n",
       "      <td>Alabama</td>\n",
       "      <td>01</td>\n",
       "    </tr>\n",
       "    <tr>\n",
       "      <th>2</th>\n",
       "      <td>2958208</td>\n",
       "      <td>138822</td>\n",
       "      <td>Arkansas</td>\n",
       "      <td>05</td>\n",
       "    </tr>\n",
       "    <tr>\n",
       "      <th>3</th>\n",
       "      <td>6641928</td>\n",
       "      <td>896004</td>\n",
       "      <td>Arizona</td>\n",
       "      <td>04</td>\n",
       "    </tr>\n",
       "    <tr>\n",
       "      <th>4</th>\n",
       "      <td>38421464</td>\n",
       "      <td>10389990</td>\n",
       "      <td>California</td>\n",
       "      <td>06</td>\n",
       "    </tr>\n",
       "  </tbody>\n",
       "</table>\n",
       "</div>"
      ],
      "text/plain": [
       "  B01001_001E B05006_001E        NAME state\n",
       "0      733375       54047      Alaska    02\n",
       "1     4830620      167224     Alabama    01\n",
       "2     2958208      138822    Arkansas    05\n",
       "3     6641928      896004     Arizona    04\n",
       "4    38421464    10389990  California    06"
      ]
     },
     "execution_count": 31,
     "metadata": {},
     "output_type": "execute_result"
    }
   ],
   "source": [
    "code = (\"NAME\",\"B01001_001E\",\"B05006_001E\") # This says grab the geographical name, and  B01001_001E \n",
    "                               # is the population; B05006_001E is foreign born population (i.e. immigrants)\n",
    "    \n",
    "state_pop_2015 = c.acs5.get(code, {'for': 'state:* '}, year=2015)\n",
    "                                  # Everythig is the same now... but the * says take all states\n",
    "\n",
    "state_pop_2015 = pd.DataFrame(state_pop_2015)\n",
    "\n",
    "print(state_pop_2015.shape)\n",
    "\n",
    "state_pop_2015.head()\n",
    "\n",
    "#county_2015[code].astype(float).sum()"
   ]
  },
  {
   "cell_type": "markdown",
   "metadata": {},
   "source": [
    "Some quick exercises:\n",
    "\n",
    "- **What is the population of the United States?**\n",
    "- **What is the foreign born population of the United states?**"
   ]
  },
  {
   "cell_type": "code",
   "execution_count": 40,
   "metadata": {},
   "outputs": [
    {
     "data": {
      "text/plain": [
       "B01001_001E    320098094.0\n",
       "B05006_001E     41716929.0\n",
       "dtype: float64"
      ]
     },
     "execution_count": 40,
     "metadata": {},
     "output_type": "execute_result"
    }
   ],
   "source": [
    "numeric_code = [\"B01001_001E\",\"B05006_001E\"]\n",
    "\n",
    "state_pop_2015[numeric_code].astype(float).sum()\n",
    "\n",
    "total_population = state_pop_2015[numeric_code].astype(float).sum()\n"
   ]
  },
  {
   "cell_type": "markdown",
   "metadata": {},
   "source": [
    "Does this make sense? Again, google it!"
   ]
  },
  {
   "cell_type": "markdown",
   "metadata": {},
   "source": [
    "#### Finer Levels of Geography\n",
    "\n",
    "The state stuff is interesting, but what is really cool is that very detailed levels of geography can be found. Two that may be of interest are:\n",
    "- Counties: We should have a sense of what these are. \n",
    "- Zip Code Tabulation Areas: This is close to a zip code. In some instances it is not because of census protacols. \n",
    "\n",
    "Lets check it out...."
   ]
  },
  {
   "cell_type": "code",
   "execution_count": 57,
   "metadata": {},
   "outputs": [
    {
     "data": {
      "text/html": [
       "<div>\n",
       "<style scoped>\n",
       "    .dataframe tbody tr th:only-of-type {\n",
       "        vertical-align: middle;\n",
       "    }\n",
       "\n",
       "    .dataframe tbody tr th {\n",
       "        vertical-align: top;\n",
       "    }\n",
       "\n",
       "    .dataframe thead th {\n",
       "        text-align: right;\n",
       "    }\n",
       "</style>\n",
       "<table border=\"1\" class=\"dataframe\">\n",
       "  <thead>\n",
       "    <tr style=\"text-align: right;\">\n",
       "      <th></th>\n",
       "      <th>B01001_001E</th>\n",
       "      <th>B05006_001E</th>\n",
       "      <th>NAME</th>\n",
       "      <th>county</th>\n",
       "      <th>state</th>\n",
       "    </tr>\n",
       "  </thead>\n",
       "  <tbody>\n",
       "    <tr>\n",
       "      <th>67</th>\n",
       "      <td>3304</td>\n",
       "      <td>1491</td>\n",
       "      <td>Aleutians East Borough, Alaska</td>\n",
       "      <td>013</td>\n",
       "      <td>02</td>\n",
       "    </tr>\n",
       "    <tr>\n",
       "      <th>68</th>\n",
       "      <td>5684</td>\n",
       "      <td>2012</td>\n",
       "      <td>Aleutians West Census Area, Alaska</td>\n",
       "      <td>016</td>\n",
       "      <td>02</td>\n",
       "    </tr>\n",
       "    <tr>\n",
       "      <th>69</th>\n",
       "      <td>299107</td>\n",
       "      <td>29803</td>\n",
       "      <td>Anchorage Municipality, Alaska</td>\n",
       "      <td>020</td>\n",
       "      <td>02</td>\n",
       "    </tr>\n",
       "    <tr>\n",
       "      <th>70</th>\n",
       "      <td>17776</td>\n",
       "      <td>328</td>\n",
       "      <td>Bethel Census Area, Alaska</td>\n",
       "      <td>050</td>\n",
       "      <td>02</td>\n",
       "    </tr>\n",
       "    <tr>\n",
       "      <th>71</th>\n",
       "      <td>970</td>\n",
       "      <td>19</td>\n",
       "      <td>Bristol Bay Borough, Alaska</td>\n",
       "      <td>060</td>\n",
       "      <td>02</td>\n",
       "    </tr>\n",
       "    <tr>\n",
       "      <th>72</th>\n",
       "      <td>2060</td>\n",
       "      <td>139</td>\n",
       "      <td>Denali Borough, Alaska</td>\n",
       "      <td>068</td>\n",
       "      <td>02</td>\n",
       "    </tr>\n",
       "    <tr>\n",
       "      <th>73</th>\n",
       "      <td>4979</td>\n",
       "      <td>83</td>\n",
       "      <td>Dillingham Census Area, Alaska</td>\n",
       "      <td>070</td>\n",
       "      <td>02</td>\n",
       "    </tr>\n",
       "    <tr>\n",
       "      <th>74</th>\n",
       "      <td>99705</td>\n",
       "      <td>5067</td>\n",
       "      <td>Fairbanks North Star Borough, Alaska</td>\n",
       "      <td>090</td>\n",
       "      <td>02</td>\n",
       "    </tr>\n",
       "    <tr>\n",
       "      <th>75</th>\n",
       "      <td>2560</td>\n",
       "      <td>181</td>\n",
       "      <td>Haines Borough, Alaska</td>\n",
       "      <td>100</td>\n",
       "      <td>02</td>\n",
       "    </tr>\n",
       "    <tr>\n",
       "      <th>76</th>\n",
       "      <td>2128</td>\n",
       "      <td>114</td>\n",
       "      <td>Hoonah-Angoon Census Area, Alaska</td>\n",
       "      <td>105</td>\n",
       "      <td>02</td>\n",
       "    </tr>\n",
       "    <tr>\n",
       "      <th>77</th>\n",
       "      <td>32531</td>\n",
       "      <td>2552</td>\n",
       "      <td>Juneau City and Borough, Alaska</td>\n",
       "      <td>110</td>\n",
       "      <td>02</td>\n",
       "    </tr>\n",
       "    <tr>\n",
       "      <th>78</th>\n",
       "      <td>57221</td>\n",
       "      <td>1597</td>\n",
       "      <td>Kenai Peninsula Borough, Alaska</td>\n",
       "      <td>122</td>\n",
       "      <td>02</td>\n",
       "    </tr>\n",
       "    <tr>\n",
       "      <th>79</th>\n",
       "      <td>13699</td>\n",
       "      <td>1069</td>\n",
       "      <td>Ketchikan Gateway Borough, Alaska</td>\n",
       "      <td>130</td>\n",
       "      <td>02</td>\n",
       "    </tr>\n",
       "    <tr>\n",
       "      <th>80</th>\n",
       "      <td>13973</td>\n",
       "      <td>2379</td>\n",
       "      <td>Kodiak Island Borough, Alaska</td>\n",
       "      <td>150</td>\n",
       "      <td>02</td>\n",
       "    </tr>\n",
       "    <tr>\n",
       "      <th>81</th>\n",
       "      <td>7914</td>\n",
       "      <td>69</td>\n",
       "      <td>Kusilvak Census Area, Alaska</td>\n",
       "      <td>158</td>\n",
       "      <td>02</td>\n",
       "    </tr>\n",
       "    <tr>\n",
       "      <th>82</th>\n",
       "      <td>1474</td>\n",
       "      <td>53</td>\n",
       "      <td>Lake and Peninsula Borough, Alaska</td>\n",
       "      <td>164</td>\n",
       "      <td>02</td>\n",
       "    </tr>\n",
       "    <tr>\n",
       "      <th>83</th>\n",
       "      <td>96178</td>\n",
       "      <td>3698</td>\n",
       "      <td>Matanuska-Susitna Borough, Alaska</td>\n",
       "      <td>170</td>\n",
       "      <td>02</td>\n",
       "    </tr>\n",
       "    <tr>\n",
       "      <th>84</th>\n",
       "      <td>9854</td>\n",
       "      <td>169</td>\n",
       "      <td>Nome Census Area, Alaska</td>\n",
       "      <td>180</td>\n",
       "      <td>02</td>\n",
       "    </tr>\n",
       "    <tr>\n",
       "      <th>85</th>\n",
       "      <td>9667</td>\n",
       "      <td>626</td>\n",
       "      <td>North Slope Borough, Alaska</td>\n",
       "      <td>185</td>\n",
       "      <td>02</td>\n",
       "    </tr>\n",
       "    <tr>\n",
       "      <th>86</th>\n",
       "      <td>7732</td>\n",
       "      <td>73</td>\n",
       "      <td>Northwest Arctic Borough, Alaska</td>\n",
       "      <td>188</td>\n",
       "      <td>02</td>\n",
       "    </tr>\n",
       "    <tr>\n",
       "      <th>87</th>\n",
       "      <td>3221</td>\n",
       "      <td>196</td>\n",
       "      <td>Petersburg Borough, Alaska</td>\n",
       "      <td>195</td>\n",
       "      <td>02</td>\n",
       "    </tr>\n",
       "    <tr>\n",
       "      <th>88</th>\n",
       "      <td>6376</td>\n",
       "      <td>101</td>\n",
       "      <td>Prince of Wales-Hyder Census Area, Alaska</td>\n",
       "      <td>198</td>\n",
       "      <td>02</td>\n",
       "    </tr>\n",
       "    <tr>\n",
       "      <th>89</th>\n",
       "      <td>8943</td>\n",
       "      <td>755</td>\n",
       "      <td>Sitka City and Borough, Alaska</td>\n",
       "      <td>220</td>\n",
       "      <td>02</td>\n",
       "    </tr>\n",
       "    <tr>\n",
       "      <th>90</th>\n",
       "      <td>999</td>\n",
       "      <td>97</td>\n",
       "      <td>Skagway Municipality, Alaska</td>\n",
       "      <td>230</td>\n",
       "      <td>02</td>\n",
       "    </tr>\n",
       "    <tr>\n",
       "      <th>91</th>\n",
       "      <td>7029</td>\n",
       "      <td>734</td>\n",
       "      <td>Southeast Fairbanks Census Area, Alaska</td>\n",
       "      <td>240</td>\n",
       "      <td>02</td>\n",
       "    </tr>\n",
       "    <tr>\n",
       "      <th>92</th>\n",
       "      <td>9617</td>\n",
       "      <td>427</td>\n",
       "      <td>Valdez-Cordova Census Area, Alaska</td>\n",
       "      <td>261</td>\n",
       "      <td>02</td>\n",
       "    </tr>\n",
       "    <tr>\n",
       "      <th>93</th>\n",
       "      <td>2387</td>\n",
       "      <td>112</td>\n",
       "      <td>Wrangell City and Borough, Alaska</td>\n",
       "      <td>275</td>\n",
       "      <td>02</td>\n",
       "    </tr>\n",
       "    <tr>\n",
       "      <th>94</th>\n",
       "      <td>643</td>\n",
       "      <td>40</td>\n",
       "      <td>Yakutat City and Borough, Alaska</td>\n",
       "      <td>282</td>\n",
       "      <td>02</td>\n",
       "    </tr>\n",
       "    <tr>\n",
       "      <th>95</th>\n",
       "      <td>5644</td>\n",
       "      <td>63</td>\n",
       "      <td>Yukon-Koyukuk Census Area, Alaska</td>\n",
       "      <td>290</td>\n",
       "      <td>02</td>\n",
       "    </tr>\n",
       "  </tbody>\n",
       "</table>\n",
       "</div>"
      ],
      "text/plain": [
       "   B01001_001E B05006_001E                                       NAME county  \\\n",
       "67        3304        1491             Aleutians East Borough, Alaska    013   \n",
       "68        5684        2012         Aleutians West Census Area, Alaska    016   \n",
       "69      299107       29803             Anchorage Municipality, Alaska    020   \n",
       "70       17776         328                 Bethel Census Area, Alaska    050   \n",
       "71         970          19                Bristol Bay Borough, Alaska    060   \n",
       "72        2060         139                     Denali Borough, Alaska    068   \n",
       "73        4979          83             Dillingham Census Area, Alaska    070   \n",
       "74       99705        5067       Fairbanks North Star Borough, Alaska    090   \n",
       "75        2560         181                     Haines Borough, Alaska    100   \n",
       "76        2128         114          Hoonah-Angoon Census Area, Alaska    105   \n",
       "77       32531        2552            Juneau City and Borough, Alaska    110   \n",
       "78       57221        1597            Kenai Peninsula Borough, Alaska    122   \n",
       "79       13699        1069          Ketchikan Gateway Borough, Alaska    130   \n",
       "80       13973        2379              Kodiak Island Borough, Alaska    150   \n",
       "81        7914          69               Kusilvak Census Area, Alaska    158   \n",
       "82        1474          53         Lake and Peninsula Borough, Alaska    164   \n",
       "83       96178        3698          Matanuska-Susitna Borough, Alaska    170   \n",
       "84        9854         169                   Nome Census Area, Alaska    180   \n",
       "85        9667         626                North Slope Borough, Alaska    185   \n",
       "86        7732          73           Northwest Arctic Borough, Alaska    188   \n",
       "87        3221         196                 Petersburg Borough, Alaska    195   \n",
       "88        6376         101  Prince of Wales-Hyder Census Area, Alaska    198   \n",
       "89        8943         755             Sitka City and Borough, Alaska    220   \n",
       "90         999          97               Skagway Municipality, Alaska    230   \n",
       "91        7029         734    Southeast Fairbanks Census Area, Alaska    240   \n",
       "92        9617         427         Valdez-Cordova Census Area, Alaska    261   \n",
       "93        2387         112          Wrangell City and Borough, Alaska    275   \n",
       "94         643          40           Yakutat City and Borough, Alaska    282   \n",
       "95        5644          63          Yukon-Koyukuk Census Area, Alaska    290   \n",
       "\n",
       "   state  \n",
       "67    02  \n",
       "68    02  \n",
       "69    02  \n",
       "70    02  \n",
       "71    02  \n",
       "72    02  \n",
       "73    02  \n",
       "74    02  \n",
       "75    02  \n",
       "76    02  \n",
       "77    02  \n",
       "78    02  \n",
       "79    02  \n",
       "80    02  \n",
       "81    02  \n",
       "82    02  \n",
       "83    02  \n",
       "84    02  \n",
       "85    02  \n",
       "86    02  \n",
       "87    02  \n",
       "88    02  \n",
       "89    02  \n",
       "90    02  \n",
       "91    02  \n",
       "92    02  \n",
       "93    02  \n",
       "94    02  \n",
       "95    02  "
      ]
     },
     "execution_count": 57,
     "metadata": {},
     "output_type": "execute_result"
    }
   ],
   "source": [
    "code = (\"NAME\",\"B01001_001E\",\"B05006_001E\") # Same Codes:\n",
    "\n",
    "county_2015 = pd.DataFrame(c.acs5.get(code, \n",
    "                                         {'for': 'county:*'}, year=2015))\n",
    "                                         # Same deal, but we specify county then the wild card\n",
    "                                         # On the example page, there are ways do do this, only by state\n",
    "county_2015.head()\n",
    "\n",
    "# HEre is another way to look at only one state...\n",
    "        \n",
    "county_2015[county_2015[\"NAME\"].str.contains(\"Alaska\")]"
   ]
  },
  {
   "cell_type": "code",
   "execution_count": 61,
   "metadata": {
    "nbpresent": {
     "id": "1f205ed8-248b-4fd0-81e7-d58cc8bde5ae"
    }
   },
   "outputs": [
    {
     "data": {
      "text/html": [
       "<div>\n",
       "<style scoped>\n",
       "    .dataframe tbody tr th:only-of-type {\n",
       "        vertical-align: middle;\n",
       "    }\n",
       "\n",
       "    .dataframe tbody tr th {\n",
       "        vertical-align: top;\n",
       "    }\n",
       "\n",
       "    .dataframe thead th {\n",
       "        text-align: right;\n",
       "    }\n",
       "</style>\n",
       "<table border=\"1\" class=\"dataframe\">\n",
       "  <thead>\n",
       "    <tr style=\"text-align: right;\">\n",
       "      <th></th>\n",
       "      <th>B01001_001E</th>\n",
       "      <th>B19013_001E</th>\n",
       "      <th>NAME</th>\n",
       "      <th>zip code tabulation area</th>\n",
       "    </tr>\n",
       "  </thead>\n",
       "  <tbody>\n",
       "    <tr>\n",
       "      <th>0</th>\n",
       "      <td>42470</td>\n",
       "      <td>33678</td>\n",
       "      <td>ZCTA5 90059</td>\n",
       "      <td>90059</td>\n",
       "    </tr>\n",
       "    <tr>\n",
       "      <th>1</th>\n",
       "      <td>21478</td>\n",
       "      <td>138750</td>\n",
       "      <td>ZCTA5 90210</td>\n",
       "      <td>90210</td>\n",
       "    </tr>\n",
       "  </tbody>\n",
       "</table>\n",
       "</div>"
      ],
      "text/plain": [
       "  B01001_001E B19013_001E         NAME zip code tabulation area\n",
       "0       42470       33678  ZCTA5 90059                    90059\n",
       "1       21478      138750  ZCTA5 90210                    90210"
      ]
     },
     "execution_count": 61,
     "metadata": {},
     "output_type": "execute_result"
    }
   ],
   "source": [
    "code = (\"NAME\",\"B19013_001E\", \"B01001_001E\") \n",
    "# The new code I added was median houshold income:\n",
    "    \n",
    "zip_2015 = pd.DataFrame(c.acs5.get(code, \n",
    "                                         {'for': 'zip code tabulation area: 90210, 90059'}, year=2014))\n",
    "\n",
    "zip_2015.head()"
   ]
  },
  {
   "cell_type": "markdown",
   "metadata": {},
   "source": [
    "This is interesting. We all know the zip code 90210, the zip code 90059 is also in the Los Angeles area, it happens to be part of the \"Compton\" neighborhood. Google it if you don't know what that it. Median income in Beverly Hills is about 138 thousand dollars, Compton is about 34 thousand. If you were selling designer handbags, where do you want to locate? If you owned a \"dollar store\" where would be a good location? "
   ]
  },
  {
   "cell_type": "markdown",
   "metadata": {
    "collapsed": true
   },
   "source": [
    "### Who voted for Trump? For Clinton?\n",
    "\n",
    "The idea here is to `merge` some demographic characteristics with election results. Here is my mapping out of the approach:\n",
    "- Lets look at the election data (determine the appropriate geography for the Census data)\n",
    "- Pull the Census data\n",
    "- `Merge` it\n",
    "- Learn about `pivot` tables to report some simple \"cuts\" of the data before we get to a more formal statistical analysis next lecture.\n",
    "\n",
    "** Election Data: Below is a link to some election data...***"
   ]
  },
  {
   "cell_type": "code",
   "execution_count": 192,
   "metadata": {},
   "outputs": [
    {
     "data": {
      "text/html": [
       "<div>\n",
       "<style scoped>\n",
       "    .dataframe tbody tr th:only-of-type {\n",
       "        vertical-align: middle;\n",
       "    }\n",
       "\n",
       "    .dataframe tbody tr th {\n",
       "        vertical-align: top;\n",
       "    }\n",
       "\n",
       "    .dataframe thead th {\n",
       "        text-align: right;\n",
       "    }\n",
       "</style>\n",
       "<table border=\"1\" class=\"dataframe\">\n",
       "  <thead>\n",
       "    <tr style=\"text-align: right;\">\n",
       "      <th></th>\n",
       "      <th>StateCode</th>\n",
       "      <th>StateName</th>\n",
       "      <th>CountyFips</th>\n",
       "      <th>CountyName</th>\n",
       "      <th>CountyTotalVote</th>\n",
       "      <th>Party</th>\n",
       "      <th>Candidate</th>\n",
       "      <th>VoteCount</th>\n",
       "    </tr>\n",
       "  </thead>\n",
       "  <tbody>\n",
       "    <tr>\n",
       "      <th>0</th>\n",
       "      <td>AK</td>\n",
       "      <td>alaska</td>\n",
       "      <td>2000</td>\n",
       "      <td>Alaska</td>\n",
       "      <td>246588</td>\n",
       "      <td>GOP</td>\n",
       "      <td>Trump</td>\n",
       "      <td>130415.0</td>\n",
       "    </tr>\n",
       "    <tr>\n",
       "      <th>1</th>\n",
       "      <td>AL</td>\n",
       "      <td>alabama</td>\n",
       "      <td>1087</td>\n",
       "      <td>Macon</td>\n",
       "      <td>8748</td>\n",
       "      <td>GOP</td>\n",
       "      <td>Trump</td>\n",
       "      <td>1394.0</td>\n",
       "    </tr>\n",
       "    <tr>\n",
       "      <th>2</th>\n",
       "      <td>AL</td>\n",
       "      <td>alabama</td>\n",
       "      <td>1131</td>\n",
       "      <td>Wilcox</td>\n",
       "      <td>6095</td>\n",
       "      <td>GOP</td>\n",
       "      <td>Trump</td>\n",
       "      <td>1737.0</td>\n",
       "    </tr>\n",
       "    <tr>\n",
       "      <th>3</th>\n",
       "      <td>AL</td>\n",
       "      <td>alabama</td>\n",
       "      <td>1037</td>\n",
       "      <td>Coosa</td>\n",
       "      <td>5223</td>\n",
       "      <td>GOP</td>\n",
       "      <td>Trump</td>\n",
       "      <td>3376.0</td>\n",
       "    </tr>\n",
       "    <tr>\n",
       "      <th>4</th>\n",
       "      <td>AL</td>\n",
       "      <td>alabama</td>\n",
       "      <td>1009</td>\n",
       "      <td>Blount</td>\n",
       "      <td>25384</td>\n",
       "      <td>GOP</td>\n",
       "      <td>Trump</td>\n",
       "      <td>22808.0</td>\n",
       "    </tr>\n",
       "  </tbody>\n",
       "</table>\n",
       "</div>"
      ],
      "text/plain": [
       "  StateCode StateName  CountyFips CountyName  CountyTotalVote Party Candidate  \\\n",
       "0        AK    alaska        2000     Alaska           246588   GOP     Trump   \n",
       "1        AL   alabama        1087      Macon             8748   GOP     Trump   \n",
       "2        AL   alabama        1131     Wilcox             6095   GOP     Trump   \n",
       "3        AL   alabama        1037      Coosa             5223   GOP     Trump   \n",
       "4        AL   alabama        1009     Blount            25384   GOP     Trump   \n",
       "\n",
       "   VoteCount  \n",
       "0   130415.0  \n",
       "1     1394.0  \n",
       "2     1737.0  \n",
       "3     3376.0  \n",
       "4    22808.0  "
      ]
     },
     "execution_count": 192,
     "metadata": {},
     "output_type": "execute_result"
    }
   ],
   "source": [
    "url = \"https://raw.githubusercontent.com/mwaugh0328/Did-China-Cause-Trump/master/us-election-2016-results-by-county.csv\"\n",
    "\n",
    "election_2016 = pd.read_csv(url)\n",
    "\n",
    "election_2016.head()"
   ]
  },
  {
   "cell_type": "markdown",
   "metadata": {},
   "source": [
    "Lets do some quick look at the vote. First who ran for election\""
   ]
  },
  {
   "cell_type": "code",
   "execution_count": 193,
   "metadata": {
    "scrolled": true
   },
   "outputs": [
    {
     "name": "stdout",
     "output_type": "stream",
     "text": [
      "\n",
      " 2016 Number of Canidates ['Trump' 'Clinton' 'Stein' 'Johnson' 'Castle']\n",
      "\n",
      "\n"
     ]
    }
   ],
   "source": [
    "print(\"\\n 2016 Number of Canidates\", election_2016.Candidate.unique())\n",
    "print(\"\\n\")"
   ]
  },
  {
   "cell_type": "markdown",
   "metadata": {},
   "source": [
    "Now who won the popular vote?"
   ]
  },
  {
   "cell_type": "code",
   "execution_count": 194,
   "metadata": {},
   "outputs": [
    {
     "name": "stdout",
     "output_type": "stream",
     "text": [
      "Clinton Vote 59923033.0 Trump Vote 59692978.0\n"
     ]
    }
   ],
   "source": [
    "trump_vote = election_2016[election_2016.Candidate == \"Trump\"].VoteCount.sum()\n",
    "clinton_vote = election_2016[election_2016.Candidate == \"Clinton\"].VoteCount.sum()\n",
    "\n",
    "print(\"Clinton Vote\", clinton_vote, \"Trump Vote\", trump_vote)\n"
   ]
  },
  {
   "cell_type": "markdown",
   "metadata": {},
   "source": [
    "Ok, so Clinton won the election???\n",
    "\n",
    "Back to the data. The key thing to notice about the election data is that there is this thing called the `CountryFips` code. [This is a five digit number that uniquely identifies a county](https://en.wikipedia.org/wiki/FIPS_county_code). The first two numbers are the same for the state. The last three then pin down the county within the state. **Note** in the `head` above, you don't quite see this, since it is not showing the first zero. Example, the Alabama entries are all ``01***`` but it only shows ``1***``\n",
    "\n",
    "Now lets look at the Census data...."
   ]
  },
  {
   "cell_type": "code",
   "execution_count": 195,
   "metadata": {},
   "outputs": [
    {
     "data": {
      "text/plain": [
       "population    object\n",
       "income        object\n",
       "NAME          object\n",
       "county        object\n",
       "state         object\n",
       "dtype: object"
      ]
     },
     "execution_count": 195,
     "metadata": {},
     "output_type": "execute_result"
    }
   ],
   "source": [
    "code = (\"NAME\",\"B01001_001E\",\"B19013_001E\") # Same Codes:\n",
    "\n",
    "county_2015 = pd.DataFrame(c.acs5.get(code, \n",
    "                                         {'for': 'county:*'}, year=2015))\n",
    "                                         # Same deal, but we specify county then the wild card\n",
    "                                         # On the example page, there are ways do do this, only by state\n",
    "        \n",
    "county_2015 = county_2015.rename(columns = {\"B01001_001E\":\"population\", \"B19013_001E\":\"income\"})\n",
    "county_2015.head()\n",
    "county_2015.dtypes"
   ]
  },
  {
   "cell_type": "markdown",
   "metadata": {},
   "source": [
    "Note that this does not include the combined fips number, but the state and then the county. So we just need to append one to the other to create our own FIPS number. Notice that the county and the state are stored as strings. So the operation to append is simply just to add the strings (look at the head to note that this was NOT numerical addition). "
   ]
  },
  {
   "cell_type": "code",
   "execution_count": 196,
   "metadata": {},
   "outputs": [
    {
     "data": {
      "text/html": [
       "<div>\n",
       "<style scoped>\n",
       "    .dataframe tbody tr th:only-of-type {\n",
       "        vertical-align: middle;\n",
       "    }\n",
       "\n",
       "    .dataframe tbody tr th {\n",
       "        vertical-align: top;\n",
       "    }\n",
       "\n",
       "    .dataframe thead th {\n",
       "        text-align: right;\n",
       "    }\n",
       "</style>\n",
       "<table border=\"1\" class=\"dataframe\">\n",
       "  <thead>\n",
       "    <tr style=\"text-align: right;\">\n",
       "      <th></th>\n",
       "      <th>population</th>\n",
       "      <th>income</th>\n",
       "      <th>NAME</th>\n",
       "      <th>county</th>\n",
       "      <th>state</th>\n",
       "      <th>FIPS</th>\n",
       "    </tr>\n",
       "  </thead>\n",
       "  <tbody>\n",
       "    <tr>\n",
       "      <th>0</th>\n",
       "      <td>55221</td>\n",
       "      <td>51281</td>\n",
       "      <td>Autauga County, Alabama</td>\n",
       "      <td>001</td>\n",
       "      <td>01</td>\n",
       "      <td>01001</td>\n",
       "    </tr>\n",
       "    <tr>\n",
       "      <th>1</th>\n",
       "      <td>195121</td>\n",
       "      <td>50254</td>\n",
       "      <td>Baldwin County, Alabama</td>\n",
       "      <td>003</td>\n",
       "      <td>01</td>\n",
       "      <td>01003</td>\n",
       "    </tr>\n",
       "    <tr>\n",
       "      <th>2</th>\n",
       "      <td>26932</td>\n",
       "      <td>32964</td>\n",
       "      <td>Barbour County, Alabama</td>\n",
       "      <td>005</td>\n",
       "      <td>01</td>\n",
       "      <td>01005</td>\n",
       "    </tr>\n",
       "    <tr>\n",
       "      <th>3</th>\n",
       "      <td>22604</td>\n",
       "      <td>38678</td>\n",
       "      <td>Bibb County, Alabama</td>\n",
       "      <td>007</td>\n",
       "      <td>01</td>\n",
       "      <td>01007</td>\n",
       "    </tr>\n",
       "    <tr>\n",
       "      <th>4</th>\n",
       "      <td>57710</td>\n",
       "      <td>45813</td>\n",
       "      <td>Blount County, Alabama</td>\n",
       "      <td>009</td>\n",
       "      <td>01</td>\n",
       "      <td>01009</td>\n",
       "    </tr>\n",
       "  </tbody>\n",
       "</table>\n",
       "</div>"
      ],
      "text/plain": [
       "  population income                     NAME county state   FIPS\n",
       "0      55221  51281  Autauga County, Alabama    001    01  01001\n",
       "1     195121  50254  Baldwin County, Alabama    003    01  01003\n",
       "2      26932  32964  Barbour County, Alabama    005    01  01005\n",
       "3      22604  38678     Bibb County, Alabama    007    01  01007\n",
       "4      57710  45813   Blount County, Alabama    009    01  01009"
      ]
     },
     "execution_count": 196,
     "metadata": {},
     "output_type": "execute_result"
    }
   ],
   "source": [
    "county_2015[\"FIPS\"] = county_2015[\"state\"] + county_2015[\"county\"]\n",
    "\n",
    "county_2015.head()"
   ]
  },
  {
   "cell_type": "markdown",
   "metadata": {},
   "source": [
    "Lets merge them....but first, what kind of merge is this? One-to-one, many-to-one? What should you expect after the merge takes place?\n",
    "\n",
    "Below is our syntax. HEre is a slightly different modification or our earlier examples, here we specify the key on the left and the key on the right (which in this case have slighly different names)."
   ]
  },
  {
   "cell_type": "code",
   "execution_count": 197,
   "metadata": {},
   "outputs": [
    {
     "data": {
      "text/html": [
       "<div>\n",
       "<style scoped>\n",
       "    .dataframe tbody tr th:only-of-type {\n",
       "        vertical-align: middle;\n",
       "    }\n",
       "\n",
       "    .dataframe tbody tr th {\n",
       "        vertical-align: top;\n",
       "    }\n",
       "\n",
       "    .dataframe thead th {\n",
       "        text-align: right;\n",
       "    }\n",
       "</style>\n",
       "<table border=\"1\" class=\"dataframe\">\n",
       "  <thead>\n",
       "    <tr style=\"text-align: right;\">\n",
       "      <th></th>\n",
       "      <th>population</th>\n",
       "      <th>income</th>\n",
       "      <th>NAME</th>\n",
       "      <th>county</th>\n",
       "      <th>state</th>\n",
       "      <th>FIPS</th>\n",
       "      <th>StateCode</th>\n",
       "      <th>StateName</th>\n",
       "      <th>CountyFips</th>\n",
       "      <th>CountyName</th>\n",
       "      <th>CountyTotalVote</th>\n",
       "      <th>Party</th>\n",
       "      <th>Candidate</th>\n",
       "      <th>VoteCount</th>\n",
       "      <th>_merge</th>\n",
       "    </tr>\n",
       "  </thead>\n",
       "  <tbody>\n",
       "  </tbody>\n",
       "</table>\n",
       "</div>"
      ],
      "text/plain": [
       "Empty DataFrame\n",
       "Columns: [population, income, NAME, county, state, FIPS, StateCode, StateName, CountyFips, CountyName, CountyTotalVote, Party, Candidate, VoteCount, _merge]\n",
       "Index: []"
      ]
     },
     "execution_count": 197,
     "metadata": {},
     "output_type": "execute_result"
    }
   ],
   "source": [
    "cens_election = pd.merge(county_2015, election_2016, left_on = \"FIPS\", right_on = \"CountyFips\", indicator = True)\n",
    "cens_election.head(10)"
   ]
  },
  {
   "cell_type": "markdown",
   "metadata": {},
   "source": [
    "**WHY IS THIS NOT WORKING!!!**\n",
    "\n",
    "The datatypes are not the same. In the census data we need to convert the FIPS number to a numerical value"
   ]
  },
  {
   "cell_type": "code",
   "execution_count": 198,
   "metadata": {},
   "outputs": [],
   "source": [
    "county_2015[\"FIPS\"] = county_2015[\"FIPS\"].astype(float)"
   ]
  },
  {
   "cell_type": "code",
   "execution_count": 199,
   "metadata": {},
   "outputs": [
    {
     "data": {
      "text/html": [
       "<div>\n",
       "<style scoped>\n",
       "    .dataframe tbody tr th:only-of-type {\n",
       "        vertical-align: middle;\n",
       "    }\n",
       "\n",
       "    .dataframe tbody tr th {\n",
       "        vertical-align: top;\n",
       "    }\n",
       "\n",
       "    .dataframe thead th {\n",
       "        text-align: right;\n",
       "    }\n",
       "</style>\n",
       "<table border=\"1\" class=\"dataframe\">\n",
       "  <thead>\n",
       "    <tr style=\"text-align: right;\">\n",
       "      <th></th>\n",
       "      <th>population</th>\n",
       "      <th>income</th>\n",
       "      <th>NAME</th>\n",
       "      <th>county</th>\n",
       "      <th>state</th>\n",
       "      <th>FIPS</th>\n",
       "      <th>StateCode</th>\n",
       "      <th>StateName</th>\n",
       "      <th>CountyFips</th>\n",
       "      <th>CountyName</th>\n",
       "      <th>CountyTotalVote</th>\n",
       "      <th>Party</th>\n",
       "      <th>Candidate</th>\n",
       "      <th>VoteCount</th>\n",
       "      <th>_merge</th>\n",
       "    </tr>\n",
       "  </thead>\n",
       "  <tbody>\n",
       "    <tr>\n",
       "      <th>0</th>\n",
       "      <td>55221</td>\n",
       "      <td>51281</td>\n",
       "      <td>Autauga County, Alabama</td>\n",
       "      <td>001</td>\n",
       "      <td>01</td>\n",
       "      <td>1001</td>\n",
       "      <td>AL</td>\n",
       "      <td>alabama</td>\n",
       "      <td>1001</td>\n",
       "      <td>Autauga</td>\n",
       "      <td>24661</td>\n",
       "      <td>GOP</td>\n",
       "      <td>Trump</td>\n",
       "      <td>18110.0</td>\n",
       "      <td>both</td>\n",
       "    </tr>\n",
       "    <tr>\n",
       "      <th>1</th>\n",
       "      <td>55221</td>\n",
       "      <td>51281</td>\n",
       "      <td>Autauga County, Alabama</td>\n",
       "      <td>001</td>\n",
       "      <td>01</td>\n",
       "      <td>1001</td>\n",
       "      <td>AL</td>\n",
       "      <td>alabama</td>\n",
       "      <td>1001</td>\n",
       "      <td>Autauga</td>\n",
       "      <td>24661</td>\n",
       "      <td>DEM</td>\n",
       "      <td>Clinton</td>\n",
       "      <td>5908.0</td>\n",
       "      <td>both</td>\n",
       "    </tr>\n",
       "    <tr>\n",
       "      <th>2</th>\n",
       "      <td>55221</td>\n",
       "      <td>51281</td>\n",
       "      <td>Autauga County, Alabama</td>\n",
       "      <td>001</td>\n",
       "      <td>01</td>\n",
       "      <td>1001</td>\n",
       "      <td>AL</td>\n",
       "      <td>alabama</td>\n",
       "      <td>1001</td>\n",
       "      <td>Autauga</td>\n",
       "      <td>24661</td>\n",
       "      <td>GRN</td>\n",
       "      <td>Stein</td>\n",
       "      <td>105.0</td>\n",
       "      <td>both</td>\n",
       "    </tr>\n",
       "    <tr>\n",
       "      <th>3</th>\n",
       "      <td>55221</td>\n",
       "      <td>51281</td>\n",
       "      <td>Autauga County, Alabama</td>\n",
       "      <td>001</td>\n",
       "      <td>01</td>\n",
       "      <td>1001</td>\n",
       "      <td>AL</td>\n",
       "      <td>alabama</td>\n",
       "      <td>1001</td>\n",
       "      <td>Autauga</td>\n",
       "      <td>24661</td>\n",
       "      <td>LIB</td>\n",
       "      <td>Johnson</td>\n",
       "      <td>538.0</td>\n",
       "      <td>both</td>\n",
       "    </tr>\n",
       "    <tr>\n",
       "      <th>4</th>\n",
       "      <td>55221</td>\n",
       "      <td>51281</td>\n",
       "      <td>Autauga County, Alabama</td>\n",
       "      <td>001</td>\n",
       "      <td>01</td>\n",
       "      <td>1001</td>\n",
       "      <td>AL</td>\n",
       "      <td>alabama</td>\n",
       "      <td>1001</td>\n",
       "      <td>Autauga</td>\n",
       "      <td>24661</td>\n",
       "      <td>CST</td>\n",
       "      <td>Castle</td>\n",
       "      <td>NaN</td>\n",
       "      <td>both</td>\n",
       "    </tr>\n",
       "    <tr>\n",
       "      <th>5</th>\n",
       "      <td>195121</td>\n",
       "      <td>50254</td>\n",
       "      <td>Baldwin County, Alabama</td>\n",
       "      <td>003</td>\n",
       "      <td>01</td>\n",
       "      <td>1003</td>\n",
       "      <td>AL</td>\n",
       "      <td>alabama</td>\n",
       "      <td>1003</td>\n",
       "      <td>Baldwin</td>\n",
       "      <td>94090</td>\n",
       "      <td>GOP</td>\n",
       "      <td>Trump</td>\n",
       "      <td>72780.0</td>\n",
       "      <td>both</td>\n",
       "    </tr>\n",
       "    <tr>\n",
       "      <th>6</th>\n",
       "      <td>195121</td>\n",
       "      <td>50254</td>\n",
       "      <td>Baldwin County, Alabama</td>\n",
       "      <td>003</td>\n",
       "      <td>01</td>\n",
       "      <td>1003</td>\n",
       "      <td>AL</td>\n",
       "      <td>alabama</td>\n",
       "      <td>1003</td>\n",
       "      <td>Baldwin</td>\n",
       "      <td>94090</td>\n",
       "      <td>DEM</td>\n",
       "      <td>Clinton</td>\n",
       "      <td>18409.0</td>\n",
       "      <td>both</td>\n",
       "    </tr>\n",
       "    <tr>\n",
       "      <th>7</th>\n",
       "      <td>195121</td>\n",
       "      <td>50254</td>\n",
       "      <td>Baldwin County, Alabama</td>\n",
       "      <td>003</td>\n",
       "      <td>01</td>\n",
       "      <td>1003</td>\n",
       "      <td>AL</td>\n",
       "      <td>alabama</td>\n",
       "      <td>1003</td>\n",
       "      <td>Baldwin</td>\n",
       "      <td>94090</td>\n",
       "      <td>GRN</td>\n",
       "      <td>Stein</td>\n",
       "      <td>453.0</td>\n",
       "      <td>both</td>\n",
       "    </tr>\n",
       "    <tr>\n",
       "      <th>8</th>\n",
       "      <td>195121</td>\n",
       "      <td>50254</td>\n",
       "      <td>Baldwin County, Alabama</td>\n",
       "      <td>003</td>\n",
       "      <td>01</td>\n",
       "      <td>1003</td>\n",
       "      <td>AL</td>\n",
       "      <td>alabama</td>\n",
       "      <td>1003</td>\n",
       "      <td>Baldwin</td>\n",
       "      <td>94090</td>\n",
       "      <td>LIB</td>\n",
       "      <td>Johnson</td>\n",
       "      <td>2448.0</td>\n",
       "      <td>both</td>\n",
       "    </tr>\n",
       "    <tr>\n",
       "      <th>9</th>\n",
       "      <td>195121</td>\n",
       "      <td>50254</td>\n",
       "      <td>Baldwin County, Alabama</td>\n",
       "      <td>003</td>\n",
       "      <td>01</td>\n",
       "      <td>1003</td>\n",
       "      <td>AL</td>\n",
       "      <td>alabama</td>\n",
       "      <td>1003</td>\n",
       "      <td>Baldwin</td>\n",
       "      <td>94090</td>\n",
       "      <td>CST</td>\n",
       "      <td>Castle</td>\n",
       "      <td>NaN</td>\n",
       "      <td>both</td>\n",
       "    </tr>\n",
       "  </tbody>\n",
       "</table>\n",
       "</div>"
      ],
      "text/plain": [
       "  population income                     NAME county state  FIPS StateCode  \\\n",
       "0      55221  51281  Autauga County, Alabama    001    01  1001        AL   \n",
       "1      55221  51281  Autauga County, Alabama    001    01  1001        AL   \n",
       "2      55221  51281  Autauga County, Alabama    001    01  1001        AL   \n",
       "3      55221  51281  Autauga County, Alabama    001    01  1001        AL   \n",
       "4      55221  51281  Autauga County, Alabama    001    01  1001        AL   \n",
       "5     195121  50254  Baldwin County, Alabama    003    01  1003        AL   \n",
       "6     195121  50254  Baldwin County, Alabama    003    01  1003        AL   \n",
       "7     195121  50254  Baldwin County, Alabama    003    01  1003        AL   \n",
       "8     195121  50254  Baldwin County, Alabama    003    01  1003        AL   \n",
       "9     195121  50254  Baldwin County, Alabama    003    01  1003        AL   \n",
       "\n",
       "  StateName  CountyFips CountyName  CountyTotalVote Party Candidate  \\\n",
       "0   alabama        1001    Autauga            24661   GOP     Trump   \n",
       "1   alabama        1001    Autauga            24661   DEM   Clinton   \n",
       "2   alabama        1001    Autauga            24661   GRN     Stein   \n",
       "3   alabama        1001    Autauga            24661   LIB   Johnson   \n",
       "4   alabama        1001    Autauga            24661   CST    Castle   \n",
       "5   alabama        1003    Baldwin            94090   GOP     Trump   \n",
       "6   alabama        1003    Baldwin            94090   DEM   Clinton   \n",
       "7   alabama        1003    Baldwin            94090   GRN     Stein   \n",
       "8   alabama        1003    Baldwin            94090   LIB   Johnson   \n",
       "9   alabama        1003    Baldwin            94090   CST    Castle   \n",
       "\n",
       "   VoteCount _merge  \n",
       "0    18110.0   both  \n",
       "1     5908.0   both  \n",
       "2      105.0   both  \n",
       "3      538.0   both  \n",
       "4        NaN   both  \n",
       "5    72780.0   both  \n",
       "6    18409.0   both  \n",
       "7      453.0   both  \n",
       "8     2448.0   both  \n",
       "9        NaN   both  "
      ]
     },
     "execution_count": 199,
     "metadata": {},
     "output_type": "execute_result"
    }
   ],
   "source": [
    "cens_election = pd.merge(county_2015, election_2016, how='inner',\n",
    "                         left_on = \"FIPS\", right_on = \"CountyFips\", indicator = True)\n",
    "\n",
    "# Note by taking the inner, there will be some stuff that is going to be droped. \n",
    "# There are no election results for parts of Alaska...\n",
    "\n",
    "cens_election.head(10)\n",
    "\n",
    "#how='outer', cens_election.shape"
   ]
  },
  {
   "cell_type": "code",
   "execution_count": 200,
   "metadata": {},
   "outputs": [
    {
     "data": {
      "text/plain": [
       "population           object\n",
       "income               object\n",
       "NAME                 object\n",
       "county               object\n",
       "state                object\n",
       "FIPS                 object\n",
       "StateCode            object\n",
       "StateName            object\n",
       "CountyFips            int64\n",
       "CountyName           object\n",
       "CountyTotalVote       int64\n",
       "Party                object\n",
       "Candidate            object\n",
       "VoteCount           float64\n",
       "_merge             category\n",
       "dtype: object"
      ]
     },
     "execution_count": 200,
     "metadata": {},
     "output_type": "execute_result"
    }
   ],
   "source": [
    "# Then lets look at the stuff that was thrown out?\n",
    "\n",
    "#cens_election[cens_election[\"_merge\"]!= \"both\"].head()\n",
    "cens_election.dtypes\n",
    "\n",
    "cens_election[\"VoteShare\"] = cens_election.VoteCount / cens_election.CountyTotalVote"
   ]
  },
  {
   "cell_type": "markdown",
   "metadata": {},
   "source": [
    "### Some Simple Analysis\n",
    "\n",
    "Here lets explore the role of income and of urban/rural divide. And we will use a `pivot` table to illustrate this (which is another group by approach). So this is what I want...I want a table that shows by income quintile, a urbanization measure and then the share that voted for trump. This may not be clear, a priori its not, but lets go for it...\n"
   ]
  },
  {
   "cell_type": "code",
   "execution_count": 235,
   "metadata": {},
   "outputs": [
    {
     "data": {
      "text/html": [
       "<div>\n",
       "<style scoped>\n",
       "    .dataframe tbody tr th:only-of-type {\n",
       "        vertical-align: middle;\n",
       "    }\n",
       "\n",
       "    .dataframe tbody tr th {\n",
       "        vertical-align: top;\n",
       "    }\n",
       "\n",
       "    .dataframe thead th {\n",
       "        text-align: right;\n",
       "    }\n",
       "</style>\n",
       "<table border=\"1\" class=\"dataframe\">\n",
       "  <thead>\n",
       "    <tr style=\"text-align: right;\">\n",
       "      <th></th>\n",
       "      <th>population</th>\n",
       "      <th>income</th>\n",
       "      <th>NAME</th>\n",
       "      <th>county</th>\n",
       "      <th>state</th>\n",
       "      <th>FIPS</th>\n",
       "      <th>StateCode</th>\n",
       "      <th>StateName</th>\n",
       "      <th>CountyFips</th>\n",
       "      <th>CountyName</th>\n",
       "      <th>CountyTotalVote</th>\n",
       "      <th>Party</th>\n",
       "      <th>Candidate</th>\n",
       "      <th>VoteCount</th>\n",
       "      <th>_merge</th>\n",
       "      <th>VoteShare</th>\n",
       "    </tr>\n",
       "  </thead>\n",
       "  <tbody>\n",
       "    <tr>\n",
       "      <th>0</th>\n",
       "      <td>55221.0</td>\n",
       "      <td>51281.0</td>\n",
       "      <td>Autauga County, Alabama</td>\n",
       "      <td>001</td>\n",
       "      <td>01</td>\n",
       "      <td>1001</td>\n",
       "      <td>AL</td>\n",
       "      <td>alabama</td>\n",
       "      <td>1001</td>\n",
       "      <td>Autauga</td>\n",
       "      <td>24661</td>\n",
       "      <td>GOP</td>\n",
       "      <td>Trump</td>\n",
       "      <td>18110.0</td>\n",
       "      <td>both</td>\n",
       "      <td>0.734358</td>\n",
       "    </tr>\n",
       "    <tr>\n",
       "      <th>5</th>\n",
       "      <td>195121.0</td>\n",
       "      <td>50254.0</td>\n",
       "      <td>Baldwin County, Alabama</td>\n",
       "      <td>003</td>\n",
       "      <td>01</td>\n",
       "      <td>1003</td>\n",
       "      <td>AL</td>\n",
       "      <td>alabama</td>\n",
       "      <td>1003</td>\n",
       "      <td>Baldwin</td>\n",
       "      <td>94090</td>\n",
       "      <td>GOP</td>\n",
       "      <td>Trump</td>\n",
       "      <td>72780.0</td>\n",
       "      <td>both</td>\n",
       "      <td>0.773515</td>\n",
       "    </tr>\n",
       "    <tr>\n",
       "      <th>10</th>\n",
       "      <td>26932.0</td>\n",
       "      <td>32964.0</td>\n",
       "      <td>Barbour County, Alabama</td>\n",
       "      <td>005</td>\n",
       "      <td>01</td>\n",
       "      <td>1005</td>\n",
       "      <td>AL</td>\n",
       "      <td>alabama</td>\n",
       "      <td>1005</td>\n",
       "      <td>Barbour</td>\n",
       "      <td>10390</td>\n",
       "      <td>GOP</td>\n",
       "      <td>Trump</td>\n",
       "      <td>5431.0</td>\n",
       "      <td>both</td>\n",
       "      <td>0.522714</td>\n",
       "    </tr>\n",
       "    <tr>\n",
       "      <th>15</th>\n",
       "      <td>22604.0</td>\n",
       "      <td>38678.0</td>\n",
       "      <td>Bibb County, Alabama</td>\n",
       "      <td>007</td>\n",
       "      <td>01</td>\n",
       "      <td>1007</td>\n",
       "      <td>AL</td>\n",
       "      <td>alabama</td>\n",
       "      <td>1007</td>\n",
       "      <td>Bibb</td>\n",
       "      <td>8748</td>\n",
       "      <td>GOP</td>\n",
       "      <td>Trump</td>\n",
       "      <td>6733.0</td>\n",
       "      <td>both</td>\n",
       "      <td>0.769662</td>\n",
       "    </tr>\n",
       "    <tr>\n",
       "      <th>20</th>\n",
       "      <td>57710.0</td>\n",
       "      <td>45813.0</td>\n",
       "      <td>Blount County, Alabama</td>\n",
       "      <td>009</td>\n",
       "      <td>01</td>\n",
       "      <td>1009</td>\n",
       "      <td>AL</td>\n",
       "      <td>alabama</td>\n",
       "      <td>1009</td>\n",
       "      <td>Blount</td>\n",
       "      <td>25384</td>\n",
       "      <td>GOP</td>\n",
       "      <td>Trump</td>\n",
       "      <td>22808.0</td>\n",
       "      <td>both</td>\n",
       "      <td>0.898519</td>\n",
       "    </tr>\n",
       "  </tbody>\n",
       "</table>\n",
       "</div>"
      ],
      "text/plain": [
       "    population   income                     NAME county state  FIPS StateCode  \\\n",
       "0      55221.0  51281.0  Autauga County, Alabama    001    01  1001        AL   \n",
       "5     195121.0  50254.0  Baldwin County, Alabama    003    01  1003        AL   \n",
       "10     26932.0  32964.0  Barbour County, Alabama    005    01  1005        AL   \n",
       "15     22604.0  38678.0     Bibb County, Alabama    007    01  1007        AL   \n",
       "20     57710.0  45813.0   Blount County, Alabama    009    01  1009        AL   \n",
       "\n",
       "   StateName  CountyFips CountyName  CountyTotalVote Party Candidate  \\\n",
       "0    alabama        1001    Autauga            24661   GOP     Trump   \n",
       "5    alabama        1003    Baldwin            94090   GOP     Trump   \n",
       "10   alabama        1005    Barbour            10390   GOP     Trump   \n",
       "15   alabama        1007       Bibb             8748   GOP     Trump   \n",
       "20   alabama        1009     Blount            25384   GOP     Trump   \n",
       "\n",
       "    VoteCount _merge  VoteShare  \n",
       "0     18110.0   both   0.734358  \n",
       "5     72780.0   both   0.773515  \n",
       "10     5431.0   both   0.522714  \n",
       "15     6733.0   both   0.769662  \n",
       "20    22808.0   both   0.898519  "
      ]
     },
     "execution_count": 235,
     "metadata": {},
     "output_type": "execute_result"
    }
   ],
   "source": [
    "cens_election[\"population\"] = cens_election[\"population\"].astype(float)\n",
    "\n",
    "cens_election[\"income\"] = cens_election[\"income\"].astype(float)\n",
    "\n",
    "only_trump = cens_election[cens_election.Candidate == \"Trump\"]\n",
    "\n",
    "only_trump.head()\n"
   ]
  },
  {
   "cell_type": "code",
   "execution_count": 236,
   "metadata": {},
   "outputs": [
    {
     "data": {
      "text/plain": [
       "income\n",
       "(19327.999, 37141.0]    0.550552\n",
       "(37141.0, 42417.0]      0.550497\n",
       "(42417.0, 47808.0]      0.534656\n",
       "(47808.0, 54092.0]      0.487345\n",
       "(54092.0, 123453.0]     0.426949\n",
       "dtype: float64"
      ]
     },
     "execution_count": 236,
     "metadata": {},
     "output_type": "execute_result"
    }
   ],
   "source": [
    "inc_q = pd.qcut(only_trump[\"income\"], 5)\n",
    "\n",
    "grouped = only_trump.groupby(inc_q)\n",
    "\n",
    "grouped.VoteCount.sum() / grouped.CountyTotalVote.sum() "
   ]
  },
  {
   "cell_type": "code",
   "execution_count": 237,
   "metadata": {},
   "outputs": [
    {
     "data": {
      "text/plain": [
       "population\n",
       "(116.999, 9199.2]        0.702752\n",
       "(9199.2, 19026.6]        0.662926\n",
       "(19026.6, 36977.8]       0.653604\n",
       "(36977.8, 93071.4]       0.628651\n",
       "(93071.4, 10038388.0]    0.428111\n",
       "dtype: float64"
      ]
     },
     "execution_count": 237,
     "metadata": {},
     "output_type": "execute_result"
    }
   ],
   "source": [
    "inc_q = pd.qcut(only_trump[\"population\"], 5)\n",
    "\n",
    "grouped = only_trump.groupby(inc_q)\n",
    "\n",
    "grouped.VoteCount.sum() / grouped.CountyTotalVote.sum() "
   ]
  },
  {
   "cell_type": "code",
   "execution_count": null,
   "metadata": {
    "collapsed": true
   },
   "outputs": [],
   "source": []
  }
 ],
 "metadata": {
  "anaconda-cloud": {},
  "kernelspec": {
   "display_name": "Python [default]",
   "language": "python",
   "name": "python3"
  },
  "language_info": {
   "codemirror_mode": {
    "name": "ipython",
    "version": 3
   },
   "file_extension": ".py",
   "mimetype": "text/x-python",
   "name": "python",
   "nbconvert_exporter": "python",
   "pygments_lexer": "ipython3",
   "version": "3.5.2"
  },
  "nbpresent": {
   "slides": {
    "294d7f5b-f290-4fe8-85b7-4fdc1c1e60d5": {
     "id": "294d7f5b-f290-4fe8-85b7-4fdc1c1e60d5",
     "prev": null,
     "regions": {
      "8ceed0e0-c671-4a2c-80dc-4d3bdfbbf92f": {
       "attrs": {
        "height": 0.8,
        "width": 0.8,
        "x": 0.1,
        "y": 0.1
       },
       "content": {
        "cell": "a53136ea-a4a8-411e-9121-ffd6cf17f713",
        "part": "whole"
       },
       "id": "8ceed0e0-c671-4a2c-80dc-4d3bdfbbf92f"
      }
     }
    },
    "5c0dd032-519f-4f70-aa0d-ad59173e0137": {
     "id": "5c0dd032-519f-4f70-aa0d-ad59173e0137",
     "prev": "a88227f0-4753-48e1-aa8e-010e968d375c",
     "regions": {
      "20ca40be-aa22-4c9b-8f30-cb224618c434": {
       "attrs": {
        "height": 0.8,
        "width": 0.8,
        "x": 0.1,
        "y": 0.1
       },
       "content": {
        "cell": "1f205ed8-248b-4fd0-81e7-d58cc8bde5ae",
        "part": "whole"
       },
       "id": "20ca40be-aa22-4c9b-8f30-cb224618c434"
      }
     }
    },
    "94513f4e-192d-4caa-8651-23f5fb88ec14": {
     "id": "94513f4e-192d-4caa-8651-23f5fb88ec14",
     "prev": "b8e4c02a-0dbd-43ae-bb3e-5d9f0aba63ad",
     "regions": {
      "e2aefead-ca87-4d92-8171-e740c652e6a5": {
       "attrs": {
        "height": 0.8,
        "width": 0.8,
        "x": 0.1,
        "y": 0.1
       },
       "content": {
        "cell": "cec40cc2-3548-40d7-9789-59ff49e65114",
        "part": "whole"
       },
       "id": "e2aefead-ca87-4d92-8171-e740c652e6a5"
      }
     }
    },
    "a88227f0-4753-48e1-aa8e-010e968d375c": {
     "id": "a88227f0-4753-48e1-aa8e-010e968d375c",
     "prev": "94513f4e-192d-4caa-8651-23f5fb88ec14",
     "regions": {
      "ccadab53-2f16-46d2-a1f1-52f18c7bad9a": {
       "attrs": {
        "height": 0.8,
        "width": 0.8,
        "x": 0.1,
        "y": 0.1
       },
       "content": {
        "cell": "e5f8b1e5-1521-4a60-bb51-5bc5bea63d41",
        "part": "whole"
       },
       "id": "ccadab53-2f16-46d2-a1f1-52f18c7bad9a"
      }
     }
    },
    "b8e4c02a-0dbd-43ae-bb3e-5d9f0aba63ad": {
     "id": "b8e4c02a-0dbd-43ae-bb3e-5d9f0aba63ad",
     "prev": "294d7f5b-f290-4fe8-85b7-4fdc1c1e60d5",
     "regions": {
      "1433866e-b10a-452b-8aff-26e9cfde1182": {
       "attrs": {
        "height": 0.8,
        "width": 0.8,
        "x": 0.1,
        "y": 0.1
       },
       "content": {
        "cell": "63aa45da-9a1f-405f-bc8a-18c1e68c2795",
        "part": "whole"
       },
       "id": "1433866e-b10a-452b-8aff-26e9cfde1182"
      }
     }
    }
   },
   "themes": {}
  }
 },
 "nbformat": 4,
 "nbformat_minor": 2
}
