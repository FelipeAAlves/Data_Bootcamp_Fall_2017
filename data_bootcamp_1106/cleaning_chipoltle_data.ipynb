{
 "cells": [
  {
   "cell_type": "markdown",
   "metadata": {},
   "source": [
    "### Preface \n",
    "\n",
    "In class I talked a bit about  mapping out steps to executing projects. This would look like this: identify question and dataset(s) that may answer the question; import data; manipulate data; and then try and answer the question. The question part is hard, but this is more conceptual, not coding. The manipulation part is where coding skills are helpful. Specifically, cleaning, merging, shaping the data to that the data set is usable to answer the question at hand. \n",
    "\n",
    "### Cleaning and String Methods on Dataframes\n",
    "\n",
    "This notebook works through some cleaning examples that will probably help you in your project. Here we describe features of Pandas that allow us to clean data that, for reasons beyond our control, comes in a form that's not immediately amendable to analysis. This is the first of several such notebooks.\n",
    "\n",
    "#### The Question (or want)...\n",
    "\n",
    "We need to know what we're trying to do---what we want the data to look like. To borrow a phrase from our friend Tom Sargent, we say that we apply the want operator. Some problems we've run across that ask to be solved:\n",
    "\n",
    "- We have too much data, would prefer to choose a subset.\n",
    "- Row and column labels are contaminated.\n",
    "- Numerical data is contaminated by commas (marking thousands); dollar signs; other non-numerical values, etc.\n",
    "- Missing values are marked erratically.\n",
    "\n",
    "What we want in each case is the opposite of what we have: we want nicely formatted numbers, clean row and column labels, and so on. We'll solve the first four problems here, the last one in the next notebook."
   ]
  },
  {
   "cell_type": "code",
   "execution_count": 1,
   "metadata": {
    "collapsed": true
   },
   "outputs": [],
   "source": [
    "import pandas as pd                    # data package\n",
    "import matplotlib.pyplot as plt        # graphics module  \n",
    "import datetime as dt                  # date and time module\n",
    "import numpy as np                     # foundation for pandas "
   ]
  },
  {
   "cell_type": "markdown",
   "metadata": {},
   "source": [
    "### Example: Chipotle data\n",
    "\n",
    "This data comes from a New York Times story about the number of calories in a typical order at Chipotle. The topic doesn't particularly excite us, but the data raises a number of issues that come up repeatedly. We adapt some code written by Daniel Forsyth."
   ]
  },
  {
   "cell_type": "code",
   "execution_count": 2,
   "metadata": {},
   "outputs": [
    {
     "name": "stdout",
     "output_type": "stream",
     "text": [
      "Variable dtypes:\n",
      "order store id 1        object\n",
      "quantity 2               int64\n",
      "item name 3             object\n",
      "choice description 4    object\n",
      "item price 5            object\n",
      "dtype: object\n"
     ]
    },
    {
     "data": {
      "text/html": [
       "<div>\n",
       "<style scoped>\n",
       "    .dataframe tbody tr th:only-of-type {\n",
       "        vertical-align: middle;\n",
       "    }\n",
       "\n",
       "    .dataframe tbody tr th {\n",
       "        vertical-align: top;\n",
       "    }\n",
       "\n",
       "    .dataframe thead th {\n",
       "        text-align: right;\n",
       "    }\n",
       "</style>\n",
       "<table border=\"1\" class=\"dataframe\">\n",
       "  <thead>\n",
       "    <tr style=\"text-align: right;\">\n",
       "      <th></th>\n",
       "      <th>order store id 1</th>\n",
       "      <th>quantity 2</th>\n",
       "      <th>item name 3</th>\n",
       "      <th>choice description 4</th>\n",
       "      <th>item price 5</th>\n",
       "    </tr>\n",
       "  </thead>\n",
       "  <tbody>\n",
       "    <tr>\n",
       "      <th>0</th>\n",
       "      <td>1 Bucks County</td>\n",
       "      <td>1</td>\n",
       "      <td>Chips and Fresh Tomato Salsa</td>\n",
       "      <td>NaN</td>\n",
       "      <td>$2.39</td>\n",
       "    </tr>\n",
       "    <tr>\n",
       "      <th>1</th>\n",
       "      <td>1 Bucks County</td>\n",
       "      <td>1</td>\n",
       "      <td>Izze</td>\n",
       "      <td>[Clementine]</td>\n",
       "      <td>$3.39</td>\n",
       "    </tr>\n",
       "    <tr>\n",
       "      <th>2</th>\n",
       "      <td>1 Bucks County</td>\n",
       "      <td>1</td>\n",
       "      <td>Nantucket Nectar</td>\n",
       "      <td>[Apple]</td>\n",
       "      <td>$3.39</td>\n",
       "    </tr>\n",
       "    <tr>\n",
       "      <th>3</th>\n",
       "      <td>1 Bucks County</td>\n",
       "      <td>1</td>\n",
       "      <td>Chips and Tomatillo-Green Chili Salsa</td>\n",
       "      <td>NaN</td>\n",
       "      <td>$2.39</td>\n",
       "    </tr>\n",
       "    <tr>\n",
       "      <th>4</th>\n",
       "      <td>2 Bucks County</td>\n",
       "      <td>2</td>\n",
       "      <td>Chicken Bowl</td>\n",
       "      <td>[Tomatillo-Red Chili Salsa (Hot), [Black Beans...</td>\n",
       "      <td>$16.98</td>\n",
       "    </tr>\n",
       "  </tbody>\n",
       "</table>\n",
       "</div>"
      ],
      "text/plain": [
       "  order store id 1  quantity 2                            item name 3  \\\n",
       "0   1 Bucks County           1          Chips and Fresh Tomato Salsa    \n",
       "1   1 Bucks County           1                                   Izze   \n",
       "2   1 Bucks County           1                       Nantucket Nectar   \n",
       "3   1 Bucks County           1  Chips and Tomatillo-Green Chili Salsa   \n",
       "4   2 Bucks County           2                           Chicken Bowl   \n",
       "\n",
       "                                choice description 4 item price 5  \n",
       "0                                                NaN       $2.39   \n",
       "1                                       [Clementine]       $3.39   \n",
       "2                                            [Apple]       $3.39   \n",
       "3                                                NaN       $2.39   \n",
       "4  [Tomatillo-Red Chili Salsa (Hot), [Black Beans...      $16.98   "
      ]
     },
     "execution_count": 2,
     "metadata": {},
     "output_type": "execute_result"
    }
   ],
   "source": [
    "url = \"https://raw.githubusercontent.com/mwaugh0328/Data_Bootcamp_Fall_2017/master/data_bootcamp_1106/orders_dirty.csv\"\n",
    "#path = \"C://data_bootcamp//Data_Bootcamp_Fall_2017//data_bootcamp_1106//orders_dirty.csv\"\n",
    "# Double forward slashes for windows machines.\n",
    "\n",
    "chp = pd.read_csv(url)  \n",
    "\n",
    "print(\"Variable dtypes:\\n\", chp.dtypes, sep='')\n",
    "# Lets checkout the datatypes that we have... are they what you expect?\n",
    "\n",
    "chp.head()\n",
    "#chp.tail()\n",
    "#chp.shape"
   ]
  },
  {
   "cell_type": "markdown",
   "metadata": {},
   "source": [
    "#### Issue #1: We have too much data, want to work with a subset.\n",
    "\n",
    "Ok, so this is not really an issue here. This is about 5000 rows, width is small too. Not huge. But lets imagine that it was huge and we don't want deal with continually manipulating a big data set. We already know how to do this...we just use the `nrows` command when we read in the dataset."
   ]
  },
  {
   "cell_type": "code",
   "execution_count": 3,
   "metadata": {},
   "outputs": [
    {
     "name": "stdout",
     "output_type": "stream",
     "text": [
      "Variable dtypes:\n",
      "order store id 1        object\n",
      "quantity 2               int64\n",
      "item name 3             object\n",
      "choice description 4    object\n",
      "item price 5            object\n",
      "dtype: object\n"
     ]
    },
    {
     "data": {
      "text/plain": [
       "(500, 5)"
      ]
     },
     "execution_count": 3,
     "metadata": {},
     "output_type": "execute_result"
    }
   ],
   "source": [
    "chp = pd.read_csv(url, nrows = 500)   \n",
    "\n",
    "print(\"Variable dtypes:\\n\", chp.dtypes, sep='')\n",
    "# Lets checkout the datatypes that we have... are they what you expect?\n",
    "\n",
    "chp.head()\n",
    "\n",
    "chp.tail()\n",
    "\n",
    "chp.shape"
   ]
  },
  {
   "cell_type": "markdown",
   "metadata": {},
   "source": [
    "Now the shape indicates that we only have 500 rows. Just as we specified. This was easy. \n",
    "\n",
    "One strategy is to write and test your code on only a subset of the data. Again the upside is that the code may run faster, its easier too look at and analyze. Then once you have everything sorted out, you simply change the code above and scale it up.\n",
    "\n",
    "**Here is the issue to be mindful of: the subset may not be \"representative\" of the entire data set.** For example, there may be issues in say row 1458 (e.g. missing values, different data types), that will only arise when the full data set is imported. This is just something to be mindful of when pursuing this approach."
   ]
  },
  {
   "cell_type": "markdown",
   "metadata": {},
   "source": [
    "#### Issue #2: Row and column labels are contaminated.\n",
    "\n",
    "Return to the head and the `dyypes` and look at the variable names..."
   ]
  },
  {
   "cell_type": "code",
   "execution_count": 4,
   "metadata": {},
   "outputs": [
    {
     "name": "stdout",
     "output_type": "stream",
     "text": [
      "Variable dtypes:\n",
      "order store id 1        object\n",
      "quantity 2               int64\n",
      "item name 3             object\n",
      "choice description 4    object\n",
      "item price 5            object\n",
      "dtype: object\n"
     ]
    },
    {
     "data": {
      "text/html": [
       "<div>\n",
       "<style scoped>\n",
       "    .dataframe tbody tr th:only-of-type {\n",
       "        vertical-align: middle;\n",
       "    }\n",
       "\n",
       "    .dataframe tbody tr th {\n",
       "        vertical-align: top;\n",
       "    }\n",
       "\n",
       "    .dataframe thead th {\n",
       "        text-align: right;\n",
       "    }\n",
       "</style>\n",
       "<table border=\"1\" class=\"dataframe\">\n",
       "  <thead>\n",
       "    <tr style=\"text-align: right;\">\n",
       "      <th></th>\n",
       "      <th>order store id 1</th>\n",
       "      <th>quantity 2</th>\n",
       "      <th>item name 3</th>\n",
       "      <th>choice description 4</th>\n",
       "      <th>item price 5</th>\n",
       "    </tr>\n",
       "  </thead>\n",
       "  <tbody>\n",
       "    <tr>\n",
       "      <th>0</th>\n",
       "      <td>1 Bucks County</td>\n",
       "      <td>1</td>\n",
       "      <td>Chips and Fresh Tomato Salsa</td>\n",
       "      <td>NaN</td>\n",
       "      <td>$2.39</td>\n",
       "    </tr>\n",
       "    <tr>\n",
       "      <th>1</th>\n",
       "      <td>1 Bucks County</td>\n",
       "      <td>1</td>\n",
       "      <td>Izze</td>\n",
       "      <td>[Clementine]</td>\n",
       "      <td>$3.39</td>\n",
       "    </tr>\n",
       "    <tr>\n",
       "      <th>2</th>\n",
       "      <td>1 Bucks County</td>\n",
       "      <td>1</td>\n",
       "      <td>Nantucket Nectar</td>\n",
       "      <td>[Apple]</td>\n",
       "      <td>$3.39</td>\n",
       "    </tr>\n",
       "    <tr>\n",
       "      <th>3</th>\n",
       "      <td>1 Bucks County</td>\n",
       "      <td>1</td>\n",
       "      <td>Chips and Tomatillo-Green Chili Salsa</td>\n",
       "      <td>NaN</td>\n",
       "      <td>$2.39</td>\n",
       "    </tr>\n",
       "    <tr>\n",
       "      <th>4</th>\n",
       "      <td>2 Bucks County</td>\n",
       "      <td>2</td>\n",
       "      <td>Chicken Bowl</td>\n",
       "      <td>[Tomatillo-Red Chili Salsa (Hot), [Black Beans...</td>\n",
       "      <td>$16.98</td>\n",
       "    </tr>\n",
       "  </tbody>\n",
       "</table>\n",
       "</div>"
      ],
      "text/plain": [
       "  order store id 1  quantity 2                            item name 3  \\\n",
       "0   1 Bucks County           1          Chips and Fresh Tomato Salsa    \n",
       "1   1 Bucks County           1                                   Izze   \n",
       "2   1 Bucks County           1                       Nantucket Nectar   \n",
       "3   1 Bucks County           1  Chips and Tomatillo-Green Chili Salsa   \n",
       "4   2 Bucks County           2                           Chicken Bowl   \n",
       "\n",
       "                                choice description 4 item price 5  \n",
       "0                                                NaN       $2.39   \n",
       "1                                       [Clementine]       $3.39   \n",
       "2                                            [Apple]       $3.39   \n",
       "3                                                NaN       $2.39   \n",
       "4  [Tomatillo-Red Chili Salsa (Hot), [Black Beans...      $16.98   "
      ]
     },
     "execution_count": 4,
     "metadata": {},
     "output_type": "execute_result"
    }
   ],
   "source": [
    "chp = pd.read_csv(url, nrows = 500)  \n",
    "\n",
    "print(\"Variable dtypes:\\n\", chp.dtypes, sep='')\n",
    "# Lets checkout the datatypes that we have... are they what you expect?\n",
    "\n",
    "chp.head()"
   ]
  },
  {
   "cell_type": "markdown",
   "metadata": {},
   "source": [
    "Here we see several issues that may slow us down, if fixed could help things.\n",
    "\n",
    "- Notice how the variable names are separated and then they have these numerical values in them (as if the person constructing the data wanted to help us by telling us the column number). We could simply slice the data set accordingly, or we could change the column names in a simpler way. Lets follow the later approach.\n",
    "\n",
    "- Second, notice that the \"order store id 1\" value gives us a order number (note how one order has several entries) and then store id. This dataset has only one store and thus we may want to get rid of that, this will leave us with a numerical value which will index each oder that we could exploit.\n",
    "\n",
    "Lets solve each of these issues in turn."
   ]
  },
  {
   "cell_type": "code",
   "execution_count": 5,
   "metadata": {
    "collapsed": true
   },
   "outputs": [],
   "source": [
    "# One way to fix the names is just to rename them by hand like this...\n",
    "\n",
    "#new_name_list = [\"order_id\", \"quantity\", \"item_name\", \"choice_desc\", \"item_price\"]\n",
    "\n",
    "#chp.columns = new_name_list"
   ]
  },
  {
   "cell_type": "code",
   "execution_count": 6,
   "metadata": {},
   "outputs": [
    {
     "data": {
      "text/plain": [
       "'order_store_id'"
      ]
     },
     "execution_count": 6,
     "metadata": {},
     "output_type": "execute_result"
    }
   ],
   "source": [
    "# Another way is to use string methods on the column names and create something more usable.\n",
    "# Here is a test run, what does this do?\n",
    "\n",
    "test = \"order store id 1\"\n",
    "\n",
    "test.rsplit(maxsplit=1)[0].replace(\" \",\"_\")\n",
    "\n",
    "# So this splits the string into a list. The max split doess...\n",
    "# Then the bracket says, take the first entry.\n",
    "# Then the next part says replace the space with an underscore,\n",
    "# this will help us call a column name more easily.\n",
    "\n",
    "# What if we did not have max split?\n"
   ]
  },
  {
   "cell_type": "code",
   "execution_count": 7,
   "metadata": {},
   "outputs": [
    {
     "data": {
      "text/html": [
       "<div>\n",
       "<style scoped>\n",
       "    .dataframe tbody tr th:only-of-type {\n",
       "        vertical-align: middle;\n",
       "    }\n",
       "\n",
       "    .dataframe tbody tr th {\n",
       "        vertical-align: top;\n",
       "    }\n",
       "\n",
       "    .dataframe thead th {\n",
       "        text-align: right;\n",
       "    }\n",
       "</style>\n",
       "<table border=\"1\" class=\"dataframe\">\n",
       "  <thead>\n",
       "    <tr style=\"text-align: right;\">\n",
       "      <th></th>\n",
       "      <th>order_store_id</th>\n",
       "      <th>quantity</th>\n",
       "      <th>item_name</th>\n",
       "      <th>choice_description</th>\n",
       "      <th>item_price</th>\n",
       "    </tr>\n",
       "  </thead>\n",
       "  <tbody>\n",
       "    <tr>\n",
       "      <th>0</th>\n",
       "      <td>1 Bucks County</td>\n",
       "      <td>1</td>\n",
       "      <td>Chips and Fresh Tomato Salsa</td>\n",
       "      <td>NaN</td>\n",
       "      <td>$2.39</td>\n",
       "    </tr>\n",
       "    <tr>\n",
       "      <th>1</th>\n",
       "      <td>1 Bucks County</td>\n",
       "      <td>1</td>\n",
       "      <td>Izze</td>\n",
       "      <td>[Clementine]</td>\n",
       "      <td>$3.39</td>\n",
       "    </tr>\n",
       "    <tr>\n",
       "      <th>2</th>\n",
       "      <td>1 Bucks County</td>\n",
       "      <td>1</td>\n",
       "      <td>Nantucket Nectar</td>\n",
       "      <td>[Apple]</td>\n",
       "      <td>$3.39</td>\n",
       "    </tr>\n",
       "    <tr>\n",
       "      <th>3</th>\n",
       "      <td>1 Bucks County</td>\n",
       "      <td>1</td>\n",
       "      <td>Chips and Tomatillo-Green Chili Salsa</td>\n",
       "      <td>NaN</td>\n",
       "      <td>$2.39</td>\n",
       "    </tr>\n",
       "    <tr>\n",
       "      <th>4</th>\n",
       "      <td>2 Bucks County</td>\n",
       "      <td>2</td>\n",
       "      <td>Chicken Bowl</td>\n",
       "      <td>[Tomatillo-Red Chili Salsa (Hot), [Black Beans...</td>\n",
       "      <td>$16.98</td>\n",
       "    </tr>\n",
       "  </tbody>\n",
       "</table>\n",
       "</div>"
      ],
      "text/plain": [
       "   order_store_id  quantity                              item_name  \\\n",
       "0  1 Bucks County         1          Chips and Fresh Tomato Salsa    \n",
       "1  1 Bucks County         1                                   Izze   \n",
       "2  1 Bucks County         1                       Nantucket Nectar   \n",
       "3  1 Bucks County         1  Chips and Tomatillo-Green Chili Salsa   \n",
       "4  2 Bucks County         2                           Chicken Bowl   \n",
       "\n",
       "                                  choice_description item_price  \n",
       "0                                                NaN     $2.39   \n",
       "1                                       [Clementine]     $3.39   \n",
       "2                                            [Apple]     $3.39   \n",
       "3                                                NaN     $2.39   \n",
       "4  [Tomatillo-Red Chili Salsa (Hot), [Black Beans...    $16.98   "
      ]
     },
     "execution_count": 7,
     "metadata": {},
     "output_type": "execute_result"
    }
   ],
   "source": [
    "# Now lets fix this all up for the data from\n",
    "new_name_list = []\n",
    "\n",
    "for var in chp.columns:\n",
    "    new_name_list.append(var.rsplit(maxsplit=1)[0].replace(\" \",\"_\"))\n",
    "    \n",
    "# How would you do this in list comprehension format...\n",
    "    \n",
    "# Then rename everything...\n",
    "\n",
    "chp.columns = new_name_list\n",
    "\n",
    "chp.head()    "
   ]
  },
  {
   "cell_type": "markdown",
   "metadata": {},
   "source": [
    "Great work!\n",
    "\n",
    "So this fixed some issues with the columns, lets use the same idea to fix the issue with the order store id, so get the \"Bucks County\" out of there."
   ]
  },
  {
   "cell_type": "code",
   "execution_count": 8,
   "metadata": {},
   "outputs": [
    {
     "name": "stdout",
     "output_type": "stream",
     "text": [
      "<class 'str'>\n",
      "<class 'float'>\n"
     ]
    }
   ],
   "source": [
    "# Again, lets test this out...\n",
    "\n",
    "# Step one, pull off the number...\n",
    "\n",
    "test = \"1 Bucks County\"\n",
    "test2 = test.rsplit()[0] # same idea, don't use the max split option....\n",
    "\n",
    "print(type(test2)) # I want this numerical, but its not...\n",
    "\n",
    "# Step two, convert to floating point...\n",
    "\n",
    "test2 = float(test2)\n",
    "print(type(test2))"
   ]
  },
  {
   "cell_type": "markdown",
   "metadata": {},
   "source": [
    "This gives a general idea to fixing the the order numbers. Here is the one trick, some of these operations have a different syntax since we will be operating on a dataframe object, not string object. To perform this operation, we need to use **Pandas string methods.** We can do the same thing to all the observations of a variable with so-called string methods. We append `.str` to a variable in a dataframe and then apply the string method of our choice. If this is part of converting a number-like entry that has mistakenly been given `dtype` object, we then convert its `dtype` with the `astype` method."
   ]
  },
  {
   "cell_type": "code",
   "execution_count": 9,
   "metadata": {
    "collapsed": true
   },
   "outputs": [],
   "source": [
    "chp.head()\n",
    "chp.columns\n",
    "chp.order_store_id.head()\n",
    "\n",
    "# Just to verify we are doing what we think we are...\n",
    "\n",
    "chp.order_store_id = chp.order_store_id.str.rsplit().str[0].astype(int)\n",
    "\n",
    "# Note that we need two str's here: one to do the split, the other to extract the first element.\n",
    "# Then the last part of the code `astype` converts it to a string...\n",
    "# note nothing changes unless we reassign everything. "
   ]
  },
  {
   "cell_type": "code",
   "execution_count": 10,
   "metadata": {},
   "outputs": [
    {
     "data": {
      "text/html": [
       "<div>\n",
       "<style scoped>\n",
       "    .dataframe tbody tr th:only-of-type {\n",
       "        vertical-align: middle;\n",
       "    }\n",
       "\n",
       "    .dataframe tbody tr th {\n",
       "        vertical-align: top;\n",
       "    }\n",
       "\n",
       "    .dataframe thead th {\n",
       "        text-align: right;\n",
       "    }\n",
       "</style>\n",
       "<table border=\"1\" class=\"dataframe\">\n",
       "  <thead>\n",
       "    <tr style=\"text-align: right;\">\n",
       "      <th></th>\n",
       "      <th>order_store_id</th>\n",
       "      <th>quantity</th>\n",
       "      <th>item_name</th>\n",
       "      <th>choice_description</th>\n",
       "      <th>item_price</th>\n",
       "    </tr>\n",
       "  </thead>\n",
       "  <tbody>\n",
       "    <tr>\n",
       "      <th>0</th>\n",
       "      <td>1</td>\n",
       "      <td>1</td>\n",
       "      <td>Chips and Fresh Tomato Salsa</td>\n",
       "      <td>NaN</td>\n",
       "      <td>$2.39</td>\n",
       "    </tr>\n",
       "    <tr>\n",
       "      <th>1</th>\n",
       "      <td>1</td>\n",
       "      <td>1</td>\n",
       "      <td>Izze</td>\n",
       "      <td>[Clementine]</td>\n",
       "      <td>$3.39</td>\n",
       "    </tr>\n",
       "    <tr>\n",
       "      <th>2</th>\n",
       "      <td>1</td>\n",
       "      <td>1</td>\n",
       "      <td>Nantucket Nectar</td>\n",
       "      <td>[Apple]</td>\n",
       "      <td>$3.39</td>\n",
       "    </tr>\n",
       "    <tr>\n",
       "      <th>3</th>\n",
       "      <td>1</td>\n",
       "      <td>1</td>\n",
       "      <td>Chips and Tomatillo-Green Chili Salsa</td>\n",
       "      <td>NaN</td>\n",
       "      <td>$2.39</td>\n",
       "    </tr>\n",
       "    <tr>\n",
       "      <th>4</th>\n",
       "      <td>2</td>\n",
       "      <td>2</td>\n",
       "      <td>Chicken Bowl</td>\n",
       "      <td>[Tomatillo-Red Chili Salsa (Hot), [Black Beans...</td>\n",
       "      <td>$16.98</td>\n",
       "    </tr>\n",
       "    <tr>\n",
       "      <th>5</th>\n",
       "      <td>3</td>\n",
       "      <td>1</td>\n",
       "      <td>Chicken Bowl</td>\n",
       "      <td>[Fresh Tomato Salsa (Mild), [Rice, Cheese, Sou...</td>\n",
       "      <td>$10.98</td>\n",
       "    </tr>\n",
       "    <tr>\n",
       "      <th>6</th>\n",
       "      <td>3</td>\n",
       "      <td>1</td>\n",
       "      <td>Side of Chips</td>\n",
       "      <td>NaN</td>\n",
       "      <td>$1.69</td>\n",
       "    </tr>\n",
       "    <tr>\n",
       "      <th>7</th>\n",
       "      <td>4</td>\n",
       "      <td>1</td>\n",
       "      <td>Steak Burrito</td>\n",
       "      <td>[Tomatillo Red Chili Salsa, [Fajita Vegetables...</td>\n",
       "      <td>$11.75</td>\n",
       "    </tr>\n",
       "    <tr>\n",
       "      <th>8</th>\n",
       "      <td>4</td>\n",
       "      <td>1</td>\n",
       "      <td>Steak Soft Tacos</td>\n",
       "      <td>[Tomatillo Green Chili Salsa, [Pinto Beans, Ch...</td>\n",
       "      <td>$9.25</td>\n",
       "    </tr>\n",
       "    <tr>\n",
       "      <th>9</th>\n",
       "      <td>5</td>\n",
       "      <td>1</td>\n",
       "      <td>Steak Burrito</td>\n",
       "      <td>[Fresh Tomato Salsa, [Rice, Black Beans, Pinto...</td>\n",
       "      <td>$9.25</td>\n",
       "    </tr>\n",
       "    <tr>\n",
       "      <th>10</th>\n",
       "      <td>5</td>\n",
       "      <td>1</td>\n",
       "      <td>Chips and Guacamole</td>\n",
       "      <td>NaN</td>\n",
       "      <td>$4.45</td>\n",
       "    </tr>\n",
       "    <tr>\n",
       "      <th>11</th>\n",
       "      <td>6</td>\n",
       "      <td>1</td>\n",
       "      <td>Chicken Crispy Tacos</td>\n",
       "      <td>[Roasted Chili Corn Salsa, [Fajita Vegetables,...</td>\n",
       "      <td>$8.75</td>\n",
       "    </tr>\n",
       "    <tr>\n",
       "      <th>12</th>\n",
       "      <td>6</td>\n",
       "      <td>1</td>\n",
       "      <td>Chicken Soft Tacos</td>\n",
       "      <td>[Roasted Chili Corn Salsa, [Rice, Black Beans,...</td>\n",
       "      <td>$8.75</td>\n",
       "    </tr>\n",
       "    <tr>\n",
       "      <th>13</th>\n",
       "      <td>7</td>\n",
       "      <td>1</td>\n",
       "      <td>Chicken Bowl</td>\n",
       "      <td>[Fresh Tomato Salsa, [Fajita Vegetables, Rice,...</td>\n",
       "      <td>$11.25</td>\n",
       "    </tr>\n",
       "    <tr>\n",
       "      <th>14</th>\n",
       "      <td>7</td>\n",
       "      <td>1</td>\n",
       "      <td>Chips and Guacamole</td>\n",
       "      <td>NaN</td>\n",
       "      <td>$4.45</td>\n",
       "    </tr>\n",
       "    <tr>\n",
       "      <th>15</th>\n",
       "      <td>8</td>\n",
       "      <td>1</td>\n",
       "      <td>Chips and Tomatillo-Green Chili Salsa</td>\n",
       "      <td>NaN</td>\n",
       "      <td>$2.39</td>\n",
       "    </tr>\n",
       "    <tr>\n",
       "      <th>16</th>\n",
       "      <td>8</td>\n",
       "      <td>1</td>\n",
       "      <td>Chicken Burrito</td>\n",
       "      <td>[Tomatillo-Green Chili Salsa (Medium), [Pinto ...</td>\n",
       "      <td>$8.49</td>\n",
       "    </tr>\n",
       "    <tr>\n",
       "      <th>17</th>\n",
       "      <td>9</td>\n",
       "      <td>1</td>\n",
       "      <td>Chicken Burrito</td>\n",
       "      <td>[Fresh Tomato Salsa (Mild), [Black Beans, Rice...</td>\n",
       "      <td>$8.49</td>\n",
       "    </tr>\n",
       "    <tr>\n",
       "      <th>18</th>\n",
       "      <td>9</td>\n",
       "      <td>2</td>\n",
       "      <td>Canned Soda</td>\n",
       "      <td>[Sprite]</td>\n",
       "      <td>$2.18</td>\n",
       "    </tr>\n",
       "    <tr>\n",
       "      <th>19</th>\n",
       "      <td>10</td>\n",
       "      <td>1</td>\n",
       "      <td>Chicken Bowl</td>\n",
       "      <td>[Tomatillo Red Chili Salsa, [Fajita Vegetables...</td>\n",
       "      <td>$8.75</td>\n",
       "    </tr>\n",
       "  </tbody>\n",
       "</table>\n",
       "</div>"
      ],
      "text/plain": [
       "    order_store_id  quantity                              item_name  \\\n",
       "0                1         1          Chips and Fresh Tomato Salsa    \n",
       "1                1         1                                   Izze   \n",
       "2                1         1                       Nantucket Nectar   \n",
       "3                1         1  Chips and Tomatillo-Green Chili Salsa   \n",
       "4                2         2                           Chicken Bowl   \n",
       "5                3         1                           Chicken Bowl   \n",
       "6                3         1                          Side of Chips   \n",
       "7                4         1                          Steak Burrito   \n",
       "8                4         1                       Steak Soft Tacos   \n",
       "9                5         1                          Steak Burrito   \n",
       "10               5         1                    Chips and Guacamole   \n",
       "11               6         1                   Chicken Crispy Tacos   \n",
       "12               6         1                     Chicken Soft Tacos   \n",
       "13               7         1                           Chicken Bowl   \n",
       "14               7         1                    Chips and Guacamole   \n",
       "15               8         1  Chips and Tomatillo-Green Chili Salsa   \n",
       "16               8         1                        Chicken Burrito   \n",
       "17               9         1                        Chicken Burrito   \n",
       "18               9         2                            Canned Soda   \n",
       "19              10         1                           Chicken Bowl   \n",
       "\n",
       "                                   choice_description item_price  \n",
       "0                                                 NaN     $2.39   \n",
       "1                                        [Clementine]     $3.39   \n",
       "2                                             [Apple]     $3.39   \n",
       "3                                                 NaN     $2.39   \n",
       "4   [Tomatillo-Red Chili Salsa (Hot), [Black Beans...    $16.98   \n",
       "5   [Fresh Tomato Salsa (Mild), [Rice, Cheese, Sou...    $10.98   \n",
       "6                                                 NaN     $1.69   \n",
       "7   [Tomatillo Red Chili Salsa, [Fajita Vegetables...    $11.75   \n",
       "8   [Tomatillo Green Chili Salsa, [Pinto Beans, Ch...     $9.25   \n",
       "9   [Fresh Tomato Salsa, [Rice, Black Beans, Pinto...     $9.25   \n",
       "10                                                NaN     $4.45   \n",
       "11  [Roasted Chili Corn Salsa, [Fajita Vegetables,...     $8.75   \n",
       "12  [Roasted Chili Corn Salsa, [Rice, Black Beans,...     $8.75   \n",
       "13  [Fresh Tomato Salsa, [Fajita Vegetables, Rice,...    $11.25   \n",
       "14                                                NaN     $4.45   \n",
       "15                                                NaN     $2.39   \n",
       "16  [Tomatillo-Green Chili Salsa (Medium), [Pinto ...     $8.49   \n",
       "17  [Fresh Tomato Salsa (Mild), [Black Beans, Rice...     $8.49   \n",
       "18                                           [Sprite]     $2.18   \n",
       "19  [Tomatillo Red Chili Salsa, [Fajita Vegetables...     $8.75   "
      ]
     },
     "execution_count": 10,
     "metadata": {},
     "output_type": "execute_result"
    }
   ],
   "source": [
    "chp.head(20)"
   ]
  },
  {
   "cell_type": "code",
   "execution_count": 11,
   "metadata": {},
   "outputs": [
    {
     "name": "stdout",
     "output_type": "stream",
     "text": [
      "Variable dtypes:\n",
      "order_store_id         int32\n",
      "quantity               int64\n",
      "item_name             object\n",
      "choice_description    object\n",
      "item_price            object\n",
      "dtype: object\n"
     ]
    }
   ],
   "source": [
    "print(\"Variable dtypes:\\n\", chp.dtypes, sep='')"
   ]
  },
  {
   "cell_type": "markdown",
   "metadata": {},
   "source": [
    "Great work. We now have a numerical value for each order number. Key lesson from this was using `.str` on the dataframe to used string methods on individual entries."
   ]
  },
  {
   "cell_type": "markdown",
   "metadata": {},
   "source": [
    "#### Issue #3: Numerical data is contaminated by commas (marking thousands); dollar signs; other non-numerical values, etc.\n",
    "\n",
    "We sorted out issue with labels on the rows and columns. We still have the following issue that the item price is not a numerical value. Check above, the type of `item_price` is an object, not a float. If we want to do some kind of numerical calculation on this, then we need to convert it.\n",
    "\n",
    "**Why is `item_price` not a numerical value?** ITs those dam dollar signs. Someone put them their thinking they were being helpful, but it is giving us a headache. \n",
    "\n",
    "**How do we fix it?** Dude, in a very similar way above."
   ]
  },
  {
   "cell_type": "code",
   "execution_count": 12,
   "metadata": {},
   "outputs": [
    {
     "data": {
      "text/plain": [
       "0     2.39 \n",
       "1     3.39 \n",
       "2     3.39 \n",
       "3     2.39 \n",
       "4    16.98 \n",
       "Name: item_price, dtype: object"
      ]
     },
     "execution_count": 12,
     "metadata": {},
     "output_type": "execute_result"
    }
   ],
   "source": [
    "chp.item_price.head()\n",
    "\n",
    "chp.item_price.str.replace(\"$\",\"\").head()\n",
    "\n",
    "# So notice how this got the dollar sign out of there. We still have one more issue.\n",
    "# That the type is still not a floating point value, so lets convert it.\n",
    "\n",
    "#chp.item_price = chp.item_price.str.replace(\"$\",\"\").astype(float)\n",
    "\n",
    "## Why is this not working??????"
   ]
  },
  {
   "cell_type": "code",
   "execution_count": 13,
   "metadata": {},
   "outputs": [
    {
     "data": {
      "text/plain": [
       "453    gift card\n",
       "454    gift card\n",
       "448    gift card\n",
       "449    gift card\n",
       "450    gift card\n",
       "451    gift card\n",
       "452    gift card\n",
       "455    gift card\n",
       "405       $9.25 \n",
       "237       $9.25 \n",
       "207       $9.25 \n",
       "184       $9.25 \n",
       "181       $9.25 \n",
       "219       $9.25 \n",
       "222       $9.25 \n",
       "444       $9.25 \n",
       "236       $9.25 \n",
       "239       $9.25 \n",
       "127       $9.25 \n",
       "421       $9.25 \n",
       "Name: item_price, dtype: object"
      ]
     },
     "execution_count": 13,
     "metadata": {},
     "output_type": "execute_result"
    }
   ],
   "source": [
    "chp.item_price.sort_values(ascending=False).head(20)\n",
    "# Lets order stuff to see what is going on, \n",
    "# The error above is saying there is something\n",
    "# in the dataset called gift card..."
   ]
  },
  {
   "cell_type": "markdown",
   "metadata": {},
   "source": [
    "The issue is that while we did replace the dollar sign, we could not convert the column to a floating point number because there were some entries in the column that are not numbers. So Python/Pandas kicks back an error. How do we do this? The natural way to do this is to replace all these entries with a `NaN` value. \n",
    "\n",
    "Below is another method (not a string) to replace whole entries and assign them an missing value. (This will set us up for the next issue. "
   ]
  },
  {
   "cell_type": "code",
   "execution_count": 14,
   "metadata": {},
   "outputs": [
    {
     "data": {
      "text/plain": [
       "184    9.25 \n",
       "181    9.25 \n",
       "145    9.25 \n",
       "127    9.25 \n",
       "285    9.25 \n",
       "121    9.25 \n",
       "286    9.25 \n",
       "293    9.25 \n",
       "108    9.25 \n",
       "95     9.25 \n",
       "405    9.25 \n",
       "499    9.25 \n",
       "448      NaN\n",
       "449      NaN\n",
       "450      NaN\n",
       "451      NaN\n",
       "452      NaN\n",
       "453      NaN\n",
       "454      NaN\n",
       "455      NaN\n",
       "Name: item_price, dtype: object"
      ]
     },
     "execution_count": 14,
     "metadata": {},
     "output_type": "execute_result"
    }
   ],
   "source": [
    "chp.item_price = chp.item_price.str.replace(\"$\",\"\")\n",
    "# Fix the dollar sign stuff first...\n",
    "\n",
    "chp.item_price = chp.item_price.replace(to_replace=[\"gift card\"], value=[np.nan])\n",
    "# So lets walk through what this does, it takes the column, then uses the replace \n",
    "# comand, to_replace = [\"what we want to replace\"], then the value\n",
    "# that we want to replace it with. We are goning to use the numpy NaN value\n",
    "# which the dataframe will proplerly recognice as not a number.\n",
    "\n",
    "# Note this could be a huge pain if there were differing random \n",
    "# strings floating around.\n",
    "\n",
    "chp.item_price.sort_values(ascending=True).tail(20)\n"
   ]
  },
  {
   "cell_type": "code",
   "execution_count": 15,
   "metadata": {},
   "outputs": [
    {
     "name": "stdout",
     "output_type": "stream",
     "text": [
      "Variable dtypes:\n",
      "order_store_id          int32\n",
      "quantity                int64\n",
      "item_name              object\n",
      "choice_description     object\n",
      "item_price            float64\n",
      "dtype: object\n"
     ]
    }
   ],
   "source": [
    "chp.item_price = chp.item_price.astype(float)\n",
    "# Now convert it to a floating point number.\n",
    "\n",
    "print(\"Variable dtypes:\\n\", chp.dtypes, sep='')\n"
   ]
  },
  {
   "cell_type": "markdown",
   "metadata": {},
   "source": [
    "###### Comment\n",
    "\n",
    "Unlike the string methods we described earlier, this use of replace affects **complete entries**, not **elements of string entries**. For example, suppose we tried to replace the periods in decimal numbers with an asterisk. We could try the following, but it doesn't work: the decimal numbers don't change."
   ]
  },
  {
   "cell_type": "markdown",
   "metadata": {},
   "source": [
    "#### Issue #4: Missing values are marked erratically.\n",
    "\n",
    "It's important to label missing values, so that Pandas doesn't interpret entries as strings. Pandas is also smart enough to ignore things labeled missing when it does calculations or graphs. If we compute, for example, the mean of a variable, the default is to ignore missing values.\n",
    "\n",
    "We've seen that we can label certain entries as missing values in read statements:  read_csv, read_excel, and so on. Moreover, in the operations above, we showed how to take entries that were hard to make sense of and called them missing values using the `replace` command and `np.nan`.\n",
    "\n",
    "**Working with missing values** Here are some operations we can do..."
   ]
  },
  {
   "cell_type": "code",
   "execution_count": 16,
   "metadata": {},
   "outputs": [
    {
     "data": {
      "text/plain": [
       "448    195\n",
       "449    195\n",
       "450    195\n",
       "451    195\n",
       "452    195\n",
       "453    195\n",
       "454    195\n",
       "455    195\n",
       "Name: order_store_id, dtype: int32"
      ]
     },
     "execution_count": 16,
     "metadata": {},
     "output_type": "execute_result"
    }
   ],
   "source": [
    "chp.order_store_id[chp.item_price.isnull()]\n",
    "# These are the order numbers with null values"
   ]
  },
  {
   "cell_type": "markdown",
   "metadata": {},
   "source": [
    "The next command of use is `.dropna` The one thing to note is that Pandas (when it computes things or plots) automatically drops stuff. So here is an example, the mean with the NaNs there and the mean without. They are the same."
   ]
  },
  {
   "cell_type": "code",
   "execution_count": 17,
   "metadata": {},
   "outputs": [
    {
     "name": "stdout",
     "output_type": "stream",
     "text": [
      "7.454735772357705\n",
      "7.454735772357705\n"
     ]
    }
   ],
   "source": [
    "print(chp.item_price.dropna().mean())\n",
    "print(chp.item_price.mean())"
   ]
  },
  {
   "cell_type": "markdown",
   "metadata": {},
   "source": [
    "### Some Analysis\n",
    "\n",
    "Now that we have our data set clean, lets just do a couple of things to check it out. This excercise will further reinforce our skills and we will get to practice `groupby` and `contains` a string method in Pandas on the clean dataset."
   ]
  },
  {
   "cell_type": "markdown",
   "metadata": {},
   "source": [
    "#### What does a Typical Order Look Like?\n",
    "\n",
    "Here lets `groupby` our oder number (that we worked so hard to clean), then compute the number of items and average cost..."
   ]
  },
  {
   "cell_type": "code",
   "execution_count": 18,
   "metadata": {},
   "outputs": [
    {
     "name": "stdout",
     "output_type": "stream",
     "text": [
      "Average Oder Size 2.0 Items\n",
      "Average Cost of Order 15.7 Dollars\n"
     ]
    }
   ],
   "source": [
    "quant = chp.groupby(\"order_store_id\").quantity.sum()\n",
    "# Recall what groupby is doing, it is grouping all of the same order\n",
    "# numbers, and then groups the quantity by suming. So add up all\n",
    "# quantities within the order id.\n",
    "\n",
    "\n",
    "cost = chp.groupby(\"order_store_id\").item_price.sum()\n",
    "# Same thing, sum up all the values of the item prices...\n",
    "\n",
    "print(\"Average Oder Size\", round(quant.median(),2), \"Items\")\n",
    "\n",
    "print(\"Average Cost of Order\", round(cost.median(),2), \"Dollars\")"
   ]
  },
  {
   "cell_type": "markdown",
   "metadata": {},
   "source": [
    "So the median order has two items. And it costs about 16 dollars. Given my experience at Chipotle, this sounds reasonable. Lets delve a little deeper..."
   ]
  },
  {
   "cell_type": "markdown",
   "metadata": {
    "collapsed": true
   },
   "source": [
    "#### What is the price of Guacamole?\n",
    "\n",
    "Obviously we could just figure this out, but can we arrive at an estimate of Guacamole at Chipotle? Side note, I've noticed that Chipoltle imposes a \"no arbitrage\" condition on guacamole. That is if you order on the side, on a burrito, with chips, the extra cost for Guacamole is always the same; this makes sense...they don't want you ordering chips and guacamole to use the guacamole on your burrito or salad bowl. So they price it the same in all situations. \n",
    "\n",
    "For our perspective, what this suggests is that we could simply look at the cost of orders with guacamole and those without and that would provide an estimate of how much extra guacamole would cost. \n",
    "\n",
    "**Very deep question:** How might this approach fail? Quick answer, if the groups that select into purchasing guacamole systematically by different stuff, e.g. most people always like a soda or beer only when ordering guacamole, then a simple comparison of means will not reveal the cost of guacamole. In the example above, it will tells us about the cost of guacamole and beer.\n",
    "\n",
    "So how do we do this. We need to\n",
    "- `groupby` the items ordered\n",
    "- Find the orders that have guacamole in them (hint: use the `contains` command)\n",
    "- Perform a boolean operation to compute statistics for only those with guacamole in the order"
   ]
  },
  {
   "cell_type": "code",
   "execution_count": 20,
   "metadata": {},
   "outputs": [
    {
     "name": "stdout",
     "output_type": "stream",
     "text": [
      "Median Cost with Guacamole in Order  16.2\n",
      "Median Cost without Guacamole in Order  13.9\n"
     ]
    }
   ],
   "source": [
    "grouped = chp.groupby(\"order_store_id\")\n",
    "# Now here is another operation, we just gropuby without any specification. \n",
    "# It creates a `groupby` object, for which we can do things on....\n",
    "\n",
    "grouped.head()\n",
    "\n",
    "\n",
    "has_guac = grouped.item_name.agg(\"sum\")\n",
    "# Now this takes the groupby object\n",
    "# Then get the item name and ``adds'' them together\n",
    "# Note that here: we are adding together a string\n",
    "\n",
    "#print(has_guac.head())\n",
    "\n",
    "has_guac = has_guac.str.contains(\"Guacamole\")\n",
    "# Then we use the string method contains to pull out situations \n",
    "# That contain only Guacamole. \n",
    "# Why is this a not complete enumeration of when Guacamole shows up???\n",
    "\n",
    "# Here is a little test example showing what contains is exactly doing...\n",
    "# try it out...\n",
    "#test_str = {\"test\": [\"guacamolechips\"]} \n",
    "#test_str = pd.DataFrame(test_str)\n",
    "#test_str.test.str.contains(\"guac\")\n",
    "\n",
    "cost = grouped.item_price.sum()\n",
    "\n",
    "print(\"Median Cost with Guacamole in Order \", cost[(has_guac == True)].median())\n",
    "\n",
    "print(\"Median Cost without Guacamole in Order \",cost[(has_guac == False)].median())"
   ]
  },
  {
   "cell_type": "markdown",
   "metadata": {},
   "source": [
    "So this says that with the difference is about 2.30 dollars. I think this sounds about right (at least for NY) for the cost of a side of guacamole. I'll emphasize this point again, it is worth reflecting on situations when this type of analysis would fail AND what that would imply about ordering behavior. \n",
    "\n",
    "Just to practice plotting, lets do a quick histogram of different oder cost, conditional on ordering guacamole."
   ]
  },
  {
   "cell_type": "code",
   "execution_count": null,
   "metadata": {},
   "outputs": [],
   "source": [
    "fix, ax = plt.subplots(1,2)\n",
    "\n",
    "cost[(has_guac == True)].plot(kind = \"hist\", ax = ax[0], bins = 10)\n",
    "\n",
    "cost[(has_guac == False)].plot(kind = \"hist\", ax = ax[1], bins = 50)\n",
    "\n",
    "#ax.hist(cost[(has_guac == False)])\n",
    "\n",
    "ax[0].set_xlim(9,35)\n",
    "ax[1].set_xlim(9,35)\n",
    "\n",
    "ax[1].spines[\"right\"].set_visible(False)\n",
    "ax[1].spines[\"top\"].set_visible(False)\n",
    "\n",
    "ax[0].spines[\"right\"].set_visible(False)\n",
    "ax[0].spines[\"top\"].set_visible(False)\n",
    "\n",
    "ax[1].spines[\"right\"].set_visible(False)\n",
    "ax[1].spines[\"top\"].set_visible(False)\n",
    "\n",
    "plt.show()"
   ]
  },
  {
   "cell_type": "markdown",
   "metadata": {},
   "source": [
    "I raised this point above, there is an issue with how I'm computing if guacamole is in the order or not. Again, do you see why? How would you fix this?"
   ]
  },
  {
   "cell_type": "markdown",
   "metadata": {},
   "source": [
    "### Summary\n",
    "We've learned the following. we learned how to clean data dealing with several key issues: (i) Too much data (ii) rows, columns, or specific entries have contaminated data (iii) numerical values are contaminated and (iv) missing values. Then we quickly analyzed the Chipoltle data and practice the `gropuby` command and `contains` string method. Great work!\n",
    "\n",
    "- **For practice:** What if you did the same analysis on the whole data set? Is this as easy as simply changing `nrows = 500` and running it again? Why or why not?"
   ]
  },
  {
   "cell_type": "code",
   "execution_count": null,
   "metadata": {
    "collapsed": true
   },
   "outputs": [],
   "source": []
  }
 ],
 "metadata": {
  "anaconda-cloud": {},
  "kernelspec": {
   "display_name": "Python 3",
   "language": "python",
   "name": "python3"
  },
  "language_info": {
   "codemirror_mode": {
    "name": "ipython",
    "version": 3
   },
   "file_extension": ".py",
   "mimetype": "text/x-python",
   "name": "python",
   "nbconvert_exporter": "python",
   "pygments_lexer": "ipython3",
   "version": "3.6.1"
  }
 },
 "nbformat": 4,
 "nbformat_minor": 2
}
